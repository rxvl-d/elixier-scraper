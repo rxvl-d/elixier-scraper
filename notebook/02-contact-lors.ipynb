{
 "cells": [
  {
   "cell_type": "code",
   "execution_count": 1,
   "id": "aaccb376",
   "metadata": {},
   "outputs": [],
   "source": [
    "import pandas as pd\n",
    "import numpy as np_\n",
    "import json\n",
    "import re\n",
    "from matplotlib import pyplot as plt\n",
    "from tqdm import tqdm"
   ]
  },
  {
   "cell_type": "code",
   "execution_count": 2,
   "id": "81f17251",
   "metadata": {},
   "outputs": [],
   "source": [
    "def get_domain(url):\n",
    "    return re.match('https?://(.*?)(/|$).*', url).groups()[0]\n"
   ]
  },
  {
   "cell_type": "code",
   "execution_count": 3,
   "id": "ba5d4d26",
   "metadata": {},
   "outputs": [],
   "source": [
    "def save_to_csv(frequencies, name):\n",
    "    frequencies.to_frame().reset_index().rename(\n",
    "        columns={'index': 'domain', 0: 'frequency'}\n",
    "    ).to_csv(f'../data/{name}_lor_domains.csv', index_label='id')"
   ]
  },
  {
   "cell_type": "code",
   "execution_count": 4,
   "id": "5b5c3a12",
   "metadata": {},
   "outputs": [],
   "source": [
    "def read_from_csv(name):\n",
    "    pd.read_csv(f'../data/{name}_lor_domains.csv')"
   ]
  },
  {
   "cell_type": "markdown",
   "id": "aea5dd56",
   "metadata": {},
   "source": [
    "### Chemie"
   ]
  },
  {
   "cell_type": "code",
   "execution_count": 5,
   "id": "8368c0a0",
   "metadata": {},
   "outputs": [],
   "source": [
    "with open('../data/elixier_chemie_all.json', 'r')  as f:\n",
    "    chemie_json = json.load(f)"
   ]
  },
  {
   "cell_type": "code",
   "execution_count": 6,
   "id": "5e515b2e",
   "metadata": {},
   "outputs": [],
   "source": [
    "chemie_domain_frequencies = pd.Series([get_domain(u['url']) for u in chemie_json], name='url').value_counts()"
   ]
  },
  {
   "cell_type": "code",
   "execution_count": 7,
   "id": "e432ac3d",
   "metadata": {},
   "outputs": [
    {
     "data": {
      "text/plain": [
       "www.lehrer-online.de                    504\n",
       "media.sodis.de                          142\n",
       "www.seilnacht.com                        86\n",
       "daten.didaktikchemie.uni-bayreuth.de     51\n",
       "www.lingonetz.de                         46\n",
       "Name: url, dtype: int64"
      ]
     },
     "execution_count": 7,
     "metadata": {},
     "output_type": "execute_result"
    }
   ],
   "source": [
    "chemie_domain_frequencies.head()"
   ]
  },
  {
   "cell_type": "markdown",
   "id": "e27b4c50",
   "metadata": {},
   "source": [
    "### Physik"
   ]
  },
  {
   "cell_type": "code",
   "execution_count": 8,
   "id": "932b6b0c",
   "metadata": {},
   "outputs": [],
   "source": [
    "physik_df = pd.read_csv('../data/elixier_physics_all.csv')"
   ]
  },
  {
   "cell_type": "code",
   "execution_count": 9,
   "id": "01149ca5",
   "metadata": {},
   "outputs": [],
   "source": [
    "physik_domain_frequencies = physik_df.url.apply(get_domain).value_counts()"
   ]
  },
  {
   "cell_type": "code",
   "execution_count": 10,
   "id": "b1af315f",
   "metadata": {},
   "outputs": [
    {
     "data": {
      "text/plain": [
       "www.leifiphysik.de            822\n",
       "www.lehrer-online.de          636\n",
       "www.supra-lernplattform.de     92\n",
       "www.bildung-lsa.de             80\n",
       "media.sodis.de                 76\n",
       "Name: url, dtype: int64"
      ]
     },
     "execution_count": 10,
     "metadata": {},
     "output_type": "execute_result"
    }
   ],
   "source": [
    "physik_domain_frequencies.head()"
   ]
  },
  {
   "cell_type": "markdown",
   "id": "0a122e9f",
   "metadata": {},
   "source": [
    "### Combined"
   ]
  },
  {
   "cell_type": "code",
   "execution_count": 11,
   "id": "44ab65d6",
   "metadata": {},
   "outputs": [],
   "source": [
    "out = dict()\n",
    "for i in chemie_domain_frequencies.index:\n",
    "    out[i] = [chemie_domain_frequencies[i], 'chemie']\n",
    "    \n",
    "for i in physik_domain_frequencies.index:\n",
    "    if i in out:\n",
    "        out[i] = [out[i][0] + physik_domain_frequencies[i], 'physik+chemie']\n",
    "    else:\n",
    "        out[i] = [physik_domain_frequencies[i], 'physik']\n",
    "\n",
    "counts_domain = pd.DataFrame(out).transpose().rename(columns={0: 'count', 1: 'domain'}).sort_values(by='count', ascending=False)\n",
    "counts = counts_domain.reset_index().rename(columns={'index': 'url_domain'})"
   ]
  },
  {
   "cell_type": "code",
   "execution_count": 12,
   "id": "58135495",
   "metadata": {},
   "outputs": [
    {
     "data": {
      "text/html": [
       "<div>\n",
       "<style scoped>\n",
       "    .dataframe tbody tr th:only-of-type {\n",
       "        vertical-align: middle;\n",
       "    }\n",
       "\n",
       "    .dataframe tbody tr th {\n",
       "        vertical-align: top;\n",
       "    }\n",
       "\n",
       "    .dataframe thead th {\n",
       "        text-align: right;\n",
       "    }\n",
       "</style>\n",
       "<table border=\"1\" class=\"dataframe\">\n",
       "  <thead>\n",
       "    <tr style=\"text-align: right;\">\n",
       "      <th></th>\n",
       "      <th>url_domain</th>\n",
       "      <th>count</th>\n",
       "      <th>domain</th>\n",
       "    </tr>\n",
       "  </thead>\n",
       "  <tbody>\n",
       "    <tr>\n",
       "      <th>0</th>\n",
       "      <td>www.lehrer-online.de</td>\n",
       "      <td>1140</td>\n",
       "      <td>physik+chemie</td>\n",
       "    </tr>\n",
       "    <tr>\n",
       "      <th>1</th>\n",
       "      <td>www.leifiphysik.de</td>\n",
       "      <td>822</td>\n",
       "      <td>physik</td>\n",
       "    </tr>\n",
       "    <tr>\n",
       "      <th>2</th>\n",
       "      <td>media.sodis.de</td>\n",
       "      <td>218</td>\n",
       "      <td>physik+chemie</td>\n",
       "    </tr>\n",
       "    <tr>\n",
       "      <th>3</th>\n",
       "      <td>www.planet-schule.de</td>\n",
       "      <td>116</td>\n",
       "      <td>physik+chemie</td>\n",
       "    </tr>\n",
       "    <tr>\n",
       "      <th>4</th>\n",
       "      <td>www.supra-lernplattform.de</td>\n",
       "      <td>106</td>\n",
       "      <td>physik+chemie</td>\n",
       "    </tr>\n",
       "  </tbody>\n",
       "</table>\n",
       "</div>"
      ],
      "text/plain": [
       "                   url_domain count         domain\n",
       "0        www.lehrer-online.de  1140  physik+chemie\n",
       "1          www.leifiphysik.de   822         physik\n",
       "2              media.sodis.de   218  physik+chemie\n",
       "3        www.planet-schule.de   116  physik+chemie\n",
       "4  www.supra-lernplattform.de   106  physik+chemie"
      ]
     },
     "execution_count": 12,
     "metadata": {},
     "output_type": "execute_result"
    }
   ],
   "source": [
    "counts.head()"
   ]
  },
  {
   "cell_type": "code",
   "execution_count": 16,
   "id": "54e8c28d",
   "metadata": {},
   "outputs": [
    {
     "data": {
      "text/plain": [
       "['https://www.lehrer-online.de',\n",
       " 'https://www.leifiphysik.de',\n",
       " 'https://media.sodis.de',\n",
       " 'https://www.planet-schule.de',\n",
       " 'https://www.supra-lernplattform.de',\n",
       " 'https://www.lingonetz.de',\n",
       " 'https://www.seilnacht.com',\n",
       " 'https://de.wikipedia.org',\n",
       " 'https://www.bildung-lsa.de',\n",
       " 'https://www.zum.de',\n",
       " 'https://www.abi-physik.de',\n",
       " 'https://static.bildung-rp.de',\n",
       " 'https://daten.didaktikchemie.uni-bayreuth.de',\n",
       " 'https://www.komm-mach-mint.de',\n",
       " 'https://lernarchiv.bildung.hessen.de',\n",
       " 'https://www.lncu.de',\n",
       " 'https://www.chemieunterricht.de',\n",
       " 'https://www.heise.de',\n",
       " 'https://www.zauberhafte-physik.net',\n",
       " 'https://www.wissenschaftsjahr.de',\n",
       " 'https://digitallearninglab.de',\n",
       " 'https://mp3.bildung.hessen.de',\n",
       " 'https://www.dlr.de',\n",
       " 'https://primas.ph-freiburg.de',\n",
       " 'https://www.science-on-stage.de',\n",
       " 'https://www.schule-bw.de',\n",
       " 'https://www.esa.int',\n",
       " 'https://educ.ethz.ch',\n",
       " 'https://www.chemie-master.de',\n",
       " 'https://www.wissenschaft-schulen.de',\n",
       " 'https://www.forscher-online.de',\n",
       " 'https://www.tempolimit-lichtgeschwindigkeit.de',\n",
       " 'https://www.bildungsserver.de',\n",
       " 'https://www.ltam.lu',\n",
       " 'https://online-media.uni-marburg.de',\n",
       " 'https://blogs.helmholtz.de',\n",
       " 'https://physikaufgaben.de',\n",
       " 'https://physikforkids.de',\n",
       " 'https://mint-zirkel.de',\n",
       " 'https://www.bautschweb.de',\n",
       " 'https://www.umwelt-im-unterricht.de',\n",
       " 'https://sodis.de',\n",
       " 'https://www.unterrichtsmaterial-schule.de',\n",
       " 'https://www.dguv-lug.de',\n",
       " 'https://wiki.zum.de',\n",
       " 'https://www.meine-forscherwelt.de',\n",
       " 'https://medienportal.siemens-stiftung.org',\n",
       " 'https://www.mint-ec.de',\n",
       " 'https://www.schulentwicklung.nrw.de',\n",
       " 'https://melt.fwu.de',\n",
       " 'https://www.youtube.com',\n",
       " 'https://chids.online.uni-marburg.de',\n",
       " 'https://www.physikfuerkids.de',\n",
       " 'https://www.seilnacht.tuttlingen.com',\n",
       " 'https://www.walter-fendt.de',\n",
       " 'https://physik.uibk.ac.at',\n",
       " 'https://www.chempage.de',\n",
       " 'https://www.chemgapedia.de',\n",
       " 'https://www.physik-am-auto.de',\n",
       " 'https://mediaserve.kompetenzz.net',\n",
       " 'https://www.roentgenmuseum.de',\n",
       " 'https://www.ubz-stmk.at',\n",
       " 'https://virtuelle-experimente.de',\n",
       " 'https://wikis.zum.de',\n",
       " 'https://www.compass-project.eu',\n",
       " 'https://www.physik-schule.de',\n",
       " 'https://www.poleninderschule.de',\n",
       " 'https://www.u-helmich.de',\n",
       " 'https://lehrerfortbildung-bw.de',\n",
       " 'https://esero.de',\n",
       " 'https://www.xplora.org',\n",
       " 'https://www.geomar.de',\n",
       " 'https://www.didaktik.physik.uni-muenchen.de',\n",
       " 'https://www.bildungspartner.schulministerium.nrw.de',\n",
       " 'https://www.energie-macht-schule.de',\n",
       " 'https://www.educ.ethz.ch',\n",
       " 'https://www.me-vermitteln.de',\n",
       " 'https://www.max-wissen.de',\n",
       " 'https://www.kindernetz.de',\n",
       " 'https://www.fwu-mediathek.de',\n",
       " 'https://www.mybookmachine-online.de',\n",
       " 'https://www.zeitbild.de',\n",
       " 'https://platform.govie.de',\n",
       " 'https://www.genius-community.com',\n",
       " 'https://www.jugendtechnikschule.de',\n",
       " 'https://wissenschaftsjahr-2020.visionkino.de',\n",
       " 'https://idw-online.de',\n",
       " 'https://www.labbe.de',\n",
       " 'https://space2school.de',\n",
       " 'https://www.chemiekiste.de',\n",
       " 'https://www.helmholtz.de',\n",
       " 'https://www.fokus-biologische-vielfalt.de',\n",
       " 'https://material.kompetenzz.net',\n",
       " 'https://www.fwu-mediathek.com',\n",
       " 'https://www.chemieplanet.de',\n",
       " 'https://www.chemiedidaktik.uni-wuppertal.de',\n",
       " 'https://www.chemikus.de',\n",
       " 'https://www.medienwerkstatt-online.de',\n",
       " 'https://www.bimsev.de',\n",
       " 'https://physikunterricht-online.de',\n",
       " 'https://www.fis.uni-bonn.de',\n",
       " 'https://www.wilhelmpichler.at',\n",
       " 'https://www.johnkyrk.com',\n",
       " 'https://www.123chemie.de',\n",
       " 'https://www.mallig.eduvinet.de',\n",
       " 'https://www.uni-potsdam.de',\n",
       " 'https://bildungsserver.berlin-brandenburg.de',\n",
       " 'https://www.geo.de',\n",
       " 'https://www.chem2do.de',\n",
       " 'https://www.dhm.de',\n",
       " 'https://lcu.creos.de',\n",
       " 'https://quizacademy.de',\n",
       " 'https://www.teilchenwelt.de',\n",
       " 'https://dblay.de',\n",
       " 'https://www.medien-in-die-schule.de',\n",
       " 'https://www.informationszentrum-mobilfunk.de',\n",
       " 'https://steinphysik.de',\n",
       " 'https://funduino.de',\n",
       " 'https://www.lenntech.com',\n",
       " 'https://www.frustfrei-lernen.de',\n",
       " 'https://www.schulmediothek.de',\n",
       " 'https://www.swisseduc.ch',\n",
       " 'https://www.chemieseite.de',\n",
       " 'https://supermint.de',\n",
       " 'https://www.ipn.uni-kiel.de',\n",
       " 'https://www.tappel.mynetcologne.de',\n",
       " 'https://www.planet-wissen.de',\n",
       " 'https://www.safechemical.de',\n",
       " 'https://www.elektronik-kompendium.de',\n",
       " 'https://www.physik.uni-wuerzburg.de',\n",
       " 'https://www.ralf-woelfle.de',\n",
       " 'https://scheringstiftung.de',\n",
       " 'https://www.hamburger-bildungsserver.de',\n",
       " 'https://www.physikforkids.de',\n",
       " 'https://www.uni-mainz.de',\n",
       " 'https://www2.hu-berlin.de',\n",
       " 'https://www.wasserwissen.ruhr',\n",
       " 'https://www.schul-physik.de',\n",
       " 'https://www.holografie.com',\n",
       " 'https://calliope.cc',\n",
       " 'https://www.kidsweb.de',\n",
       " 'https://ddi.uni-wuppertal.de',\n",
       " 'https://www.klima-sucht-schutz.de',\n",
       " 'https://www.auditorix.de',\n",
       " 'https://www.krypto-im-advent.de',\n",
       " 'https://www.hanisauland.de',\n",
       " 'https://www.ulfkonrad.de',\n",
       " 'https://www.schulphysik.de',\n",
       " 'https://www.forphys.de',\n",
       " 'https://www.astronomie.de',\n",
       " 'https://marvin.sn.schule.de',\n",
       " 'https://bildungsserver.hamburg.de',\n",
       " 'https://www.blinde-kuh.de',\n",
       " 'https://jersey.uoregon.edu',\n",
       " 'https://www.nobelprize.org',\n",
       " 'https://www.jgiesen.de',\n",
       " 'https://echo.mpiwg-berlin.mpg.de',\n",
       " 'https://www.deutsche-biographie.de',\n",
       " 'https://www.lpm.uni-sb.de',\n",
       " 'https://www.wissen.swr.de',\n",
       " 'https://www.visualentities.com',\n",
       " 'https://lsvr12.kanti-frauenfeld.ch',\n",
       " 'https://www.swm.de',\n",
       " 'https://www.g-o.de',\n",
       " 'https://www.kis.uni-freiburg.de',\n",
       " 'https://www.virtphys.uni-bayreuth.de',\n",
       " 'https://de.wikibooks.org',\n",
       " 'https://www.lutz-clausnitzer.de',\n",
       " 'https://www.esero.de',\n",
       " 'https://www.organspende-info.de',\n",
       " 'https://www.kids-and-science.de',\n",
       " 'https://www.curriculab.de',\n",
       " 'https://www.bfs.de',\n",
       " 'https://www.welt.de',\n",
       " 'https://www.die-honigmacher.de',\n",
       " 'https://mascil.ph-freiburg.de',\n",
       " 'https://www.fwu.de',\n",
       " 'https://www.cac.cornell.edu',\n",
       " 'https://learnline.schulministerium.nrw.de',\n",
       " 'https://viamint.haw-hamburg.de',\n",
       " 'https://www.mint-digital.de',\n",
       " 'https://ivi-unterricht.de',\n",
       " 'https://library.thinkquest.org',\n",
       " 'https://ivi-education.de',\n",
       " 'https://lfmpublikationen.lfm-nrw.de',\n",
       " 'https://194.95.207.89',\n",
       " 'https://www.experimentalchemie.de',\n",
       " 'https://www2.sn.schule.de',\n",
       " 'https://www.chemie-schule.de',\n",
       " 'https://www.helles-koepfchen.de',\n",
       " 'https://matches2017.jimdo.com',\n",
       " 'https://www.lebensnaherchemieunterricht.de',\n",
       " 'https://www.tomchemie.de',\n",
       " 'https://unterrichten.zum.de',\n",
       " 'https://www.diebrennstoffzelle.de',\n",
       " 'https://www.chemieonline.de',\n",
       " 'https://www.netexperimente.de',\n",
       " 'https://www.chemie.uni-regensburg.de',\n",
       " 'https://www.chemie.schule',\n",
       " 'https://lexi-tv.de',\n",
       " 'https://netchemie.de',\n",
       " 'https://www.chem.qmw.ac.uk',\n",
       " 'https://www.cambridgesoft.com',\n",
       " 'https://www.scivit.de',\n",
       " 'https://www.lehrerweb.at',\n",
       " 'https://www.phynet.de',\n",
       " 'https://www.schulprojekt-mobilfunk.de',\n",
       " 'https://www.fiz-chemie.de',\n",
       " 'https://internet-abc.de',\n",
       " 'https://www.roro-seiten.de',\n",
       " 'https://plasticschool.de',\n",
       " 'https://www.dfg.de',\n",
       " 'https://www.esero.lu',\n",
       " 'https://evokids.de',\n",
       " 'https://www.meinunterricht.de',\n",
       " 'https://www.nlm.de',\n",
       " 'https://medienistik.files.wordpress.com',\n",
       " 'https://www.gruene-arbeitswelt.de',\n",
       " 'https://www.greenpeace.de',\n",
       " 'https://coding-for-tomorrow.de',\n",
       " 'https://www.mildenberger-verlag.de',\n",
       " 'https://naturdetektive.bfn.de',\n",
       " 'https://www.wdrmaus.de',\n",
       " 'https://www.haus-der-kleinen-forscher.de',\n",
       " 'https://www.nibis.de',\n",
       " 'https://www.tierchenwelt.de',\n",
       " 'https://www.archiraum.de',\n",
       " 'https://www.oeko.de',\n",
       " 'https://kworkquark.desy.de',\n",
       " 'https://www.azinet.com',\n",
       " 'https://www.beiki.de',\n",
       " 'https://www.lernhelfer.de',\n",
       " 'https://lernbausteine.energie-macht-schule.de',\n",
       " 'https://galileo.phys.virginia.edu',\n",
       " 'https://www.physikverstehen.de',\n",
       " 'https://www.philolex.de',\n",
       " 'https://teacher.scholastic.com',\n",
       " 'https://www.wdr.de',\n",
       " 'https://photojournal.jpl.nasa.gov',\n",
       " 'https://mars-sim.sourceforge.net',\n",
       " 'https://physikquiz.de',\n",
       " 'https://www.venuscope.de',\n",
       " 'https://www.br-online.de',\n",
       " 'https://columbuseye.uni-bonn.de',\n",
       " 'https://www.archive.org',\n",
       " 'https://teilchenzoo.desy.de',\n",
       " 'https://www.n-ergie.de',\n",
       " 'https://www.enso.info',\n",
       " 'https://tetfolio.fu-berlin.de',\n",
       " 'https://www.hr.de',\n",
       " 'https://www.bildungskreis-borken.de',\n",
       " 'https://www.mikroskopie.de',\n",
       " 'https://www.planetenlehrpfad-marburg.de',\n",
       " 'https://www.e-politik.de',\n",
       " 'https://www.physikdigital.de',\n",
       " 'https://www.bpb.de',\n",
       " 'https://www.ehretphysik.de',\n",
       " 'https://www.musik-im-unterricht.de',\n",
       " 'https://www.afs-musik.de',\n",
       " 'https://www.top-wetter.de',\n",
       " 'https://www.kiknet-kaffeezentrale.org',\n",
       " 'https://www.genesismission.org',\n",
       " 'https://www.phil-fak.uni-duesseldorf.de',\n",
       " 'https://kmap.eu',\n",
       " 'https://www.sternwarte-neumarkt.de',\n",
       " 'https://www.astro.uni-bonn.de',\n",
       " 'https://notes.ikg.rt.bw.schule.de',\n",
       " 'https://www.schlauerlernen.de',\n",
       " 'https://www.tu9.de',\n",
       " 'https://www.ihk-tecnopedia.de',\n",
       " 'https://www.schlauistwow.de',\n",
       " 'https://www.idn.uni-bremen.de',\n",
       " 'https://www.physi.uni-heidelberg.de',\n",
       " 'https://www.desy.de',\n",
       " 'https://www.besold.info',\n",
       " 'https://www.philo.de',\n",
       " 'https://www.meteoros.de',\n",
       " 'https://www.letsmakemusic.de',\n",
       " 'https://www.medizinfo.de',\n",
       " 'https://www.sehen.de',\n",
       " 'https://www.philosophie-woerterbuch.de',\n",
       " 'https://www.dwd.de',\n",
       " 'https://www.aatis.de',\n",
       " 'https://www.hyaden.de',\n",
       " 'https://www.ap.univie.ac.at',\n",
       " 'https://www.imst.ac.at',\n",
       " 'https://bib.gfz-potsdam.de',\n",
       " 'https://sternchenland.com',\n",
       " 'https://www.astronews.com',\n",
       " 'https://www.cotf.edu',\n",
       " 'https://www.iaea.org',\n",
       " 'https://www.weltderphysik.de',\n",
       " 'https://www.kornelius.de',\n",
       " 'https://sinus-transfer.uni-bayreuth.de',\n",
       " 'https://www.goethe.de',\n",
       " 'https://www.think-ing.de',\n",
       " 'https://www.eso.org',\n",
       " 'https://sonnenring.ast-ra.de',\n",
       " 'https://www.strom-online.ch',\n",
       " 'https://www.mediaculture-online.de',\n",
       " 'https://www.einsteingalerie.de',\n",
       " 'https://www.hea.de',\n",
       " 'https://ethz.ch',\n",
       " 'https://www.stefan-baumgartner.de',\n",
       " 'https://home.arcor.de',\n",
       " 'https://ne.lo-net2.de',\n",
       " 'https://www.ssk.de',\n",
       " 'https://www.tschernobyl-folgen.de',\n",
       " 'https://www.4teachers.de',\n",
       " 'https://www.physikquest.de',\n",
       " 'https://www.aao.gov.au',\n",
       " 'https://www.phyx.at',\n",
       " 'https://www.planetenprogramm.de',\n",
       " 'https://www.planetenweg.de',\n",
       " 'https://www.experiminta.de',\n",
       " 'https://www.gerdclasen.de',\n",
       " 'https://vimeo.com',\n",
       " 'https://junge-tueftler.de',\n",
       " 'https://www.seefunknetz.de',\n",
       " 'https://roentgenmuseum.de',\n",
       " 'https://www.planet-kerry.com',\n",
       " 'https://www.sternwarte-remscheid.de',\n",
       " 'https://www.kinderbuch-couch.de',\n",
       " 'https://www.physik.tu-berlin.de',\n",
       " 'https://www.gerhards.net',\n",
       " 'https://www.neunplaneten.de',\n",
       " 'https://edeos.org',\n",
       " 'https://physics.bu.edu',\n",
       " 'https://turing-bus.de',\n",
       " 'https://www.QuantumLab.de',\n",
       " 'https://www.physik-im-unterricht.de',\n",
       " 'https://didaktik.physik.hu-berlin.de',\n",
       " 'https://www.zukunft-der-energie.de',\n",
       " 'https://www.biologie-schule.de',\n",
       " 'https://maxplanckcinema.tumblr.com',\n",
       " 'https://www.learnwired.de',\n",
       " 'https://www.unterrichte-nachhilfe.de',\n",
       " 'https://raumzeit-podcast.de',\n",
       " 'https://www.quantenwelt.de',\n",
       " 'https://www3.sachsen.schule',\n",
       " 'https://www.christian-doppler.com',\n",
       " 'https://www.hydrogenlab.de',\n",
       " 'https://www.autenrieths.de',\n",
       " 'https://www.geogebra.org',\n",
       " 'https://www.zeit.de',\n",
       " 'https://astro.goblack.de',\n",
       " 'https://www.agcom.uni-bremen.de',\n",
       " 'https://naturwissenschaften.bildung-rp.de',\n",
       " 'https://www.mpe.mpg.de',\n",
       " 'https://apps.apple.com',\n",
       " 'https://www.physik-im-advent.de',\n",
       " 'https://dfg-science-tv.de',\n",
       " 'https://www.scheibler-web.de',\n",
       " 'https://www.interactivephysics.com',\n",
       " 'https://www.physics4you.de',\n",
       " 'https://www.uni-kassel.de',\n",
       " 'https://www.ethz.ch',\n",
       " 'https://teachers.web.cern.ch',\n",
       " 'https://phyphox.org',\n",
       " 'https://www.sternklar.de',\n",
       " 'https://astronomy.utfs.org',\n",
       " 'https://www.photonworld.de',\n",
       " 'https://www.uni-ulm.de',\n",
       " 'https://www.studimup-physik.de',\n",
       " 'https://www.klaus-tschira-stiftung.de',\n",
       " 'https://www.lesen-in-deutschland.de',\n",
       " 'https://www.algodoo.com',\n",
       " 'https://www.teilchenphysik.info',\n",
       " 'https://www.raumfahrer.net',\n",
       " 'https://www.ariss-eu.org',\n",
       " 'https://physik.blogspot.com',\n",
       " 'https://www.physikerboard.de',\n",
       " 'https://www.br.de',\n",
       " 'https://www.schremmer.de',\n",
       " 'https://www.martin-reuss.de',\n",
       " 'https://www.solarviews.com',\n",
       " 'https://www.atom4kids.net',\n",
       " 'https://www.sachsen.schule',\n",
       " 'https://ifatwww.et.uni-magdeburg.de',\n",
       " 'https://server.ifp.uni-bremen.de',\n",
       " 'https://campus.phbern.ch',\n",
       " 'https://www.mpg.de',\n",
       " 'https://www.elektronik-kurs.de',\n",
       " 'https://www.jpl.nasa.gov',\n",
       " 'https://www.erdsicht.de',\n",
       " 'https://www.lpb-bw.de',\n",
       " 'https://www.cecm.sfu.ca',\n",
       " 'https://www.turmair-gymnasium.de',\n",
       " 'https://www.iapht.unito.it',\n",
       " 'https://www.schulportal-thueringen.de',\n",
       " 'https://www.sails-project.eu',\n",
       " 'https://www.koopiworld.de',\n",
       " 'https://www.mikomma.de',\n",
       " 'https://www.wissenschaft-online.de',\n",
       " 'https://www.earlytechnicaleducation.org',\n",
       " 'https://www.redusoft.de',\n",
       " 'https://denkwerkstatt-physik.de',\n",
       " 'https://www.friedrich-verlag.de',\n",
       " 'https://www.wissenschaft-im-dialog.de',\n",
       " 'https://www.grund-wissen.de',\n",
       " 'https://www.brückenkurs-physik.de',\n",
       " 'https://www.jahr-des-lichts.de',\n",
       " 'https://www.radioaktive-strahlung.org',\n",
       " 'https://www.faszinationlicht.de',\n",
       " 'https://www.arbeitsblaetter-physik.de',\n",
       " 'https://afs-hessen.de',\n",
       " 'https://www.lexi-tv.de',\n",
       " 'https://www.frischabpresse.ch',\n",
       " 'https://www.edumedia-sciences.com',\n",
       " 'https://dibb.de',\n",
       " 'https://www.chemie.com',\n",
       " 'https://www.chemie-macht-spass.de',\n",
       " 'https://www.chemieunterricht-interaktiv.de',\n",
       " 'https://www.chemie-im-alltag.de',\n",
       " 'https://lncu.de',\n",
       " 'https://www.chemikerboard.de',\n",
       " 'https://www.chemie-award.de',\n",
       " 'https://www.ase.org.uk',\n",
       " 'https://www.lenntech.de',\n",
       " 'https://de.serlo.org',\n",
       " 'https://www.ice.mpg.de',\n",
       " 'https://www.sinus.lernnetz.de',\n",
       " 'https://experimentas.de',\n",
       " 'https://www.Chemie-Lernprogramme.de',\n",
       " 'https://dbs.schule.de',\n",
       " 'https://ch.eduhi.at',\n",
       " 'https://www.chemie.de',\n",
       " 'https://www.hamm-chemie.de',\n",
       " 'https://unterricht.schule',\n",
       " 'https://www.dechemax.de',\n",
       " 'https://www.chids.de',\n",
       " 'https://www.chemieideen.net',\n",
       " 'https://www.ptable.com',\n",
       " 'https://www.mypse.de',\n",
       " 'https://www.studimup-chemie.de',\n",
       " 'https://treibstoffe.wordpress.com',\n",
       " 'https://www.chemieexperimente.de.vu',\n",
       " 'https://www.lernort-mint.de',\n",
       " 'https://www.chemieexperimente.de',\n",
       " 'https://www.lehrer.uni-karlsruhe.de',\n",
       " 'https://www.fys-online.de',\n",
       " 'https://www.uibk.ac.at',\n",
       " 'https://123chemie.iprendo.de',\n",
       " 'https://www.sinus-transfer.de',\n",
       " 'https://www.lebensmittelzusatzstoffe.de',\n",
       " 'https://www.allgemeinbildung.ch',\n",
       " 'https://www.kd-chemie.de',\n",
       " 'https://www.chemie-interaktiv.net',\n",
       " 'https://hoffmeister.it',\n",
       " 'https://lms.bildung-rp.de',\n",
       " 'https://www2.chemie.uni-erlangen.de',\n",
       " 'https://ch.schule.at',\n",
       " 'https://www.guidobauersachs.de',\n",
       " 'https://chemfinder.cambridgesoft.com',\n",
       " 'https://www.brennstoffzelle-hessen.de',\n",
       " 'https://www.bionet.schule.de',\n",
       " 'https://www.newton.dep.anl.gov',\n",
       " 'https://www.nyu.edu',\n",
       " 'https://www.chemius.de.vu',\n",
       " 'https://www.myPSE.de.vu',\n",
       " 'https://www.cdch.de',\n",
       " 'https://www.geocities.com',\n",
       " 'https://www.chemgaroo.de',\n",
       " 'https://www.welthaus.de',\n",
       " 'https://blk.mat.uni-bayreuth.de',\n",
       " 'https://www.die-roemer-online.de',\n",
       " 'https://www.chemie.uni-ulm.de',\n",
       " 'https://www.internetchemie.info',\n",
       " 'https://www.insektenbox.de',\n",
       " 'https://www.boell.de',\n",
       " 'https://www.hs-merseburg.de',\n",
       " 'https://www.inforef.be',\n",
       " 'https://www.bayern.de',\n",
       " 'https://members.aon.at',\n",
       " 'https://www.bcp.fu-berlin.de',\n",
       " 'https://www.bmub.bund.de',\n",
       " 'https://didaktikchemie.uni-bayreuth.de',\n",
       " 'https://www.chemiedidaktik.uni-frankfurt.de',\n",
       " 'https://www.ddesignmedia.de',\n",
       " 'https://www.becherglas.de',\n",
       " 'https://www.pk-applets.de',\n",
       " 'https://learningapps.org',\n",
       " 'https://www.experimentas.de',\n",
       " 'https://www.schlaukopf.de',\n",
       " 'https://www.wsl.ch',\n",
       " 'https://www.tgs-chemie.de',\n",
       " 'https://mintmagie.de',\n",
       " 'https://www.schulchemie.de',\n",
       " 'https://fachcommunity.bildung.hessen.de',\n",
       " 'https://bmbf-plastik.de',\n",
       " 'https://www.bukopharma.de',\n",
       " 'https://www.papierschule.eu',\n",
       " 'https://hausaufgaben-24.de',\n",
       " 'https://www.google.de',\n",
       " 'https://chemie-digital.de',\n",
       " 'https://www.chf.de',\n",
       " 'https://www.stirlingjunior.de',\n",
       " 'https://erdoelreserven.wordpress.com',\n",
       " 'https://www.unesco.de',\n",
       " 'https://www.npl.co.uk',\n",
       " 'https://www.be.schule.de',\n",
       " 'https://www.austria-lexikon.at',\n",
       " 'https://www.milq.info',\n",
       " 'https://www.photonikforschung.de',\n",
       " 'https://www.motionmountain.org',\n",
       " 'https://www.learnweb.de',\n",
       " 'https://www.die-lochkamera.de',\n",
       " 'https://esero.ie',\n",
       " 'https://www.max-planck.mpg.de',\n",
       " 'https://www.sn.schule.de',\n",
       " 'https://www.uni-muenster.de',\n",
       " 'https://science.howstuffworks.com',\n",
       " 'https://www.fe-lexikon.info',\n",
       " 'https://www.museum.schulministerium.nrw.de',\n",
       " 'https://www.nasa.gov',\n",
       " 'https://www.einstein-bern.ch',\n",
       " 'https://www.panoptikum.net',\n",
       " 'https://www.virtuelles-oszilloskop.de',\n",
       " 'https://www.denksport.de',\n",
       " 'https://www.lernort-labor.de',\n",
       " 'https://www.thphys.uni-heidelberg.de',\n",
       " 'https://www.musikschulen.de',\n",
       " 'https://www.physik.fh-wiesbaden.de',\n",
       " 'https://www.ikg.rt.bw.schule.de',\n",
       " 'https://www.av-medien.net',\n",
       " 'https://www.rondoweb.de',\n",
       " 'https://www.handysektor.de',\n",
       " 'https://www.archimedes-lab.org',\n",
       " 'https://milq.tu-bs.de',\n",
       " 'https://www.miz.org',\n",
       " 'https://www.einstein-webquest.ch',\n",
       " 'https://www.vds-hessen.de',\n",
       " 'https://www.musikerwiki.de',\n",
       " 'https://www.einstein-online.info',\n",
       " 'https://www.physik-im-kontext.de',\n",
       " 'https://www.dpg-physik.de',\n",
       " 'https://www.pro-physik.de',\n",
       " 'https://uploader.wuerzburg.de',\n",
       " 'https://www.guteunterrichtspraxis-nw.org',\n",
       " 'https://www.columbuseye.uni-bonn.de',\n",
       " 'https://www.bzga.de',\n",
       " 'https://www.tjfbg.de',\n",
       " 'https://www.budgietainment.com',\n",
       " 'https://www.parsel.uni-kiel.de',\n",
       " 'https://www.cumschmidt.de',\n",
       " 'https://www.t-pse.de',\n",
       " 'https://www.chemischdenken.de',\n",
       " 'https://www.periodensystem.info',\n",
       " 'https://www.netchemie.de',\n",
       " 'https://www.chemienet.info',\n",
       " 'https://lectureonline.cl.msu.edu',\n",
       " 'https://zdoku.pl',\n",
       " 'https://www.wolfenthal.de',\n",
       " 'https://www.liebig-museum.de',\n",
       " 'https://www.iwe.kit.edu',\n",
       " 'https://www.csd.uwm.edu',\n",
       " 'https://www.korrosion-online.de',\n",
       " 'https://www.Chemie.Unterricht.ws',\n",
       " 'https://www.aufklaerungsstunde.de',\n",
       " 'https://www.hschickor.de',\n",
       " 'https://www.uni-bielefeld.de',\n",
       " 'https://oparu.uni-ulm.de',\n",
       " 'https://www.bio-faqs.de',\n",
       " 'https://www.k-wz.de',\n",
       " 'https://www.lwl.org',\n",
       " 'https://lakschool.com',\n",
       " 'https://www.roboter-im-unterricht.de',\n",
       " 'https://www.thomas-unkelbach.de.',\n",
       " 'https://mediathek.fnr.de',\n",
       " 'https://www.geoastro.de',\n",
       " 'https://www.einstein-website.de',\n",
       " 'https://www.sonnentaler.net',\n",
       " 'https://www.kmk.org',\n",
       " 'https://www.lilienthal-museum.de',\n",
       " 'https://www.chem-page.de',\n",
       " 'https://www.bhkw-infozentrum.de',\n",
       " 'https://www.sichere-schule.de',\n",
       " 'https://www.uniterra.de',\n",
       " 'https://www.phy.ntnu.edu.tw',\n",
       " 'https://www.eva.ac.at',\n",
       " 'https://de.academic.ru',\n",
       " 'https://www.ballonmolekuele.de',\n",
       " 'https://www2.uni-siegen.de',\n",
       " 'https://bookshop.europa.eu']"
      ]
     },
     "execution_count": 16,
     "metadata": {},
     "output_type": "execute_result"
    }
   ],
   "source": [
    "['https://' + d for d in counts.url_domain]"
   ]
  },
  {
   "cell_type": "code",
   "execution_count": 13,
   "id": "26d74f1d",
   "metadata": {},
   "outputs": [],
   "source": [
    "def get_email(domain):\n",
    "    try:\n",
    "        response = requests.get('https://' + domain)\n",
    "        return set(re.findall(r\"[a-z0-9\\.\\-+_]+@[a-z0-9\\.\\-+_]+\\.[a-z]+\", response.text, re.I))\n",
    "    except:\n",
    "        return None"
   ]
  },
  {
   "cell_type": "code",
   "execution_count": null,
   "id": "856ceb27",
   "metadata": {},
   "outputs": [],
   "source": []
  },
  {
   "cell_type": "code",
   "execution_count": null,
   "id": "2632a959",
   "metadata": {},
   "outputs": [
    {
     "name": "stderr",
     "output_type": "stream",
     "text": [
      "\n",
      "  0%|                                                   | 0/584 [00:00<?, ?it/s]\u001b[A\n",
      "  0%|                                           | 1/584 [00:00<02:35,  3.75it/s]\u001b[A\n",
      "  0%|▏                                          | 2/584 [00:00<01:59,  4.88it/s]\u001b[A\n",
      "  1%|▏                                          | 3/584 [00:00<01:47,  5.40it/s]\u001b[A\n",
      "  1%|▎                                          | 4/584 [00:00<02:22,  4.07it/s]\u001b[A\n",
      "  1%|▎                                          | 5/584 [00:01<02:28,  3.91it/s]\u001b[A\n",
      "  1%|▍                                          | 6/584 [00:01<01:59,  4.85it/s]\u001b[A\n",
      "  1%|▌                                          | 7/584 [00:01<01:40,  5.72it/s]\u001b[A\n",
      "  1%|▌                                          | 8/584 [00:01<01:48,  5.30it/s]\u001b[A\n",
      "  2%|▋                                          | 9/584 [00:02<02:23,  4.01it/s]\u001b[A\n",
      "  2%|▋                                         | 10/584 [00:02<03:09,  3.03it/s]\u001b[A\n",
      "  2%|▊                                         | 11/584 [00:03<04:03,  2.35it/s]\u001b[A\n",
      "  2%|▊                                         | 12/584 [00:03<03:12,  2.97it/s]\u001b[A\n",
      "  2%|█                                         | 14/584 [00:03<02:23,  3.97it/s]\u001b[A\n",
      "  3%|█                                         | 15/584 [00:03<02:08,  4.42it/s]\u001b[A\n",
      "  3%|█▏                                        | 16/584 [00:04<02:25,  3.92it/s]\u001b[A\n",
      "  3%|█▏                                        | 17/584 [00:04<02:13,  4.23it/s]\u001b[A\n",
      "  3%|█▎                                        | 18/584 [00:04<02:51,  3.30it/s]\u001b[A\n",
      "  3%|█▎                                        | 19/584 [00:04<02:31,  3.72it/s]\u001b[A\n",
      "  3%|█▍                                        | 20/584 [00:05<02:33,  3.66it/s]\u001b[A\n",
      "  4%|█▌                                        | 21/584 [00:05<03:26,  2.73it/s]\u001b[A\n",
      "  4%|█▌                                        | 22/584 [00:06<02:56,  3.18it/s]\u001b[A\n",
      "  4%|█▋                                        | 23/584 [00:06<02:49,  3.31it/s]\u001b[A\n",
      "  4%|█▋                                        | 24/584 [00:06<02:26,  3.82it/s]\u001b[A\n",
      "  4%|█▊                                        | 25/584 [00:06<02:10,  4.29it/s]\u001b[A\n",
      "  4%|█▊                                        | 26/584 [00:06<02:05,  4.45it/s]\u001b[A\n",
      "  5%|█▉                                        | 27/584 [00:06<01:46,  5.22it/s]\u001b[A\n",
      "  5%|██                                        | 28/584 [00:07<01:54,  4.85it/s]\u001b[A\n",
      "  5%|██                                        | 29/584 [00:07<01:52,  4.92it/s]\u001b[A\n",
      "  5%|██▏                                       | 30/584 [00:07<01:36,  5.73it/s]\u001b[A\n",
      "  5%|██▏                                       | 31/584 [00:07<02:33,  3.61it/s]\u001b[A\n",
      "  5%|██▎                                       | 32/584 [00:08<02:23,  3.85it/s]\u001b[A\n",
      "  6%|██▎                                       | 33/584 [00:09<04:14,  2.16it/s]\u001b[A\n",
      "  6%|██▍                                       | 34/584 [00:09<04:39,  1.97it/s]\u001b[A\n",
      "  6%|██▌                                       | 35/584 [00:18<26:44,  2.92s/it]\u001b[A\n",
      "  6%|██▌                                       | 36/584 [00:18<19:23,  2.12s/it]\u001b[A\n",
      "  6%|██▋                                       | 37/584 [00:18<14:25,  1.58s/it]\u001b[A\n",
      "  7%|██▋                                       | 38/584 [00:20<13:16,  1.46s/it]\u001b[A\n",
      "  7%|██▊                                       | 39/584 [00:20<10:14,  1.13s/it]\u001b[A\n",
      "  7%|██▉                                       | 40/584 [00:20<07:26,  1.22it/s]\u001b[A\n",
      "  7%|██▉                                       | 41/584 [00:20<06:18,  1.43it/s]\u001b[A\n",
      "  7%|██▉                                     | 42/584 [02:32<6:01:28, 40.02s/it]\u001b[A\n",
      "  7%|██▉                                     | 43/584 [02:32<4:12:51, 28.04s/it]\u001b[A\n",
      "  8%|███                                     | 44/584 [02:33<2:57:14, 19.69s/it]\u001b[A\n",
      "  8%|███▏                                    | 46/584 [02:33<1:35:58, 10.70s/it]\u001b[A\n",
      "  8%|███▏                                    | 47/584 [02:33<1:12:53,  8.14s/it]\u001b[A\n",
      "  8%|███▍                                      | 48/584 [02:35<56:29,  6.32s/it]\u001b[A\n",
      "  8%|███▌                                      | 49/584 [02:35<41:46,  4.68s/it]\u001b[A\n",
      "  9%|███▌                                      | 50/584 [02:35<30:17,  3.40s/it]\u001b[A\n",
      "  9%|███▋                                      | 51/584 [02:35<23:02,  2.59s/it]\u001b[A\n",
      "  9%|███▋                                      | 52/584 [02:36<16:47,  1.89s/it]\u001b[A\n",
      "  9%|███▊                                      | 53/584 [02:37<16:04,  1.82s/it]\u001b[A\n",
      "  9%|███▉                                      | 55/584 [02:38<09:20,  1.06s/it]\u001b[A\n",
      " 10%|███▊                                    | 56/584 [03:06<1:07:34,  7.68s/it]\u001b[A\n",
      " 10%|████                                      | 57/584 [03:07<52:22,  5.96s/it]\u001b[A\n",
      " 10%|████▏                                     | 58/584 [03:08<40:02,  4.57s/it]\u001b[A\n",
      " 10%|████▏                                     | 59/584 [03:08<29:25,  3.36s/it]\u001b[A\n",
      " 10%|████▎                                     | 60/584 [03:08<21:24,  2.45s/it]\u001b[A\n",
      " 10%|████▍                                     | 61/584 [03:10<21:24,  2.46s/it]\u001b[A\n",
      " 11%|████▍                                     | 62/584 [03:11<15:40,  1.80s/it]\u001b[A\n",
      " 11%|████▌                                     | 63/584 [03:11<11:25,  1.32s/it]\u001b[A\n",
      " 11%|████▋                                     | 65/584 [03:11<06:36,  1.31it/s]\u001b[A\n",
      " 11%|████▋                                     | 66/584 [03:13<08:27,  1.02it/s]\u001b[A\n",
      " 11%|████▊                                     | 67/584 [03:13<07:47,  1.10it/s]\u001b[A\n",
      " 12%|████▉                                     | 68/584 [03:14<06:09,  1.40it/s]\u001b[A\n",
      " 12%|████▉                                     | 69/584 [03:14<05:31,  1.55it/s]\u001b[A\n",
      " 12%|█████                                     | 70/584 [03:14<04:13,  2.03it/s]\u001b[A\n",
      " 12%|█████▏                                    | 72/584 [03:15<03:08,  2.71it/s]\u001b[A\n",
      " 12%|█████▎                                    | 73/584 [03:15<02:47,  3.05it/s]\u001b[A\n",
      " 13%|█████▎                                    | 74/584 [03:15<02:37,  3.24it/s]\u001b[A\n",
      " 13%|█████▍                                    | 75/584 [03:16<03:31,  2.40it/s]\u001b[A\n",
      " 13%|█████▍                                    | 76/584 [03:16<03:27,  2.45it/s]\u001b[A\n",
      " 13%|█████▌                                    | 77/584 [03:16<03:04,  2.75it/s]\u001b[A\n",
      " 13%|█████▌                                    | 78/584 [03:17<03:05,  2.73it/s]\u001b[A\n",
      " 14%|█████▋                                    | 79/584 [03:17<02:35,  3.24it/s]\u001b[A\n",
      " 14%|█████▊                                    | 80/584 [03:17<02:10,  3.87it/s]\u001b[A\n",
      " 14%|█████▊                                    | 81/584 [03:18<03:19,  2.52it/s]\u001b[A\n",
      " 14%|█████▉                                    | 82/584 [03:18<02:47,  3.00it/s]\u001b[A\n",
      " 14%|█████▉                                    | 83/584 [03:18<02:31,  3.30it/s]\u001b[A\n",
      " 14%|██████                                    | 84/584 [03:18<02:03,  4.04it/s]\u001b[A\n",
      " 15%|██████                                    | 85/584 [03:19<02:14,  3.72it/s]\u001b[A\n",
      " 15%|██████▏                                   | 86/584 [03:19<03:45,  2.21it/s]\u001b[A\n",
      " 15%|██████▎                                   | 87/584 [03:20<04:16,  1.94it/s]\u001b[A\n",
      " 15%|██████▎                                   | 88/584 [03:21<04:07,  2.00it/s]\u001b[A\n",
      " 15%|██████▍                                   | 89/584 [03:21<04:29,  1.84it/s]\u001b[A\n",
      " 15%|██████▍                                   | 90/584 [03:21<03:24,  2.42it/s]\u001b[A\n",
      " 16%|██████▌                                   | 91/584 [03:22<03:04,  2.67it/s]\u001b[A\n",
      " 16%|██████▌                                   | 92/584 [03:22<03:41,  2.22it/s]\u001b[A\n",
      " 16%|██████▋                                   | 93/584 [03:23<03:50,  2.13it/s]\u001b[A\n",
      " 16%|██████▊                                   | 94/584 [03:23<04:25,  1.84it/s]\u001b[A\n",
      " 16%|██████▊                                   | 95/584 [03:24<03:31,  2.31it/s]\u001b[A\n",
      " 16%|██████▉                                   | 96/584 [03:24<03:43,  2.18it/s]\u001b[A\n",
      " 17%|███████                                   | 98/584 [03:24<02:29,  3.25it/s]\u001b[A\n",
      " 17%|███████                                   | 99/584 [03:26<04:20,  1.86it/s]\u001b[A\n",
      " 17%|███████                                  | 100/584 [03:26<03:46,  2.14it/s]\u001b[A\n",
      " 17%|███████                                  | 101/584 [03:26<03:14,  2.49it/s]\u001b[A\n",
      " 17%|███████▏                                 | 102/584 [03:26<02:40,  3.01it/s]\u001b[A\n"
     ]
    },
    {
     "name": "stderr",
     "output_type": "stream",
     "text": [
      " 18%|███████▏                                 | 103/584 [03:27<03:49,  2.09it/s]\u001b[A\n",
      " 18%|███████▎                                 | 104/584 [03:28<05:08,  1.56it/s]\u001b[A\n",
      " 18%|███████▎                                 | 105/584 [03:28<04:05,  1.95it/s]\u001b[A\n",
      " 18%|███████▍                                 | 106/584 [03:29<03:16,  2.44it/s]\u001b[A\n",
      " 18%|███████▌                                 | 107/584 [03:29<02:48,  2.83it/s]\u001b[A\n",
      " 18%|███████▌                                 | 108/584 [03:29<02:39,  2.98it/s]\u001b[A"
     ]
    }
   ],
   "source": [
    "emails = [get_email(d) for d in tqdm(counts.url_domain)]"
   ]
  },
  {
   "cell_type": "markdown",
   "id": "1e383064",
   "metadata": {},
   "source": [
    "### Scrape Emails"
   ]
  },
  {
   "cell_type": "code",
   "execution_count": 63,
   "id": "d1e8621e",
   "metadata": {},
   "outputs": [
    {
     "data": {
      "text/plain": [
       "requests.exceptions.TooManyRedirects"
      ]
     },
     "execution_count": 63,
     "metadata": {},
     "output_type": "execute_result"
    }
   ],
   "source": [
    "requests.exceptions.TooManyRedirects"
   ]
  },
  {
   "cell_type": "code",
   "execution_count": 68,
   "id": "ae33d174",
   "metadata": {},
   "outputs": [],
   "source": [
    "\n",
    "\n",
    "from bs4 import BeautifulSoup\n",
    "import requests\n",
    "import requests.exceptions\n",
    "from urllib.parse import urlsplit\n",
    "from collections import deque\n",
    "import re\n",
    "\n",
    "\n",
    "def get_emails(domain):\n",
    "    # a queue of urls to be crawled\n",
    "    new_urls = deque([f'https://{domain}'])\n",
    "\n",
    "    # a set of urls that we have already crawled\n",
    "    processed_urls = set()\n",
    "\n",
    "    # a set of crawled emails\n",
    "    emails = set()\n",
    "    \n",
    "    request_count = 0\n",
    "\n",
    "    # process urls one by one until we exhaust the queue\n",
    "    while len(new_urls):\n",
    "        # move next url from the queue to the set of processed urls\n",
    "        url = new_urls.popleft()\n",
    "        processed_urls.add(url)\n",
    "\n",
    "        # extract base url to resolve relative links\n",
    "        parts = urlsplit(url)\n",
    "        base_url = \"{0.scheme}://{0.netloc}\".format(parts)\n",
    "        path = url[:url.rfind('/')+1] if '/' in parts.path else url\n",
    "\n",
    "        # get url's content\n",
    "#         print(\"Processing %s\" % url)\n",
    "        try:\n",
    "            request_count += 1\n",
    "            response = requests.get(url)\n",
    "        except (requests.exceptions.MissingSchema, requests.exceptions.ConnectionError, requests.exceptions.TooManyRedirects):\n",
    "            # ignore pages with errors\n",
    "            continue\n",
    "\n",
    "        # extract all email addresses and add them into the resulting set\n",
    "        new_emails = set(re.findall(r\"[a-z0-9\\.\\-+_]+@[a-z0-9\\.\\-+_]+\\.[a-z]+\", response.text, re.I))\n",
    "        emails.update(new_emails)\n",
    "        if len(new_emails) > 5:\n",
    "            break\n",
    "            \n",
    "        if request_count > 10:\n",
    "            break\n",
    "\n",
    "        # create a beutiful soup for the html document\n",
    "        soup = BeautifulSoup(response.text)\n",
    "\n",
    "        # find and process all the anchors in the document\n",
    "        link = None\n",
    "        for anchor in soup.find_all(\"a\"):\n",
    "            # extract link url from the anchor\n",
    "            link = anchor.attrs[\"href\"] if \"href\" in anchor.attrs else ''\n",
    "        if link is None:\n",
    "            continue\n",
    "        # resolve relative links\n",
    "        if link.startswith('/'):\n",
    "            link = base_url + link\n",
    "        elif not link.startswith('http'):\n",
    "            link = path + link\n",
    "        # add the new url to the queue if it was not enqueued nor processed yet\n",
    "        if not link in new_urls and not link in processed_urls:\n",
    "            new_urls.append(link)\n",
    "\n",
    "#     print(f'Found {emails}')\n",
    "    return emails\n"
   ]
  },
  {
   "cell_type": "code",
   "execution_count": 69,
   "id": "7bf4f1a1",
   "metadata": {},
   "outputs": [
    {
     "name": "stderr",
     "output_type": "stream",
     "text": [
      "\r",
      "  0%|                                                   | 0/584 [00:00<?, ?it/s]"
     ]
    },
    {
     "name": "stdout",
     "output_type": "stream",
     "text": [
      "www.lehrer-online.de\n"
     ]
    },
    {
     "name": "stderr",
     "output_type": "stream",
     "text": [
      "\r",
      "  0%|                                           | 1/584 [00:00<08:25,  1.15it/s]"
     ]
    },
    {
     "name": "stdout",
     "output_type": "stream",
     "text": [
      "www.leifiphysik.de\n"
     ]
    },
    {
     "name": "stderr",
     "output_type": "stream",
     "text": [
      "  1%|▏                                          | 3/584 [00:02<05:41,  1.70it/s]"
     ]
    },
    {
     "name": "stdout",
     "output_type": "stream",
     "text": [
      "media.sodis.de\n",
      "www.planet-schule.de\n"
     ]
    },
    {
     "name": "stderr",
     "output_type": "stream",
     "text": [
      "\r",
      "  1%|▎                                          | 4/584 [00:03<07:27,  1.30it/s]"
     ]
    },
    {
     "name": "stdout",
     "output_type": "stream",
     "text": [
      "www.supra-lernplattform.de\n"
     ]
    },
    {
     "name": "stderr",
     "output_type": "stream",
     "text": [
      "  1%|▍                                          | 6/584 [00:04<06:15,  1.54it/s]"
     ]
    },
    {
     "name": "stdout",
     "output_type": "stream",
     "text": [
      "www.lingonetz.de\n",
      "www.seilnacht.com\n"
     ]
    },
    {
     "name": "stderr",
     "output_type": "stream",
     "text": [
      "\r",
      "  1%|▌                                          | 7/584 [00:13<33:25,  3.47s/it]"
     ]
    },
    {
     "name": "stdout",
     "output_type": "stream",
     "text": [
      "de.wikipedia.org\n"
     ]
    },
    {
     "name": "stderr",
     "output_type": "stream",
     "text": [
      "\r",
      "  1%|▌                                          | 8/584 [00:14<24:00,  2.50s/it]"
     ]
    },
    {
     "name": "stdout",
     "output_type": "stream",
     "text": [
      "www.bildung-lsa.de\n"
     ]
    },
    {
     "name": "stderr",
     "output_type": "stream",
     "text": [
      "\r",
      "  2%|▋                                          | 9/584 [00:14<17:37,  1.84s/it]"
     ]
    },
    {
     "name": "stdout",
     "output_type": "stream",
     "text": [
      "www.zum.de\n"
     ]
    },
    {
     "name": "stderr",
     "output_type": "stream",
     "text": [
      "\r",
      "  2%|▋                                         | 10/584 [00:15<14:23,  1.50s/it]"
     ]
    },
    {
     "name": "stdout",
     "output_type": "stream",
     "text": [
      "www.abi-physik.de\n"
     ]
    },
    {
     "name": "stderr",
     "output_type": "stream",
     "text": [
      "  2%|▊                                         | 12/584 [00:15<08:05,  1.18it/s]"
     ]
    },
    {
     "name": "stdout",
     "output_type": "stream",
     "text": [
      "static.bildung-rp.de\n",
      "daten.didaktikchemie.uni-bayreuth.de\n",
      "www.komm-mach-mint.de\n"
     ]
    },
    {
     "name": "stderr",
     "output_type": "stream",
     "text": [
      "\r",
      "  2%|█                                         | 14/584 [00:18<09:45,  1.03s/it]"
     ]
    },
    {
     "name": "stdout",
     "output_type": "stream",
     "text": [
      "lernarchiv.bildung.hessen.de\n"
     ]
    },
    {
     "name": "stderr",
     "output_type": "stream",
     "text": [
      "\r",
      "  3%|█                                         | 15/584 [00:19<10:38,  1.12s/it]"
     ]
    },
    {
     "name": "stdout",
     "output_type": "stream",
     "text": [
      "www.lncu.de\n"
     ]
    },
    {
     "name": "stderr",
     "output_type": "stream",
     "text": [
      "\r",
      "  3%|█▏                                        | 16/584 [00:29<32:16,  3.41s/it]"
     ]
    },
    {
     "name": "stdout",
     "output_type": "stream",
     "text": [
      "www.chemieunterricht.de\n"
     ]
    },
    {
     "name": "stderr",
     "output_type": "stream",
     "text": [
      "\r",
      "  3%|█▏                                        | 17/584 [00:29<24:08,  2.55s/it]"
     ]
    },
    {
     "name": "stdout",
     "output_type": "stream",
     "text": [
      "www.heise.de\n"
     ]
    },
    {
     "name": "stderr",
     "output_type": "stream",
     "text": [
      "\r",
      "  3%|█▎                                        | 18/584 [00:33<26:41,  2.83s/it]"
     ]
    },
    {
     "name": "stdout",
     "output_type": "stream",
     "text": [
      "www.zauberhafte-physik.net\n",
      "www.wissenschaftsjahr.de\n"
     ]
    },
    {
     "name": "stderr",
     "output_type": "stream",
     "text": [
      "\r",
      "  3%|█▍                                        | 20/584 [00:35<19:48,  2.11s/it]"
     ]
    },
    {
     "name": "stdout",
     "output_type": "stream",
     "text": [
      "digitallearninglab.de\n"
     ]
    },
    {
     "name": "stderr",
     "output_type": "stream",
     "text": [
      "\r",
      "  4%|█▌                                        | 21/584 [00:37<19:31,  2.08s/it]"
     ]
    },
    {
     "name": "stdout",
     "output_type": "stream",
     "text": [
      "mp3.bildung.hessen.de\n"
     ]
    },
    {
     "name": "stderr",
     "output_type": "stream",
     "text": [
      "\r",
      "  4%|█▌                                        | 22/584 [00:38<15:23,  1.64s/it]"
     ]
    },
    {
     "name": "stdout",
     "output_type": "stream",
     "text": [
      "www.dlr.de\n"
     ]
    },
    {
     "name": "stderr",
     "output_type": "stream",
     "text": [
      "\r",
      "  4%|█▋                                        | 23/584 [00:46<33:20,  3.57s/it]"
     ]
    },
    {
     "name": "stdout",
     "output_type": "stream",
     "text": [
      "primas.ph-freiburg.de\n"
     ]
    },
    {
     "name": "stderr",
     "output_type": "stream",
     "text": [
      "\r",
      "  4%|█▋                                        | 24/584 [00:55<46:33,  4.99s/it]"
     ]
    },
    {
     "name": "stdout",
     "output_type": "stream",
     "text": [
      "www.science-on-stage.de\n"
     ]
    },
    {
     "name": "stderr",
     "output_type": "stream",
     "text": [
      "\r",
      "  4%|█▊                                        | 25/584 [00:57<37:20,  4.01s/it]"
     ]
    },
    {
     "name": "stdout",
     "output_type": "stream",
     "text": [
      "www.schule-bw.de\n"
     ]
    },
    {
     "name": "stderr",
     "output_type": "stream",
     "text": [
      "\r",
      "  4%|█▊                                        | 26/584 [00:57<28:30,  3.07s/it]"
     ]
    },
    {
     "name": "stdout",
     "output_type": "stream",
     "text": [
      "www.esa.int\n"
     ]
    },
    {
     "name": "stderr",
     "output_type": "stream",
     "text": [
      "\r",
      "  5%|█▉                                        | 27/584 [01:00<26:59,  2.91s/it]"
     ]
    },
    {
     "name": "stdout",
     "output_type": "stream",
     "text": [
      "educ.ethz.ch\n"
     ]
    },
    {
     "name": "stderr",
     "output_type": "stream",
     "text": [
      "\r",
      "  5%|██                                        | 28/584 [01:00<19:51,  2.14s/it]"
     ]
    },
    {
     "name": "stdout",
     "output_type": "stream",
     "text": [
      "www.chemie-master.de\n"
     ]
    },
    {
     "name": "stderr",
     "output_type": "stream",
     "text": [
      "\r",
      "  5%|██                                        | 29/584 [01:09<37:50,  4.09s/it]"
     ]
    },
    {
     "name": "stdout",
     "output_type": "stream",
     "text": [
      "www.wissenschaft-schulen.de\n",
      "www.forscher-online.de\n"
     ]
    },
    {
     "name": "stderr",
     "output_type": "stream",
     "text": [
      "\r",
      "  5%|██▏                                       | 31/584 [01:09<21:33,  2.34s/it]"
     ]
    },
    {
     "name": "stdout",
     "output_type": "stream",
     "text": [
      "www.tempolimit-lichtgeschwindigkeit.de\n"
     ]
    },
    {
     "name": "stderr",
     "output_type": "stream",
     "text": [
      "\r",
      "  5%|██▎                                       | 32/584 [01:10<17:21,  1.89s/it]"
     ]
    },
    {
     "name": "stdout",
     "output_type": "stream",
     "text": [
      "www.bildungsserver.de\n"
     ]
    },
    {
     "name": "stderr",
     "output_type": "stream",
     "text": [
      "\r",
      "  6%|██▎                                     | 33/584 [01:31<1:03:03,  6.87s/it]"
     ]
    },
    {
     "name": "stdout",
     "output_type": "stream",
     "text": [
      "www.ltam.lu\n"
     ]
    },
    {
     "name": "stderr",
     "output_type": "stream",
     "text": [
      "\r",
      "  6%|██▍                                       | 34/584 [01:32<48:58,  5.34s/it]"
     ]
    },
    {
     "name": "stdout",
     "output_type": "stream",
     "text": [
      "online-media.uni-marburg.de\n"
     ]
    },
    {
     "name": "stderr",
     "output_type": "stream",
     "text": [
      "\r",
      "  6%|██▌                                       | 35/584 [01:41<58:07,  6.35s/it]"
     ]
    },
    {
     "name": "stdout",
     "output_type": "stream",
     "text": [
      "blogs.helmholtz.de\n"
     ]
    },
    {
     "name": "stderr",
     "output_type": "stream",
     "text": [
      "\r",
      "  6%|██▌                                       | 36/584 [01:42<42:56,  4.70s/it]"
     ]
    },
    {
     "name": "stdout",
     "output_type": "stream",
     "text": [
      "physikaufgaben.de\n"
     ]
    },
    {
     "name": "stderr",
     "output_type": "stream",
     "text": [
      "\r",
      "  6%|██▋                                       | 37/584 [01:50<53:20,  5.85s/it]"
     ]
    },
    {
     "name": "stdout",
     "output_type": "stream",
     "text": [
      "physikforkids.de\n"
     ]
    },
    {
     "name": "stderr",
     "output_type": "stream",
     "text": [
      "\r",
      "  7%|██▋                                       | 38/584 [01:52<43:12,  4.75s/it]"
     ]
    },
    {
     "name": "stdout",
     "output_type": "stream",
     "text": [
      "mint-zirkel.de\n"
     ]
    },
    {
     "name": "stderr",
     "output_type": "stream",
     "text": [
      "  7%|██▉                                       | 40/584 [01:53<22:50,  2.52s/it]"
     ]
    },
    {
     "name": "stdout",
     "output_type": "stream",
     "text": [
      "www.bautschweb.de\n",
      "www.umwelt-im-unterricht.de\n"
     ]
    },
    {
     "name": "stderr",
     "output_type": "stream",
     "text": [
      "\r",
      "  7%|██▉                                       | 41/584 [01:54<17:46,  1.96s/it]"
     ]
    },
    {
     "name": "stdout",
     "output_type": "stream",
     "text": [
      "sodis.de\n"
     ]
    },
    {
     "name": "stderr",
     "output_type": "stream",
     "text": [
      "\r",
      "  7%|██▉                                     | 42/584 [04:04<6:01:41, 40.04s/it]"
     ]
    },
    {
     "name": "stdout",
     "output_type": "stream",
     "text": [
      "www.unterrichtsmaterial-schule.de\n"
     ]
    },
    {
     "name": "stderr",
     "output_type": "stream",
     "text": [
      "\r",
      "  7%|██▉                                     | 43/584 [04:04<4:14:29, 28.22s/it]"
     ]
    },
    {
     "name": "stdout",
     "output_type": "stream",
     "text": [
      "www.dguv-lug.de\n"
     ]
    },
    {
     "name": "stderr",
     "output_type": "stream",
     "text": [
      "\r",
      "  8%|███                                     | 44/584 [04:05<2:59:47, 19.98s/it]"
     ]
    },
    {
     "name": "stdout",
     "output_type": "stream",
     "text": [
      "wiki.zum.de\n",
      "www.meine-forscherwelt.de\n"
     ]
    },
    {
     "name": "stderr",
     "output_type": "stream",
     "text": [
      "\r",
      "  8%|███▏                                    | 46/584 [04:05<1:37:16, 10.85s/it]"
     ]
    },
    {
     "name": "stdout",
     "output_type": "stream",
     "text": [
      "medienportal.siemens-stiftung.org\n"
     ]
    },
    {
     "name": "stderr",
     "output_type": "stream",
     "text": [
      "\r",
      "  8%|███▏                                    | 47/584 [04:05<1:14:01,  8.27s/it]"
     ]
    },
    {
     "name": "stdout",
     "output_type": "stream",
     "text": [
      "www.mint-ec.de\n"
     ]
    },
    {
     "name": "stderr",
     "output_type": "stream",
     "text": [
      "\r",
      "  8%|███▍                                      | 48/584 [04:07<59:03,  6.61s/it]"
     ]
    },
    {
     "name": "stdout",
     "output_type": "stream",
     "text": [
      "www.schulentwicklung.nrw.de\n"
     ]
    },
    {
     "name": "stderr",
     "output_type": "stream",
     "text": [
      "\r",
      "  8%|███▌                                      | 49/584 [04:08<44:45,  5.02s/it]"
     ]
    },
    {
     "name": "stdout",
     "output_type": "stream",
     "text": [
      "melt.fwu.de\n",
      "www.youtube.com\n"
     ]
    },
    {
     "name": "stderr",
     "output_type": "stream",
     "text": [
      "\r",
      "  9%|███▋                                      | 51/584 [04:10<27:54,  3.14s/it]"
     ]
    },
    {
     "name": "stdout",
     "output_type": "stream",
     "text": [
      "chids.online.uni-marburg.de\n"
     ]
    },
    {
     "name": "stderr",
     "output_type": "stream",
     "text": [
      "\r",
      "  9%|███▋                                      | 52/584 [04:18<39:56,  4.50s/it]"
     ]
    },
    {
     "name": "stdout",
     "output_type": "stream",
     "text": [
      "www.physikfuerkids.de\n"
     ]
    },
    {
     "name": "stderr",
     "output_type": "stream",
     "text": [
      "  9%|███▉                                      | 54/584 [04:21<25:32,  2.89s/it]"
     ]
    },
    {
     "name": "stdout",
     "output_type": "stream",
     "text": [
      "www.seilnacht.tuttlingen.com\n",
      "www.walter-fendt.de\n"
     ]
    },
    {
     "name": "stderr",
     "output_type": "stream",
     "text": [
      "\r",
      "  9%|███▉                                      | 55/584 [04:30<40:12,  4.56s/it]"
     ]
    },
    {
     "name": "stdout",
     "output_type": "stream",
     "text": [
      "physik.uibk.ac.at\n"
     ]
    },
    {
     "name": "stderr",
     "output_type": "stream",
     "text": [
      "\r",
      " 10%|███▊                                    | 56/584 [06:39<5:50:42, 39.85s/it]"
     ]
    },
    {
     "name": "stdout",
     "output_type": "stream",
     "text": [
      "www.chempage.de\n"
     ]
    },
    {
     "name": "stderr",
     "output_type": "stream",
     "text": [
      "\r",
      " 10%|███▉                                    | 57/584 [06:48<4:32:05, 30.98s/it]"
     ]
    },
    {
     "name": "stdout",
     "output_type": "stream",
     "text": [
      "www.chemgapedia.de\n"
     ]
    },
    {
     "name": "stderr",
     "output_type": "stream",
     "text": [
      "\r",
      " 10%|███▉                                    | 58/584 [06:49<3:15:15, 22.27s/it]"
     ]
    },
    {
     "name": "stdout",
     "output_type": "stream",
     "text": [
      "www.physik-am-auto.de\n"
     ]
    },
    {
     "name": "stderr",
     "output_type": "stream",
     "text": [
      "\r",
      " 10%|████                                    | 59/584 [06:58<2:40:40, 18.36s/it]"
     ]
    },
    {
     "name": "stdout",
     "output_type": "stream",
     "text": [
      "mediaserve.kompetenzz.net\n"
     ]
    },
    {
     "name": "stderr",
     "output_type": "stream",
     "text": [
      "\r",
      " 10%|████                                    | 60/584 [06:58<1:53:42, 13.02s/it]"
     ]
    },
    {
     "name": "stdout",
     "output_type": "stream",
     "text": [
      "www.roentgenmuseum.de\n"
     ]
    },
    {
     "name": "stderr",
     "output_type": "stream",
     "text": [
      "\r",
      " 10%|████▏                                   | 61/584 [07:26<2:30:39, 17.28s/it]"
     ]
    },
    {
     "name": "stdout",
     "output_type": "stream",
     "text": [
      "www.ubz-stmk.at\n"
     ]
    },
    {
     "name": "stderr",
     "output_type": "stream",
     "text": [
      "\r",
      " 11%|████▏                                   | 62/584 [07:29<1:54:25, 13.15s/it]"
     ]
    },
    {
     "name": "stdout",
     "output_type": "stream",
     "text": [
      "virtuelle-experimente.de\n"
     ]
    },
    {
     "name": "stderr",
     "output_type": "stream",
     "text": [
      " 11%|████▍                                   | 64/584 [07:39<1:13:12,  8.45s/it]"
     ]
    },
    {
     "name": "stdout",
     "output_type": "stream",
     "text": [
      "wikis.zum.de\n",
      "www.compass-project.eu\n"
     ]
    },
    {
     "name": "stderr",
     "output_type": "stream",
     "text": [
      "\r",
      " 11%|████▋                                     | 65/584 [07:39<51:29,  5.95s/it]"
     ]
    },
    {
     "name": "stdout",
     "output_type": "stream",
     "text": [
      "www.physik-schule.de\n"
     ]
    },
    {
     "name": "stderr",
     "output_type": "stream",
     "text": [
      "\r",
      " 11%|████▋                                     | 66/584 [07:40<39:32,  4.58s/it]"
     ]
    },
    {
     "name": "stdout",
     "output_type": "stream",
     "text": [
      "www.poleninderschule.de\n"
     ]
    },
    {
     "name": "stderr",
     "output_type": "stream",
     "text": [
      "\r",
      " 11%|████▊                                     | 67/584 [07:42<32:24,  3.76s/it]"
     ]
    },
    {
     "name": "stdout",
     "output_type": "stream",
     "text": [
      "www.u-helmich.de\n"
     ]
    },
    {
     "name": "stderr",
     "output_type": "stream",
     "text": [
      "\r",
      " 12%|████▉                                     | 68/584 [07:52<48:05,  5.59s/it]"
     ]
    },
    {
     "name": "stdout",
     "output_type": "stream",
     "text": [
      "lehrerfortbildung-bw.de\n"
     ]
    },
    {
     "name": "stderr",
     "output_type": "stream",
     "text": [
      "\r",
      " 12%|████▉                                     | 69/584 [07:54<37:58,  4.42s/it]"
     ]
    },
    {
     "name": "stdout",
     "output_type": "stream",
     "text": [
      "esero.de\n"
     ]
    },
    {
     "name": "stderr",
     "output_type": "stream",
     "text": [
      "\r",
      " 12%|█████                                     | 70/584 [07:54<27:16,  3.18s/it]"
     ]
    },
    {
     "name": "stdout",
     "output_type": "stream",
     "text": [
      "www.xplora.org\n",
      "www.geomar.de\n"
     ]
    },
    {
     "name": "stderr",
     "output_type": "stream",
     "text": [
      "\r",
      " 12%|█████▏                                    | 72/584 [07:55<16:27,  1.93s/it]"
     ]
    },
    {
     "name": "stdout",
     "output_type": "stream",
     "text": [
      "www.didaktik.physik.uni-muenchen.de\n"
     ]
    },
    {
     "name": "stderr",
     "output_type": "stream",
     "text": [
      "\r",
      " 12%|█████▎                                    | 73/584 [08:04<31:03,  3.65s/it]"
     ]
    },
    {
     "name": "stdout",
     "output_type": "stream",
     "text": [
      "www.bildungspartner.schulministerium.nrw.de\n"
     ]
    },
    {
     "name": "stderr",
     "output_type": "stream",
     "text": [
      "\r",
      " 13%|█████▎                                    | 74/584 [08:05<25:39,  3.02s/it]"
     ]
    },
    {
     "name": "stdout",
     "output_type": "stream",
     "text": [
      "www.energie-macht-schule.de\n"
     ]
    },
    {
     "name": "stderr",
     "output_type": "stream",
     "text": [
      "\r",
      " 13%|█████▍                                    | 75/584 [08:06<21:06,  2.49s/it]"
     ]
    },
    {
     "name": "stdout",
     "output_type": "stream",
     "text": [
      "www.educ.ethz.ch\n"
     ]
    },
    {
     "name": "stderr",
     "output_type": "stream",
     "text": [
      "\r",
      " 13%|█████▍                                    | 76/584 [08:07<16:58,  2.01s/it]"
     ]
    },
    {
     "name": "stdout",
     "output_type": "stream",
     "text": [
      "www.me-vermitteln.de\n"
     ]
    },
    {
     "name": "stderr",
     "output_type": "stream",
     "text": [
      "\r",
      " 13%|█████▌                                    | 77/584 [08:09<18:33,  2.20s/it]"
     ]
    },
    {
     "name": "stdout",
     "output_type": "stream",
     "text": [
      "www.max-wissen.de\n"
     ]
    },
    {
     "name": "stderr",
     "output_type": "stream",
     "text": [
      " 14%|█████▋                                    | 79/584 [08:10<10:49,  1.29s/it]"
     ]
    },
    {
     "name": "stdout",
     "output_type": "stream",
     "text": [
      "www.kindernetz.de\n",
      "www.fwu-mediathek.de\n"
     ]
    },
    {
     "name": "stderr",
     "output_type": "stream",
     "text": [
      "\r",
      " 14%|█████▊                                    | 80/584 [08:11<08:52,  1.06s/it]"
     ]
    },
    {
     "name": "stdout",
     "output_type": "stream",
     "text": [
      "www.mybookmachine-online.de\n"
     ]
    },
    {
     "name": "stderr",
     "output_type": "stream",
     "text": [
      "\r",
      " 14%|█████▌                                  | 81/584 [10:20<5:28:23, 39.17s/it]"
     ]
    },
    {
     "name": "stdout",
     "output_type": "stream",
     "text": [
      "www.zeitbild.de\n"
     ]
    },
    {
     "name": "stderr",
     "output_type": "stream",
     "text": [
      "\r",
      " 14%|█████▌                                  | 82/584 [10:21<3:52:00, 27.73s/it]"
     ]
    },
    {
     "name": "stdout",
     "output_type": "stream",
     "text": [
      "platform.govie.de\n"
     ]
    },
    {
     "name": "stderr",
     "output_type": "stream",
     "text": [
      "\r",
      " 14%|█████▋                                  | 83/584 [10:21<2:43:04, 19.53s/it]"
     ]
    },
    {
     "name": "stdout",
     "output_type": "stream",
     "text": [
      "www.genius-community.com\n"
     ]
    },
    {
     "name": "stderr",
     "output_type": "stream",
     "text": [
      "\r",
      " 14%|█████▊                                  | 84/584 [10:22<1:56:10, 13.94s/it]"
     ]
    },
    {
     "name": "stdout",
     "output_type": "stream",
     "text": [
      "www.jugendtechnikschule.de\n"
     ]
    },
    {
     "name": "stderr",
     "output_type": "stream",
     "text": [
      "\r",
      " 15%|█████▊                                  | 85/584 [10:26<1:30:11, 10.84s/it]"
     ]
    },
    {
     "name": "stdout",
     "output_type": "stream",
     "text": [
      "wissenschaftsjahr-2020.visionkino.de\n"
     ]
    },
    {
     "name": "stderr",
     "output_type": "stream",
     "text": [
      "\r",
      " 15%|█████▉                                  | 86/584 [10:27<1:05:33,  7.90s/it]"
     ]
    },
    {
     "name": "stdout",
     "output_type": "stream",
     "text": [
      "idw-online.de\n"
     ]
    },
    {
     "name": "stderr",
     "output_type": "stream",
     "text": [
      "\r",
      " 15%|██████▎                                   | 87/584 [10:27<47:30,  5.74s/it]"
     ]
    },
    {
     "name": "stdout",
     "output_type": "stream",
     "text": [
      "www.labbe.de\n"
     ]
    },
    {
     "name": "stderr",
     "output_type": "stream",
     "text": [
      "\r",
      " 15%|██████▎                                   | 88/584 [10:28<35:02,  4.24s/it]"
     ]
    },
    {
     "name": "stdout",
     "output_type": "stream",
     "text": [
      "space2school.de\n"
     ]
    },
    {
     "name": "stderr",
     "output_type": "stream",
     "text": [
      " 15%|██████▍                                   | 90/584 [10:38<34:26,  4.18s/it]"
     ]
    },
    {
     "name": "stdout",
     "output_type": "stream",
     "text": [
      "www.chemiekiste.de\n",
      "www.helmholtz.de\n"
     ]
    },
    {
     "name": "stderr",
     "output_type": "stream",
     "text": [
      "\r",
      " 16%|██████▌                                   | 91/584 [10:39<25:11,  3.07s/it]"
     ]
    },
    {
     "name": "stdout",
     "output_type": "stream",
     "text": [
      "www.fokus-biologische-vielfalt.de\n"
     ]
    },
    {
     "name": "stderr",
     "output_type": "stream",
     "text": [
      "\r",
      " 16%|██████▌                                   | 92/584 [10:40<20:06,  2.45s/it]"
     ]
    },
    {
     "name": "stdout",
     "output_type": "stream",
     "text": [
      "material.kompetenzz.net\n"
     ]
    },
    {
     "name": "stderr",
     "output_type": "stream",
     "text": [
      "\r",
      " 16%|██████▋                                   | 93/584 [10:40<15:33,  1.90s/it]"
     ]
    },
    {
     "name": "stdout",
     "output_type": "stream",
     "text": [
      "www.fwu-mediathek.com\n"
     ]
    },
    {
     "name": "stderr",
     "output_type": "stream",
     "text": [
      " 16%|██████▊                                   | 95/584 [10:41<08:53,  1.09s/it]"
     ]
    },
    {
     "name": "stdout",
     "output_type": "stream",
     "text": [
      "www.chemieplanet.de\n",
      "www.chemiedidaktik.uni-wuppertal.de\n"
     ]
    },
    {
     "name": "stderr",
     "output_type": "stream",
     "text": [
      " 17%|██████▉                                   | 97/584 [10:42<06:29,  1.25it/s]"
     ]
    },
    {
     "name": "stdout",
     "output_type": "stream",
     "text": [
      "www.chemikus.de\n",
      "www.medienwerkstatt-online.de\n"
     ]
    },
    {
     "name": "stderr",
     "output_type": "stream",
     "text": [
      " 17%|███████                                   | 99/584 [10:51<18:45,  2.32s/it]"
     ]
    },
    {
     "name": "stdout",
     "output_type": "stream",
     "text": [
      "www.bimsev.de\n",
      "physikunterricht-online.de\n"
     ]
    },
    {
     "name": "stderr",
     "output_type": "stream",
     "text": [
      " 17%|███████                                   | 99/584 [10:52<53:14,  6.59s/it]\n"
     ]
    },
    {
     "ename": "InvalidURL",
     "evalue": "Failed to parse: https://physikunterricht-online.dejavascript:void(0);",
     "output_type": "error",
     "traceback": [
      "\u001b[0;31m---------------------------------------------------------------------------\u001b[0m",
      "\u001b[0;31mLocationParseError\u001b[0m                        Traceback (most recent call last)",
      "\u001b[0;32m~/.anaconda3/envs/elixier/lib/python3.7/site-packages/requests/models.py\u001b[0m in \u001b[0;36mprepare_url\u001b[0;34m(self, url, params)\u001b[0m\n\u001b[1;32m    433\u001b[0m         \u001b[0;32mtry\u001b[0m\u001b[0;34m:\u001b[0m\u001b[0;34m\u001b[0m\u001b[0;34m\u001b[0m\u001b[0m\n\u001b[0;32m--> 434\u001b[0;31m             \u001b[0mscheme\u001b[0m\u001b[0;34m,\u001b[0m \u001b[0mauth\u001b[0m\u001b[0;34m,\u001b[0m \u001b[0mhost\u001b[0m\u001b[0;34m,\u001b[0m \u001b[0mport\u001b[0m\u001b[0;34m,\u001b[0m \u001b[0mpath\u001b[0m\u001b[0;34m,\u001b[0m \u001b[0mquery\u001b[0m\u001b[0;34m,\u001b[0m \u001b[0mfragment\u001b[0m \u001b[0;34m=\u001b[0m \u001b[0mparse_url\u001b[0m\u001b[0;34m(\u001b[0m\u001b[0murl\u001b[0m\u001b[0;34m)\u001b[0m\u001b[0;34m\u001b[0m\u001b[0;34m\u001b[0m\u001b[0m\n\u001b[0m\u001b[1;32m    435\u001b[0m         \u001b[0;32mexcept\u001b[0m \u001b[0mLocationParseError\u001b[0m \u001b[0;32mas\u001b[0m \u001b[0me\u001b[0m\u001b[0;34m:\u001b[0m\u001b[0;34m\u001b[0m\u001b[0;34m\u001b[0m\u001b[0m\n",
      "\u001b[0;32m~/.anaconda3/envs/elixier/lib/python3.7/site-packages/urllib3/util/url.py\u001b[0m in \u001b[0;36mparse_url\u001b[0;34m(url)\u001b[0m\n\u001b[1;32m    393\u001b[0m     \u001b[0;32mexcept\u001b[0m \u001b[0;34m(\u001b[0m\u001b[0mValueError\u001b[0m\u001b[0;34m,\u001b[0m \u001b[0mAttributeError\u001b[0m\u001b[0;34m)\u001b[0m\u001b[0;34m:\u001b[0m\u001b[0;34m\u001b[0m\u001b[0;34m\u001b[0m\u001b[0m\n\u001b[0;32m--> 394\u001b[0;31m         \u001b[0;32mreturn\u001b[0m \u001b[0msix\u001b[0m\u001b[0;34m.\u001b[0m\u001b[0mraise_from\u001b[0m\u001b[0;34m(\u001b[0m\u001b[0mLocationParseError\u001b[0m\u001b[0;34m(\u001b[0m\u001b[0msource_url\u001b[0m\u001b[0;34m)\u001b[0m\u001b[0;34m,\u001b[0m \u001b[0;32mNone\u001b[0m\u001b[0;34m)\u001b[0m\u001b[0;34m\u001b[0m\u001b[0;34m\u001b[0m\u001b[0m\n\u001b[0m\u001b[1;32m    395\u001b[0m \u001b[0;34m\u001b[0m\u001b[0m\n",
      "\u001b[0;32m~/.anaconda3/envs/elixier/lib/python3.7/site-packages/urllib3/packages/six.py\u001b[0m in \u001b[0;36mraise_from\u001b[0;34m(value, from_value)\u001b[0m\n",
      "\u001b[0;31mLocationParseError\u001b[0m: Failed to parse: https://physikunterricht-online.dejavascript:void(0);",
      "\nDuring handling of the above exception, another exception occurred:\n",
      "\u001b[0;31mInvalidURL\u001b[0m                                Traceback (most recent call last)",
      "\u001b[0;32m/tmp/ipykernel_36818/382602842.py\u001b[0m in \u001b[0;36m<module>\u001b[0;34m\u001b[0m\n\u001b[1;32m      2\u001b[0m \u001b[0;32mfor\u001b[0m \u001b[0md\u001b[0m \u001b[0;32min\u001b[0m \u001b[0mtqdm\u001b[0m\u001b[0;34m(\u001b[0m\u001b[0mcounts\u001b[0m\u001b[0;34m.\u001b[0m\u001b[0murl_domain\u001b[0m\u001b[0;34m)\u001b[0m\u001b[0;34m:\u001b[0m\u001b[0;34m\u001b[0m\u001b[0;34m\u001b[0m\u001b[0m\n\u001b[1;32m      3\u001b[0m     \u001b[0mprint\u001b[0m\u001b[0;34m(\u001b[0m\u001b[0md\u001b[0m\u001b[0;34m)\u001b[0m\u001b[0;34m\u001b[0m\u001b[0;34m\u001b[0m\u001b[0m\n\u001b[0;32m----> 4\u001b[0;31m     \u001b[0memails_out\u001b[0m\u001b[0;34m[\u001b[0m\u001b[0md\u001b[0m\u001b[0;34m]\u001b[0m \u001b[0;34m=\u001b[0m \u001b[0mget_emails\u001b[0m\u001b[0;34m(\u001b[0m\u001b[0md\u001b[0m\u001b[0;34m)\u001b[0m\u001b[0;34m\u001b[0m\u001b[0;34m\u001b[0m\u001b[0m\n\u001b[0m",
      "\u001b[0;32m/tmp/ipykernel_36818/3555908775.py\u001b[0m in \u001b[0;36mget_emails\u001b[0;34m(domain)\u001b[0m\n\u001b[1;32m     34\u001b[0m         \u001b[0;32mtry\u001b[0m\u001b[0;34m:\u001b[0m\u001b[0;34m\u001b[0m\u001b[0;34m\u001b[0m\u001b[0m\n\u001b[1;32m     35\u001b[0m             \u001b[0mrequest_count\u001b[0m \u001b[0;34m+=\u001b[0m \u001b[0;36m1\u001b[0m\u001b[0;34m\u001b[0m\u001b[0;34m\u001b[0m\u001b[0m\n\u001b[0;32m---> 36\u001b[0;31m             \u001b[0mresponse\u001b[0m \u001b[0;34m=\u001b[0m \u001b[0mrequests\u001b[0m\u001b[0;34m.\u001b[0m\u001b[0mget\u001b[0m\u001b[0;34m(\u001b[0m\u001b[0murl\u001b[0m\u001b[0;34m)\u001b[0m\u001b[0;34m\u001b[0m\u001b[0;34m\u001b[0m\u001b[0m\n\u001b[0m\u001b[1;32m     37\u001b[0m         \u001b[0;32mexcept\u001b[0m \u001b[0;34m(\u001b[0m\u001b[0mrequests\u001b[0m\u001b[0;34m.\u001b[0m\u001b[0mexceptions\u001b[0m\u001b[0;34m.\u001b[0m\u001b[0mMissingSchema\u001b[0m\u001b[0;34m,\u001b[0m \u001b[0mrequests\u001b[0m\u001b[0;34m.\u001b[0m\u001b[0mexceptions\u001b[0m\u001b[0;34m.\u001b[0m\u001b[0mConnectionError\u001b[0m\u001b[0;34m,\u001b[0m \u001b[0mrequests\u001b[0m\u001b[0;34m.\u001b[0m\u001b[0mexceptions\u001b[0m\u001b[0;34m.\u001b[0m\u001b[0mTooManyRedirects\u001b[0m\u001b[0;34m)\u001b[0m\u001b[0;34m:\u001b[0m\u001b[0;34m\u001b[0m\u001b[0;34m\u001b[0m\u001b[0m\n\u001b[1;32m     38\u001b[0m             \u001b[0;31m# ignore pages with errors\u001b[0m\u001b[0;34m\u001b[0m\u001b[0;34m\u001b[0m\u001b[0;34m\u001b[0m\u001b[0m\n",
      "\u001b[0;32m~/.anaconda3/envs/elixier/lib/python3.7/site-packages/requests/api.py\u001b[0m in \u001b[0;36mget\u001b[0;34m(url, params, **kwargs)\u001b[0m\n\u001b[1;32m     71\u001b[0m     \"\"\"\n\u001b[1;32m     72\u001b[0m \u001b[0;34m\u001b[0m\u001b[0m\n\u001b[0;32m---> 73\u001b[0;31m     \u001b[0;32mreturn\u001b[0m \u001b[0mrequest\u001b[0m\u001b[0;34m(\u001b[0m\u001b[0;34m\"get\"\u001b[0m\u001b[0;34m,\u001b[0m \u001b[0murl\u001b[0m\u001b[0;34m,\u001b[0m \u001b[0mparams\u001b[0m\u001b[0;34m=\u001b[0m\u001b[0mparams\u001b[0m\u001b[0;34m,\u001b[0m \u001b[0;34m**\u001b[0m\u001b[0mkwargs\u001b[0m\u001b[0;34m)\u001b[0m\u001b[0;34m\u001b[0m\u001b[0;34m\u001b[0m\u001b[0m\n\u001b[0m\u001b[1;32m     74\u001b[0m \u001b[0;34m\u001b[0m\u001b[0m\n\u001b[1;32m     75\u001b[0m \u001b[0;34m\u001b[0m\u001b[0m\n",
      "\u001b[0;32m~/.anaconda3/envs/elixier/lib/python3.7/site-packages/requests/api.py\u001b[0m in \u001b[0;36mrequest\u001b[0;34m(method, url, **kwargs)\u001b[0m\n\u001b[1;32m     57\u001b[0m     \u001b[0;31m# cases, and look like a memory leak in others.\u001b[0m\u001b[0;34m\u001b[0m\u001b[0;34m\u001b[0m\u001b[0;34m\u001b[0m\u001b[0m\n\u001b[1;32m     58\u001b[0m     \u001b[0;32mwith\u001b[0m \u001b[0msessions\u001b[0m\u001b[0;34m.\u001b[0m\u001b[0mSession\u001b[0m\u001b[0;34m(\u001b[0m\u001b[0;34m)\u001b[0m \u001b[0;32mas\u001b[0m \u001b[0msession\u001b[0m\u001b[0;34m:\u001b[0m\u001b[0;34m\u001b[0m\u001b[0;34m\u001b[0m\u001b[0m\n\u001b[0;32m---> 59\u001b[0;31m         \u001b[0;32mreturn\u001b[0m \u001b[0msession\u001b[0m\u001b[0;34m.\u001b[0m\u001b[0mrequest\u001b[0m\u001b[0;34m(\u001b[0m\u001b[0mmethod\u001b[0m\u001b[0;34m=\u001b[0m\u001b[0mmethod\u001b[0m\u001b[0;34m,\u001b[0m \u001b[0murl\u001b[0m\u001b[0;34m=\u001b[0m\u001b[0murl\u001b[0m\u001b[0;34m,\u001b[0m \u001b[0;34m**\u001b[0m\u001b[0mkwargs\u001b[0m\u001b[0;34m)\u001b[0m\u001b[0;34m\u001b[0m\u001b[0;34m\u001b[0m\u001b[0m\n\u001b[0m\u001b[1;32m     60\u001b[0m \u001b[0;34m\u001b[0m\u001b[0m\n\u001b[1;32m     61\u001b[0m \u001b[0;34m\u001b[0m\u001b[0m\n",
      "\u001b[0;32m~/.anaconda3/envs/elixier/lib/python3.7/site-packages/requests/sessions.py\u001b[0m in \u001b[0;36mrequest\u001b[0;34m(self, method, url, params, data, headers, cookies, files, auth, timeout, allow_redirects, proxies, hooks, stream, verify, cert, json)\u001b[0m\n\u001b[1;32m    571\u001b[0m             \u001b[0mhooks\u001b[0m\u001b[0;34m=\u001b[0m\u001b[0mhooks\u001b[0m\u001b[0;34m,\u001b[0m\u001b[0;34m\u001b[0m\u001b[0;34m\u001b[0m\u001b[0m\n\u001b[1;32m    572\u001b[0m         )\n\u001b[0;32m--> 573\u001b[0;31m         \u001b[0mprep\u001b[0m \u001b[0;34m=\u001b[0m \u001b[0mself\u001b[0m\u001b[0;34m.\u001b[0m\u001b[0mprepare_request\u001b[0m\u001b[0;34m(\u001b[0m\u001b[0mreq\u001b[0m\u001b[0;34m)\u001b[0m\u001b[0;34m\u001b[0m\u001b[0;34m\u001b[0m\u001b[0m\n\u001b[0m\u001b[1;32m    574\u001b[0m \u001b[0;34m\u001b[0m\u001b[0m\n\u001b[1;32m    575\u001b[0m         \u001b[0mproxies\u001b[0m \u001b[0;34m=\u001b[0m \u001b[0mproxies\u001b[0m \u001b[0;32mor\u001b[0m \u001b[0;34m{\u001b[0m\u001b[0;34m}\u001b[0m\u001b[0;34m\u001b[0m\u001b[0;34m\u001b[0m\u001b[0m\n",
      "\u001b[0;32m~/.anaconda3/envs/elixier/lib/python3.7/site-packages/requests/sessions.py\u001b[0m in \u001b[0;36mprepare_request\u001b[0;34m(self, request)\u001b[0m\n\u001b[1;32m    494\u001b[0m             \u001b[0mauth\u001b[0m\u001b[0;34m=\u001b[0m\u001b[0mmerge_setting\u001b[0m\u001b[0;34m(\u001b[0m\u001b[0mauth\u001b[0m\u001b[0;34m,\u001b[0m \u001b[0mself\u001b[0m\u001b[0;34m.\u001b[0m\u001b[0mauth\u001b[0m\u001b[0;34m)\u001b[0m\u001b[0;34m,\u001b[0m\u001b[0;34m\u001b[0m\u001b[0;34m\u001b[0m\u001b[0m\n\u001b[1;32m    495\u001b[0m             \u001b[0mcookies\u001b[0m\u001b[0;34m=\u001b[0m\u001b[0mmerged_cookies\u001b[0m\u001b[0;34m,\u001b[0m\u001b[0;34m\u001b[0m\u001b[0;34m\u001b[0m\u001b[0m\n\u001b[0;32m--> 496\u001b[0;31m             \u001b[0mhooks\u001b[0m\u001b[0;34m=\u001b[0m\u001b[0mmerge_hooks\u001b[0m\u001b[0;34m(\u001b[0m\u001b[0mrequest\u001b[0m\u001b[0;34m.\u001b[0m\u001b[0mhooks\u001b[0m\u001b[0;34m,\u001b[0m \u001b[0mself\u001b[0m\u001b[0;34m.\u001b[0m\u001b[0mhooks\u001b[0m\u001b[0;34m)\u001b[0m\u001b[0;34m,\u001b[0m\u001b[0;34m\u001b[0m\u001b[0;34m\u001b[0m\u001b[0m\n\u001b[0m\u001b[1;32m    497\u001b[0m         )\n\u001b[1;32m    498\u001b[0m         \u001b[0;32mreturn\u001b[0m \u001b[0mp\u001b[0m\u001b[0;34m\u001b[0m\u001b[0;34m\u001b[0m\u001b[0m\n",
      "\u001b[0;32m~/.anaconda3/envs/elixier/lib/python3.7/site-packages/requests/models.py\u001b[0m in \u001b[0;36mprepare\u001b[0;34m(self, method, url, headers, files, data, params, auth, cookies, hooks, json)\u001b[0m\n\u001b[1;32m    366\u001b[0m \u001b[0;34m\u001b[0m\u001b[0m\n\u001b[1;32m    367\u001b[0m         \u001b[0mself\u001b[0m\u001b[0;34m.\u001b[0m\u001b[0mprepare_method\u001b[0m\u001b[0;34m(\u001b[0m\u001b[0mmethod\u001b[0m\u001b[0;34m)\u001b[0m\u001b[0;34m\u001b[0m\u001b[0;34m\u001b[0m\u001b[0m\n\u001b[0;32m--> 368\u001b[0;31m         \u001b[0mself\u001b[0m\u001b[0;34m.\u001b[0m\u001b[0mprepare_url\u001b[0m\u001b[0;34m(\u001b[0m\u001b[0murl\u001b[0m\u001b[0;34m,\u001b[0m \u001b[0mparams\u001b[0m\u001b[0;34m)\u001b[0m\u001b[0;34m\u001b[0m\u001b[0;34m\u001b[0m\u001b[0m\n\u001b[0m\u001b[1;32m    369\u001b[0m         \u001b[0mself\u001b[0m\u001b[0;34m.\u001b[0m\u001b[0mprepare_headers\u001b[0m\u001b[0;34m(\u001b[0m\u001b[0mheaders\u001b[0m\u001b[0;34m)\u001b[0m\u001b[0;34m\u001b[0m\u001b[0;34m\u001b[0m\u001b[0m\n\u001b[1;32m    370\u001b[0m         \u001b[0mself\u001b[0m\u001b[0;34m.\u001b[0m\u001b[0mprepare_cookies\u001b[0m\u001b[0;34m(\u001b[0m\u001b[0mcookies\u001b[0m\u001b[0;34m)\u001b[0m\u001b[0;34m\u001b[0m\u001b[0;34m\u001b[0m\u001b[0m\n",
      "\u001b[0;32m~/.anaconda3/envs/elixier/lib/python3.7/site-packages/requests/models.py\u001b[0m in \u001b[0;36mprepare_url\u001b[0;34m(self, url, params)\u001b[0m\n\u001b[1;32m    434\u001b[0m             \u001b[0mscheme\u001b[0m\u001b[0;34m,\u001b[0m \u001b[0mauth\u001b[0m\u001b[0;34m,\u001b[0m \u001b[0mhost\u001b[0m\u001b[0;34m,\u001b[0m \u001b[0mport\u001b[0m\u001b[0;34m,\u001b[0m \u001b[0mpath\u001b[0m\u001b[0;34m,\u001b[0m \u001b[0mquery\u001b[0m\u001b[0;34m,\u001b[0m \u001b[0mfragment\u001b[0m \u001b[0;34m=\u001b[0m \u001b[0mparse_url\u001b[0m\u001b[0;34m(\u001b[0m\u001b[0murl\u001b[0m\u001b[0;34m)\u001b[0m\u001b[0;34m\u001b[0m\u001b[0;34m\u001b[0m\u001b[0m\n\u001b[1;32m    435\u001b[0m         \u001b[0;32mexcept\u001b[0m \u001b[0mLocationParseError\u001b[0m \u001b[0;32mas\u001b[0m \u001b[0me\u001b[0m\u001b[0;34m:\u001b[0m\u001b[0;34m\u001b[0m\u001b[0;34m\u001b[0m\u001b[0m\n\u001b[0;32m--> 436\u001b[0;31m             \u001b[0;32mraise\u001b[0m \u001b[0mInvalidURL\u001b[0m\u001b[0;34m(\u001b[0m\u001b[0;34m*\u001b[0m\u001b[0me\u001b[0m\u001b[0;34m.\u001b[0m\u001b[0margs\u001b[0m\u001b[0;34m)\u001b[0m\u001b[0;34m\u001b[0m\u001b[0;34m\u001b[0m\u001b[0m\n\u001b[0m\u001b[1;32m    437\u001b[0m \u001b[0;34m\u001b[0m\u001b[0m\n\u001b[1;32m    438\u001b[0m         \u001b[0;32mif\u001b[0m \u001b[0;32mnot\u001b[0m \u001b[0mscheme\u001b[0m\u001b[0;34m:\u001b[0m\u001b[0;34m\u001b[0m\u001b[0;34m\u001b[0m\u001b[0m\n",
      "\u001b[0;31mInvalidURL\u001b[0m: Failed to parse: https://physikunterricht-online.dejavascript:void(0);"
     ]
    }
   ],
   "source": [
    "emails_out = dict()\n",
    "for d in tqdm(counts.url_domain):\n",
    "    print(d)\n",
    "    emails_out[d] = get_emails(d)"
   ]
  },
  {
   "cell_type": "code",
   "execution_count": null,
   "id": "8500096f",
   "metadata": {},
   "outputs": [],
   "source": []
  }
 ],
 "metadata": {
  "kernelspec": {
   "display_name": "Python 3 (ipykernel)",
   "language": "python",
   "name": "python3"
  },
  "language_info": {
   "codemirror_mode": {
    "name": "ipython",
    "version": 3
   },
   "file_extension": ".py",
   "mimetype": "text/x-python",
   "name": "python",
   "nbconvert_exporter": "python",
   "pygments_lexer": "ipython3",
   "version": "3.7.11"
  }
 },
 "nbformat": 4,
 "nbformat_minor": 5
}
