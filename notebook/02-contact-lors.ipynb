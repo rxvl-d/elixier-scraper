{
 "cells": [
  {
   "cell_type": "code",
   "execution_count": 15,
   "id": "aaccb376",
   "metadata": {},
   "outputs": [],
   "source": [
    "import pandas as pd\n",
    "import numpy as np_\n",
    "import json\n",
    "import re\n",
    "from matplotlib import pyplot as plt\n",
    "from tqdm import tqdm\n",
    "import requests\n",
    "import pickle"
   ]
  },
  {
   "cell_type": "code",
   "execution_count": 2,
   "id": "81f17251",
   "metadata": {},
   "outputs": [],
   "source": [
    "def get_domain(url):\n",
    "    return re.match('https?://(.*?)(/|$).*', url).groups()[0]\n"
   ]
  },
  {
   "cell_type": "code",
   "execution_count": 3,
   "id": "ba5d4d26",
   "metadata": {},
   "outputs": [],
   "source": [
    "def save_to_csv(frequencies, name):\n",
    "    frequencies.to_frame().reset_index().rename(\n",
    "        columns={'index': 'domain', 0: 'frequency'}\n",
    "    ).to_csv(f'../data/{name}_lor_domains.csv', index_label='id')"
   ]
  },
  {
   "cell_type": "code",
   "execution_count": 4,
   "id": "5b5c3a12",
   "metadata": {},
   "outputs": [],
   "source": [
    "def read_from_csv(name):\n",
    "    pd.read_csv(f'../data/{name}_lor_domains.csv')"
   ]
  },
  {
   "cell_type": "markdown",
   "id": "aea5dd56",
   "metadata": {},
   "source": [
    "### Chemie"
   ]
  },
  {
   "cell_type": "code",
   "execution_count": 5,
   "id": "8368c0a0",
   "metadata": {},
   "outputs": [],
   "source": [
    "with open('../data/elixier_chemie_all.json', 'r')  as f:\n",
    "    chemie_json = json.load(f)"
   ]
  },
  {
   "cell_type": "code",
   "execution_count": 6,
   "id": "5e515b2e",
   "metadata": {},
   "outputs": [],
   "source": [
    "chemie_domain_frequencies = pd.Series([get_domain(u['url']) for u in chemie_json], name='url').value_counts()"
   ]
  },
  {
   "cell_type": "code",
   "execution_count": 7,
   "id": "e432ac3d",
   "metadata": {},
   "outputs": [
    {
     "data": {
      "text/plain": [
       "www.lehrer-online.de                    504\n",
       "media.sodis.de                          142\n",
       "www.seilnacht.com                        86\n",
       "daten.didaktikchemie.uni-bayreuth.de     51\n",
       "www.lingonetz.de                         46\n",
       "Name: url, dtype: int64"
      ]
     },
     "execution_count": 7,
     "metadata": {},
     "output_type": "execute_result"
    }
   ],
   "source": [
    "chemie_domain_frequencies.head()"
   ]
  },
  {
   "cell_type": "markdown",
   "id": "e27b4c50",
   "metadata": {},
   "source": [
    "### Physik"
   ]
  },
  {
   "cell_type": "code",
   "execution_count": 8,
   "id": "932b6b0c",
   "metadata": {},
   "outputs": [],
   "source": [
    "physik_df = pd.read_csv('../data/elixier_physics_all.csv')"
   ]
  },
  {
   "cell_type": "code",
   "execution_count": 9,
   "id": "01149ca5",
   "metadata": {},
   "outputs": [],
   "source": [
    "physik_domain_frequencies = physik_df.url.apply(get_domain).value_counts()"
   ]
  },
  {
   "cell_type": "code",
   "execution_count": 10,
   "id": "b1af315f",
   "metadata": {},
   "outputs": [
    {
     "data": {
      "text/plain": [
       "www.leifiphysik.de            822\n",
       "www.lehrer-online.de          636\n",
       "www.supra-lernplattform.de     92\n",
       "www.bildung-lsa.de             80\n",
       "media.sodis.de                 76\n",
       "Name: url, dtype: int64"
      ]
     },
     "execution_count": 10,
     "metadata": {},
     "output_type": "execute_result"
    }
   ],
   "source": [
    "physik_domain_frequencies.head()"
   ]
  },
  {
   "cell_type": "markdown",
   "id": "0a122e9f",
   "metadata": {},
   "source": [
    "### Combined"
   ]
  },
  {
   "cell_type": "code",
   "execution_count": 11,
   "id": "44ab65d6",
   "metadata": {},
   "outputs": [],
   "source": [
    "out = dict()\n",
    "for i in chemie_domain_frequencies.index:\n",
    "    out[i] = [chemie_domain_frequencies[i], 'chemie']\n",
    "    \n",
    "for i in physik_domain_frequencies.index:\n",
    "    if i in out:\n",
    "        out[i] = [out[i][0] + physik_domain_frequencies[i], 'physik+chemie']\n",
    "    else:\n",
    "        out[i] = [physik_domain_frequencies[i], 'physik']\n",
    "\n",
    "counts_domain = pd.DataFrame(out).transpose().rename(columns={0: 'count', 1: 'domain'}).sort_values(by='count', ascending=False)\n",
    "counts = counts_domain.reset_index().rename(columns={'index': 'url_domain'})"
   ]
  },
  {
   "cell_type": "code",
   "execution_count": 12,
   "id": "58135495",
   "metadata": {},
   "outputs": [
    {
     "data": {
      "text/html": [
       "<div>\n",
       "<style scoped>\n",
       "    .dataframe tbody tr th:only-of-type {\n",
       "        vertical-align: middle;\n",
       "    }\n",
       "\n",
       "    .dataframe tbody tr th {\n",
       "        vertical-align: top;\n",
       "    }\n",
       "\n",
       "    .dataframe thead th {\n",
       "        text-align: right;\n",
       "    }\n",
       "</style>\n",
       "<table border=\"1\" class=\"dataframe\">\n",
       "  <thead>\n",
       "    <tr style=\"text-align: right;\">\n",
       "      <th></th>\n",
       "      <th>url_domain</th>\n",
       "      <th>count</th>\n",
       "      <th>domain</th>\n",
       "    </tr>\n",
       "  </thead>\n",
       "  <tbody>\n",
       "    <tr>\n",
       "      <th>0</th>\n",
       "      <td>www.lehrer-online.de</td>\n",
       "      <td>1140</td>\n",
       "      <td>physik+chemie</td>\n",
       "    </tr>\n",
       "    <tr>\n",
       "      <th>1</th>\n",
       "      <td>www.leifiphysik.de</td>\n",
       "      <td>822</td>\n",
       "      <td>physik</td>\n",
       "    </tr>\n",
       "    <tr>\n",
       "      <th>2</th>\n",
       "      <td>media.sodis.de</td>\n",
       "      <td>218</td>\n",
       "      <td>physik+chemie</td>\n",
       "    </tr>\n",
       "    <tr>\n",
       "      <th>3</th>\n",
       "      <td>www.planet-schule.de</td>\n",
       "      <td>116</td>\n",
       "      <td>physik+chemie</td>\n",
       "    </tr>\n",
       "    <tr>\n",
       "      <th>4</th>\n",
       "      <td>www.supra-lernplattform.de</td>\n",
       "      <td>106</td>\n",
       "      <td>physik+chemie</td>\n",
       "    </tr>\n",
       "  </tbody>\n",
       "</table>\n",
       "</div>"
      ],
      "text/plain": [
       "                   url_domain count         domain\n",
       "0        www.lehrer-online.de  1140  physik+chemie\n",
       "1          www.leifiphysik.de   822         physik\n",
       "2              media.sodis.de   218  physik+chemie\n",
       "3        www.planet-schule.de   116  physik+chemie\n",
       "4  www.supra-lernplattform.de   106  physik+chemie"
      ]
     },
     "execution_count": 12,
     "metadata": {},
     "output_type": "execute_result"
    }
   ],
   "source": [
    "counts.head()"
   ]
  },
  {
   "cell_type": "code",
   "execution_count": 13,
   "id": "54e8c28d",
   "metadata": {},
   "outputs": [],
   "source": [
    "domain_urls = ['https://' + d for d in counts.url_domain]"
   ]
  },
  {
   "cell_type": "code",
   "execution_count": 17,
   "id": "5372ae35",
   "metadata": {},
   "outputs": [],
   "source": [
    "with open('emails', 'rb') as f:\n",
    "    emails = pickle.load(f)"
   ]
  },
  {
   "cell_type": "code",
   "execution_count": 19,
   "id": "51d542de",
   "metadata": {},
   "outputs": [
    {
     "data": {
      "text/plain": [
       "{'https://www.lehrer-online.de': None,\n",
       " 'https://www.leifiphysik.de': None,\n",
       " 'https://media.sodis.de': None,\n",
       " 'https://www.planet-schule.de': None,\n",
       " 'https://www.supra-lernplattform.de': None,\n",
       " 'https://www.lingonetz.de': None,\n",
       " 'https://www.seilnacht.com': None,\n",
       " 'https://de.wikipedia.org': None,\n",
       " 'https://www.bildung-lsa.de': None,\n",
       " 'https://www.zum.de': None,\n",
       " 'https://www.abi-physik.de': None,\n",
       " 'https://static.bildung-rp.de': None,\n",
       " 'https://daten.didaktikchemie.uni-bayreuth.de': None,\n",
       " 'https://www.komm-mach-mint.de': None,\n",
       " 'https://lernarchiv.bildung.hessen.de': None,\n",
       " 'https://www.lncu.de': None,\n",
       " 'https://www.chemieunterricht.de': None,\n",
       " 'https://www.heise.de': None,\n",
       " 'https://www.zauberhafte-physik.net': None,\n",
       " 'https://www.wissenschaftsjahr.de': None,\n",
       " 'https://digitallearninglab.de': None,\n",
       " 'https://mp3.bildung.hessen.de': None,\n",
       " 'https://www.dlr.de': None,\n",
       " 'https://primas.ph-freiburg.de': None,\n",
       " 'https://www.science-on-stage.de': None,\n",
       " 'https://www.schule-bw.de': None,\n",
       " 'https://www.esa.int': None,\n",
       " 'https://educ.ethz.ch': None,\n",
       " 'https://www.chemie-master.de': None,\n",
       " 'https://www.wissenschaft-schulen.de': None,\n",
       " 'https://www.forscher-online.de': None,\n",
       " 'https://www.tempolimit-lichtgeschwindigkeit.de': None,\n",
       " 'https://www.bildungsserver.de': None,\n",
       " 'https://www.ltam.lu': None,\n",
       " 'https://online-media.uni-marburg.de': None,\n",
       " 'https://blogs.helmholtz.de': None,\n",
       " 'https://physikaufgaben.de': None,\n",
       " 'https://physikforkids.de': None,\n",
       " 'https://mint-zirkel.de': None,\n",
       " 'https://www.bautschweb.de': None,\n",
       " 'https://www.umwelt-im-unterricht.de': None,\n",
       " 'https://sodis.de': None,\n",
       " 'https://www.unterrichtsmaterial-schule.de': None,\n",
       " 'https://www.dguv-lug.de': None,\n",
       " 'https://wiki.zum.de': None,\n",
       " 'https://www.meine-forscherwelt.de': None,\n",
       " 'https://medienportal.siemens-stiftung.org': None,\n",
       " 'https://www.mint-ec.de': None,\n",
       " 'https://www.schulentwicklung.nrw.de': None,\n",
       " 'https://melt.fwu.de': None,\n",
       " 'https://www.youtube.com': None,\n",
       " 'https://chids.online.uni-marburg.de': None,\n",
       " 'https://www.physikfuerkids.de': None,\n",
       " 'https://www.seilnacht.tuttlingen.com': None,\n",
       " 'https://www.walter-fendt.de': None,\n",
       " 'https://physik.uibk.ac.at': None,\n",
       " 'https://www.chempage.de': None,\n",
       " 'https://www.chemgapedia.de': None,\n",
       " 'https://www.physik-am-auto.de': None,\n",
       " 'https://mediaserve.kompetenzz.net': None,\n",
       " 'https://www.roentgenmuseum.de': None,\n",
       " 'https://www.ubz-stmk.at': None,\n",
       " 'https://virtuelle-experimente.de': None,\n",
       " 'https://wikis.zum.de': None,\n",
       " 'https://www.compass-project.eu': None,\n",
       " 'https://www.physik-schule.de': None,\n",
       " 'https://www.poleninderschule.de': None,\n",
       " 'https://www.u-helmich.de': None,\n",
       " 'https://lehrerfortbildung-bw.de': None,\n",
       " 'https://esero.de': None,\n",
       " 'https://www.xplora.org': None,\n",
       " 'https://www.geomar.de': None,\n",
       " 'https://www.didaktik.physik.uni-muenchen.de': None,\n",
       " 'https://www.bildungspartner.schulministerium.nrw.de': None,\n",
       " 'https://www.energie-macht-schule.de': None,\n",
       " 'https://www.educ.ethz.ch': None,\n",
       " 'https://www.me-vermitteln.de': None,\n",
       " 'https://www.max-wissen.de': None,\n",
       " 'https://www.kindernetz.de': None,\n",
       " 'https://www.fwu-mediathek.de': None,\n",
       " 'https://www.mybookmachine-online.de': None,\n",
       " 'https://www.zeitbild.de': None,\n",
       " 'https://platform.govie.de': None,\n",
       " 'https://www.genius-community.com': None,\n",
       " 'https://www.jugendtechnikschule.de': None,\n",
       " 'https://wissenschaftsjahr-2020.visionkino.de': None,\n",
       " 'https://idw-online.de': None,\n",
       " 'https://www.labbe.de': None,\n",
       " 'https://space2school.de': None,\n",
       " 'https://www.chemiekiste.de': None,\n",
       " 'https://www.helmholtz.de': None,\n",
       " 'https://www.fokus-biologische-vielfalt.de': None,\n",
       " 'https://material.kompetenzz.net': None,\n",
       " 'https://www.fwu-mediathek.com': None,\n",
       " 'https://www.chemieplanet.de': None,\n",
       " 'https://www.chemiedidaktik.uni-wuppertal.de': None,\n",
       " 'https://www.chemikus.de': None,\n",
       " 'https://www.medienwerkstatt-online.de': None,\n",
       " 'https://www.bimsev.de': None,\n",
       " 'https://physikunterricht-online.de': None,\n",
       " 'https://www.fis.uni-bonn.de': None,\n",
       " 'https://www.wilhelmpichler.at': None,\n",
       " 'https://www.johnkyrk.com': None,\n",
       " 'https://www.123chemie.de': None,\n",
       " 'https://www.mallig.eduvinet.de': None,\n",
       " 'https://www.uni-potsdam.de': None,\n",
       " 'https://bildungsserver.berlin-brandenburg.de': None,\n",
       " 'https://www.geo.de': None,\n",
       " 'https://www.chem2do.de': None,\n",
       " 'https://www.dhm.de': None,\n",
       " 'https://lcu.creos.de': None,\n",
       " 'https://quizacademy.de': None,\n",
       " 'https://www.teilchenwelt.de': None,\n",
       " 'https://dblay.de': None,\n",
       " 'https://www.medien-in-die-schule.de': None,\n",
       " 'https://www.informationszentrum-mobilfunk.de': None,\n",
       " 'https://steinphysik.de': None,\n",
       " 'https://funduino.de': None,\n",
       " 'https://www.lenntech.com': None,\n",
       " 'https://www.frustfrei-lernen.de': None,\n",
       " 'https://www.schulmediothek.de': None,\n",
       " 'https://www.swisseduc.ch': None,\n",
       " 'https://www.chemieseite.de': None,\n",
       " 'https://supermint.de': None,\n",
       " 'https://www.ipn.uni-kiel.de': None,\n",
       " 'https://www.tappel.mynetcologne.de': None,\n",
       " 'https://www.planet-wissen.de': None,\n",
       " 'https://www.safechemical.de': None,\n",
       " 'https://www.elektronik-kompendium.de': None,\n",
       " 'https://www.physik.uni-wuerzburg.de': None,\n",
       " 'https://www.ralf-woelfle.de': None,\n",
       " 'https://scheringstiftung.de': None,\n",
       " 'https://www.hamburger-bildungsserver.de': None,\n",
       " 'https://www.physikforkids.de': None,\n",
       " 'https://www.uni-mainz.de': None,\n",
       " 'https://www2.hu-berlin.de': None,\n",
       " 'https://www.wasserwissen.ruhr': None,\n",
       " 'https://www.schul-physik.de': None,\n",
       " 'https://www.holografie.com': None,\n",
       " 'https://calliope.cc': None,\n",
       " 'https://www.kidsweb.de': None,\n",
       " 'https://ddi.uni-wuppertal.de': None,\n",
       " 'https://www.klima-sucht-schutz.de': None,\n",
       " 'https://www.auditorix.de': None,\n",
       " 'https://www.krypto-im-advent.de': None,\n",
       " 'https://www.hanisauland.de': None,\n",
       " 'https://www.ulfkonrad.de': None,\n",
       " 'https://www.schulphysik.de': None,\n",
       " 'https://www.forphys.de': None,\n",
       " 'https://www.astronomie.de': None,\n",
       " 'https://marvin.sn.schule.de': None,\n",
       " 'https://bildungsserver.hamburg.de': None,\n",
       " 'https://www.blinde-kuh.de': None,\n",
       " 'https://jersey.uoregon.edu': None,\n",
       " 'https://www.nobelprize.org': None,\n",
       " 'https://www.jgiesen.de': None,\n",
       " 'https://echo.mpiwg-berlin.mpg.de': None,\n",
       " 'https://www.deutsche-biographie.de': None,\n",
       " 'https://www.lpm.uni-sb.de': None,\n",
       " 'https://www.wissen.swr.de': None,\n",
       " 'https://www.visualentities.com': None,\n",
       " 'https://lsvr12.kanti-frauenfeld.ch': None,\n",
       " 'https://www.swm.de': None,\n",
       " 'https://www.g-o.de': None,\n",
       " 'https://www.kis.uni-freiburg.de': None,\n",
       " 'https://www.virtphys.uni-bayreuth.de': None,\n",
       " 'https://de.wikibooks.org': None,\n",
       " 'https://www.lutz-clausnitzer.de': None,\n",
       " 'https://www.esero.de': None,\n",
       " 'https://www.organspende-info.de': None,\n",
       " 'https://www.kids-and-science.de': None,\n",
       " 'https://www.curriculab.de': None,\n",
       " 'https://www.bfs.de': None,\n",
       " 'https://www.welt.de': None,\n",
       " 'https://www.die-honigmacher.de': None,\n",
       " 'https://mascil.ph-freiburg.de': None,\n",
       " 'https://www.fwu.de': None,\n",
       " 'https://www.cac.cornell.edu': None,\n",
       " 'https://learnline.schulministerium.nrw.de': None,\n",
       " 'https://viamint.haw-hamburg.de': None,\n",
       " 'https://www.mint-digital.de': None,\n",
       " 'https://ivi-unterricht.de': None,\n",
       " 'https://library.thinkquest.org': None,\n",
       " 'https://ivi-education.de': None,\n",
       " 'https://lfmpublikationen.lfm-nrw.de': None,\n",
       " 'https://194.95.207.89': None,\n",
       " 'https://www.experimentalchemie.de': None,\n",
       " 'https://www2.sn.schule.de': None,\n",
       " 'https://www.chemie-schule.de': None,\n",
       " 'https://www.helles-koepfchen.de': None,\n",
       " 'https://matches2017.jimdo.com': None,\n",
       " 'https://www.lebensnaherchemieunterricht.de': None,\n",
       " 'https://www.tomchemie.de': None,\n",
       " 'https://unterrichten.zum.de': None,\n",
       " 'https://www.diebrennstoffzelle.de': None,\n",
       " 'https://www.chemieonline.de': None,\n",
       " 'https://www.netexperimente.de': None,\n",
       " 'https://www.chemie.uni-regensburg.de': None,\n",
       " 'https://www.chemie.schule': None,\n",
       " 'https://lexi-tv.de': None,\n",
       " 'https://netchemie.de': None,\n",
       " 'https://www.chem.qmw.ac.uk': None,\n",
       " 'https://www.cambridgesoft.com': None,\n",
       " 'https://www.scivit.de': None,\n",
       " 'https://www.lehrerweb.at': None,\n",
       " 'https://www.phynet.de': None,\n",
       " 'https://www.schulprojekt-mobilfunk.de': None,\n",
       " 'https://www.fiz-chemie.de': None,\n",
       " 'https://internet-abc.de': None,\n",
       " 'https://www.roro-seiten.de': None,\n",
       " 'https://plasticschool.de': None,\n",
       " 'https://www.dfg.de': None,\n",
       " 'https://www.esero.lu': None,\n",
       " 'https://evokids.de': None,\n",
       " 'https://www.meinunterricht.de': None,\n",
       " 'https://www.nlm.de': None,\n",
       " 'https://medienistik.files.wordpress.com': None,\n",
       " 'https://www.gruene-arbeitswelt.de': None,\n",
       " 'https://www.greenpeace.de': None,\n",
       " 'https://coding-for-tomorrow.de': None,\n",
       " 'https://www.mildenberger-verlag.de': None,\n",
       " 'https://naturdetektive.bfn.de': None,\n",
       " 'https://www.wdrmaus.de': None,\n",
       " 'https://www.haus-der-kleinen-forscher.de': None,\n",
       " 'https://www.nibis.de': None,\n",
       " 'https://www.tierchenwelt.de': None,\n",
       " 'https://www.archiraum.de': None,\n",
       " 'https://www.oeko.de': None,\n",
       " 'https://kworkquark.desy.de': None,\n",
       " 'https://www.azinet.com': None,\n",
       " 'https://www.beiki.de': None,\n",
       " 'https://www.lernhelfer.de': None,\n",
       " 'https://lernbausteine.energie-macht-schule.de': None,\n",
       " 'https://galileo.phys.virginia.edu': None,\n",
       " 'https://www.physikverstehen.de': None,\n",
       " 'https://www.philolex.de': None,\n",
       " 'https://teacher.scholastic.com': None,\n",
       " 'https://www.wdr.de': None,\n",
       " 'https://photojournal.jpl.nasa.gov': None,\n",
       " 'https://mars-sim.sourceforge.net': None,\n",
       " 'https://physikquiz.de': None,\n",
       " 'https://www.venuscope.de': None,\n",
       " 'https://www.br-online.de': None,\n",
       " 'https://columbuseye.uni-bonn.de': None,\n",
       " 'https://www.archive.org': None,\n",
       " 'https://teilchenzoo.desy.de': None,\n",
       " 'https://www.n-ergie.de': None,\n",
       " 'https://www.enso.info': None,\n",
       " 'https://tetfolio.fu-berlin.de': None,\n",
       " 'https://www.hr.de': None,\n",
       " 'https://www.bildungskreis-borken.de': None,\n",
       " 'https://www.mikroskopie.de': None,\n",
       " 'https://www.planetenlehrpfad-marburg.de': None,\n",
       " 'https://www.e-politik.de': None,\n",
       " 'https://www.physikdigital.de': None,\n",
       " 'https://www.bpb.de': None,\n",
       " 'https://www.ehretphysik.de': None,\n",
       " 'https://www.musik-im-unterricht.de': None,\n",
       " 'https://www.afs-musik.de': None,\n",
       " 'https://www.top-wetter.de': None,\n",
       " 'https://www.kiknet-kaffeezentrale.org': None,\n",
       " 'https://www.genesismission.org': None,\n",
       " 'https://www.phil-fak.uni-duesseldorf.de': None,\n",
       " 'https://kmap.eu': None,\n",
       " 'https://www.sternwarte-neumarkt.de': None,\n",
       " 'https://www.astro.uni-bonn.de': None,\n",
       " 'https://notes.ikg.rt.bw.schule.de': None,\n",
       " 'https://www.schlauerlernen.de': None,\n",
       " 'https://www.tu9.de': None,\n",
       " 'https://www.ihk-tecnopedia.de': None,\n",
       " 'https://www.schlauistwow.de': None,\n",
       " 'https://www.idn.uni-bremen.de': None,\n",
       " 'https://www.physi.uni-heidelberg.de': None,\n",
       " 'https://www.desy.de': None,\n",
       " 'https://www.besold.info': None,\n",
       " 'https://www.philo.de': None,\n",
       " 'https://www.meteoros.de': None,\n",
       " 'https://www.letsmakemusic.de': None,\n",
       " 'https://www.medizinfo.de': None,\n",
       " 'https://www.sehen.de': None,\n",
       " 'https://www.philosophie-woerterbuch.de': None,\n",
       " 'https://www.dwd.de': None,\n",
       " 'https://www.aatis.de': None,\n",
       " 'https://www.hyaden.de': None,\n",
       " 'https://www.ap.univie.ac.at': None,\n",
       " 'https://www.imst.ac.at': None,\n",
       " 'https://bib.gfz-potsdam.de': None,\n",
       " 'https://sternchenland.com': None,\n",
       " 'https://www.astronews.com': None,\n",
       " 'https://www.cotf.edu': None,\n",
       " 'https://www.iaea.org': None,\n",
       " 'https://www.weltderphysik.de': None,\n",
       " 'https://www.kornelius.de': None,\n",
       " 'https://sinus-transfer.uni-bayreuth.de': None,\n",
       " 'https://www.goethe.de': None,\n",
       " 'https://www.think-ing.de': None,\n",
       " 'https://www.eso.org': None,\n",
       " 'https://sonnenring.ast-ra.de': None,\n",
       " 'https://www.strom-online.ch': None,\n",
       " 'https://www.mediaculture-online.de': None,\n",
       " 'https://www.einsteingalerie.de': None,\n",
       " 'https://www.hea.de': None,\n",
       " 'https://ethz.ch': None,\n",
       " 'https://www.stefan-baumgartner.de': None,\n",
       " 'https://home.arcor.de': None,\n",
       " 'https://ne.lo-net2.de': None,\n",
       " 'https://www.ssk.de': None,\n",
       " 'https://www.tschernobyl-folgen.de': None,\n",
       " 'https://www.4teachers.de': None,\n",
       " 'https://www.physikquest.de': None,\n",
       " 'https://www.aao.gov.au': None,\n",
       " 'https://www.phyx.at': None,\n",
       " 'https://www.planetenprogramm.de': None,\n",
       " 'https://www.planetenweg.de': None,\n",
       " 'https://www.experiminta.de': None,\n",
       " 'https://www.gerdclasen.de': None,\n",
       " 'https://vimeo.com': None,\n",
       " 'https://junge-tueftler.de': None,\n",
       " 'https://www.seefunknetz.de': None,\n",
       " 'https://roentgenmuseum.de': None,\n",
       " 'https://www.planet-kerry.com': None,\n",
       " 'https://www.sternwarte-remscheid.de': None,\n",
       " 'https://www.kinderbuch-couch.de': None,\n",
       " 'https://www.physik.tu-berlin.de': None,\n",
       " 'https://www.gerhards.net': None,\n",
       " 'https://www.neunplaneten.de': None,\n",
       " 'https://edeos.org': None,\n",
       " 'https://physics.bu.edu': None,\n",
       " 'https://turing-bus.de': None,\n",
       " 'https://www.QuantumLab.de': None,\n",
       " 'https://www.physik-im-unterricht.de': None,\n",
       " 'https://didaktik.physik.hu-berlin.de': None,\n",
       " 'https://www.zukunft-der-energie.de': None,\n",
       " 'https://www.biologie-schule.de': None,\n",
       " 'https://maxplanckcinema.tumblr.com': None,\n",
       " 'https://www.learnwired.de': None,\n",
       " 'https://www.unterrichte-nachhilfe.de': None,\n",
       " 'https://raumzeit-podcast.de': None,\n",
       " 'https://www.quantenwelt.de': None,\n",
       " 'https://www3.sachsen.schule': None,\n",
       " 'https://www.christian-doppler.com': None,\n",
       " 'https://www.hydrogenlab.de': None,\n",
       " 'https://www.autenrieths.de': None,\n",
       " 'https://www.geogebra.org': None,\n",
       " 'https://www.zeit.de': None,\n",
       " 'https://astro.goblack.de': None,\n",
       " 'https://www.agcom.uni-bremen.de': None,\n",
       " 'https://naturwissenschaften.bildung-rp.de': None,\n",
       " 'https://www.mpe.mpg.de': None,\n",
       " 'https://apps.apple.com': None,\n",
       " 'https://www.physik-im-advent.de': None,\n",
       " 'https://dfg-science-tv.de': None,\n",
       " 'https://www.scheibler-web.de': None,\n",
       " 'https://www.interactivephysics.com': None,\n",
       " 'https://www.physics4you.de': None,\n",
       " 'https://www.uni-kassel.de': None,\n",
       " 'https://www.ethz.ch': None,\n",
       " 'https://teachers.web.cern.ch': None,\n",
       " 'https://phyphox.org': None,\n",
       " 'https://www.sternklar.de': None,\n",
       " 'https://astronomy.utfs.org': None,\n",
       " 'https://www.photonworld.de': None,\n",
       " 'https://www.uni-ulm.de': None,\n",
       " 'https://www.studimup-physik.de': None,\n",
       " 'https://www.klaus-tschira-stiftung.de': None,\n",
       " 'https://www.lesen-in-deutschland.de': None,\n",
       " 'https://www.algodoo.com': None,\n",
       " 'https://www.teilchenphysik.info': None,\n",
       " 'https://www.raumfahrer.net': None,\n",
       " 'https://www.ariss-eu.org': None,\n",
       " 'https://physik.blogspot.com': None,\n",
       " 'https://www.physikerboard.de': None,\n",
       " 'https://www.br.de': None,\n",
       " 'https://www.schremmer.de': None,\n",
       " 'https://www.martin-reuss.de': None,\n",
       " 'https://www.solarviews.com': None,\n",
       " 'https://www.atom4kids.net': None,\n",
       " 'https://www.sachsen.schule': None,\n",
       " 'https://ifatwww.et.uni-magdeburg.de': None,\n",
       " 'https://server.ifp.uni-bremen.de': None,\n",
       " 'https://campus.phbern.ch': None,\n",
       " 'https://www.mpg.de': None,\n",
       " 'https://www.elektronik-kurs.de': None,\n",
       " 'https://www.jpl.nasa.gov': None,\n",
       " 'https://www.erdsicht.de': None,\n",
       " 'https://www.lpb-bw.de': None,\n",
       " 'https://www.cecm.sfu.ca': None,\n",
       " 'https://www.turmair-gymnasium.de': None,\n",
       " 'https://www.iapht.unito.it': None,\n",
       " 'https://www.schulportal-thueringen.de': None,\n",
       " 'https://www.sails-project.eu': None,\n",
       " 'https://www.koopiworld.de': None,\n",
       " 'https://www.mikomma.de': None,\n",
       " 'https://www.wissenschaft-online.de': None,\n",
       " 'https://www.earlytechnicaleducation.org': None,\n",
       " 'https://www.redusoft.de': None,\n",
       " 'https://denkwerkstatt-physik.de': None,\n",
       " 'https://www.friedrich-verlag.de': None,\n",
       " 'https://www.wissenschaft-im-dialog.de': None,\n",
       " 'https://www.grund-wissen.de': None,\n",
       " 'https://www.brückenkurs-physik.de': None,\n",
       " 'https://www.jahr-des-lichts.de': None,\n",
       " 'https://www.radioaktive-strahlung.org': None,\n",
       " 'https://www.faszinationlicht.de': None,\n",
       " 'https://www.arbeitsblaetter-physik.de': None,\n",
       " 'https://afs-hessen.de': None,\n",
       " 'https://www.lexi-tv.de': None,\n",
       " 'https://www.frischabpresse.ch': None,\n",
       " 'https://www.edumedia-sciences.com': None,\n",
       " 'https://dibb.de': None,\n",
       " 'https://www.chemie.com': None,\n",
       " 'https://www.chemie-macht-spass.de': None,\n",
       " 'https://www.chemieunterricht-interaktiv.de': None,\n",
       " 'https://www.chemie-im-alltag.de': None,\n",
       " 'https://lncu.de': None,\n",
       " 'https://www.chemikerboard.de': None,\n",
       " 'https://www.chemie-award.de': None,\n",
       " 'https://www.ase.org.uk': None,\n",
       " 'https://www.lenntech.de': None,\n",
       " 'https://de.serlo.org': None,\n",
       " 'https://www.ice.mpg.de': None,\n",
       " 'https://www.sinus.lernnetz.de': None,\n",
       " 'https://experimentas.de': None,\n",
       " 'https://www.Chemie-Lernprogramme.de': None,\n",
       " 'https://dbs.schule.de': None,\n",
       " 'https://ch.eduhi.at': None,\n",
       " 'https://www.chemie.de': None,\n",
       " 'https://www.hamm-chemie.de': None,\n",
       " 'https://unterricht.schule': None,\n",
       " 'https://www.dechemax.de': None,\n",
       " 'https://www.chids.de': None,\n",
       " 'https://www.chemieideen.net': None,\n",
       " 'https://www.ptable.com': None,\n",
       " 'https://www.mypse.de': None,\n",
       " 'https://www.studimup-chemie.de': None,\n",
       " 'https://treibstoffe.wordpress.com': None,\n",
       " 'https://www.chemieexperimente.de.vu': None,\n",
       " 'https://www.lernort-mint.de': None,\n",
       " 'https://www.chemieexperimente.de': None,\n",
       " 'https://www.lehrer.uni-karlsruhe.de': None,\n",
       " 'https://www.fys-online.de': None,\n",
       " 'https://www.uibk.ac.at': None,\n",
       " 'https://123chemie.iprendo.de': None,\n",
       " 'https://www.sinus-transfer.de': None,\n",
       " 'https://www.lebensmittelzusatzstoffe.de': None,\n",
       " 'https://www.allgemeinbildung.ch': None,\n",
       " 'https://www.kd-chemie.de': None,\n",
       " 'https://www.chemie-interaktiv.net': None,\n",
       " 'https://hoffmeister.it': None,\n",
       " 'https://lms.bildung-rp.de': None,\n",
       " 'https://www2.chemie.uni-erlangen.de': None,\n",
       " 'https://ch.schule.at': None,\n",
       " 'https://www.guidobauersachs.de': None,\n",
       " 'https://chemfinder.cambridgesoft.com': None,\n",
       " 'https://www.brennstoffzelle-hessen.de': None,\n",
       " 'https://www.bionet.schule.de': None,\n",
       " 'https://www.newton.dep.anl.gov': None,\n",
       " 'https://www.nyu.edu': None,\n",
       " 'https://www.chemius.de.vu': None,\n",
       " 'https://www.myPSE.de.vu': None,\n",
       " 'https://www.cdch.de': None,\n",
       " 'https://www.geocities.com': None,\n",
       " 'https://www.chemgaroo.de': None,\n",
       " 'https://www.welthaus.de': None,\n",
       " 'https://blk.mat.uni-bayreuth.de': None,\n",
       " 'https://www.die-roemer-online.de': None,\n",
       " 'https://www.chemie.uni-ulm.de': None,\n",
       " 'https://www.internetchemie.info': None,\n",
       " 'https://www.insektenbox.de': None,\n",
       " 'https://www.boell.de': None,\n",
       " 'https://www.hs-merseburg.de': None,\n",
       " 'https://www.inforef.be': None,\n",
       " 'https://www.bayern.de': None,\n",
       " 'https://members.aon.at': None,\n",
       " 'https://www.bcp.fu-berlin.de': None,\n",
       " 'https://www.bmub.bund.de': None,\n",
       " 'https://didaktikchemie.uni-bayreuth.de': None,\n",
       " 'https://www.chemiedidaktik.uni-frankfurt.de': None,\n",
       " 'https://www.ddesignmedia.de': None,\n",
       " 'https://www.becherglas.de': None,\n",
       " 'https://www.pk-applets.de': None,\n",
       " 'https://learningapps.org': None,\n",
       " 'https://www.experimentas.de': None,\n",
       " 'https://www.schlaukopf.de': None,\n",
       " 'https://www.wsl.ch': None,\n",
       " 'https://www.tgs-chemie.de': None,\n",
       " 'https://mintmagie.de': None,\n",
       " 'https://www.schulchemie.de': None,\n",
       " 'https://fachcommunity.bildung.hessen.de': None,\n",
       " 'https://bmbf-plastik.de': None,\n",
       " 'https://www.bukopharma.de': None,\n",
       " 'https://www.papierschule.eu': None,\n",
       " 'https://hausaufgaben-24.de': None,\n",
       " 'https://www.google.de': None,\n",
       " 'https://chemie-digital.de': None,\n",
       " 'https://www.chf.de': None,\n",
       " 'https://www.stirlingjunior.de': None,\n",
       " 'https://erdoelreserven.wordpress.com': None,\n",
       " 'https://www.unesco.de': None,\n",
       " 'https://www.npl.co.uk': None,\n",
       " 'https://www.be.schule.de': None,\n",
       " 'https://www.austria-lexikon.at': None,\n",
       " 'https://www.milq.info': None,\n",
       " 'https://www.photonikforschung.de': None,\n",
       " 'https://www.motionmountain.org': None,\n",
       " 'https://www.learnweb.de': None,\n",
       " 'https://www.die-lochkamera.de': None,\n",
       " 'https://esero.ie': None,\n",
       " 'https://www.max-planck.mpg.de': None,\n",
       " 'https://www.sn.schule.de': None,\n",
       " 'https://www.uni-muenster.de': None,\n",
       " 'https://science.howstuffworks.com': None,\n",
       " 'https://www.fe-lexikon.info': None,\n",
       " 'https://www.museum.schulministerium.nrw.de': None,\n",
       " 'https://www.nasa.gov': None,\n",
       " 'https://www.einstein-bern.ch': None,\n",
       " 'https://www.panoptikum.net': None,\n",
       " 'https://www.virtuelles-oszilloskop.de': None,\n",
       " 'https://www.denksport.de': None,\n",
       " 'https://www.lernort-labor.de': None,\n",
       " 'https://www.thphys.uni-heidelberg.de': None,\n",
       " 'https://www.musikschulen.de': None,\n",
       " 'https://www.physik.fh-wiesbaden.de': None,\n",
       " 'https://www.ikg.rt.bw.schule.de': None,\n",
       " 'https://www.av-medien.net': None,\n",
       " 'https://www.rondoweb.de': None,\n",
       " 'https://www.handysektor.de': None,\n",
       " 'https://www.archimedes-lab.org': None,\n",
       " 'https://milq.tu-bs.de': None,\n",
       " 'https://www.miz.org': None,\n",
       " 'https://www.einstein-webquest.ch': None,\n",
       " 'https://www.vds-hessen.de': None,\n",
       " 'https://www.musikerwiki.de': None,\n",
       " 'https://www.einstein-online.info': None,\n",
       " 'https://www.physik-im-kontext.de': None,\n",
       " 'https://www.dpg-physik.de': None,\n",
       " 'https://www.pro-physik.de': None,\n",
       " 'https://uploader.wuerzburg.de': None,\n",
       " 'https://www.guteunterrichtspraxis-nw.org': None,\n",
       " 'https://www.columbuseye.uni-bonn.de': None,\n",
       " 'https://www.bzga.de': None,\n",
       " 'https://www.tjfbg.de': None,\n",
       " 'https://www.budgietainment.com': None,\n",
       " 'https://www.parsel.uni-kiel.de': None,\n",
       " 'https://www.cumschmidt.de': None,\n",
       " 'https://www.t-pse.de': None,\n",
       " 'https://www.chemischdenken.de': None,\n",
       " 'https://www.periodensystem.info': None,\n",
       " 'https://www.netchemie.de': None,\n",
       " 'https://www.chemienet.info': None,\n",
       " 'https://lectureonline.cl.msu.edu': None,\n",
       " 'https://zdoku.pl': None,\n",
       " 'https://www.wolfenthal.de': None,\n",
       " 'https://www.liebig-museum.de': None,\n",
       " 'https://www.iwe.kit.edu': None,\n",
       " 'https://www.csd.uwm.edu': None,\n",
       " 'https://www.korrosion-online.de': None,\n",
       " 'https://www.Chemie.Unterricht.ws': None,\n",
       " 'https://www.aufklaerungsstunde.de': None,\n",
       " 'https://www.hschickor.de': None,\n",
       " 'https://www.uni-bielefeld.de': None,\n",
       " 'https://oparu.uni-ulm.de': None,\n",
       " 'https://www.bio-faqs.de': None,\n",
       " 'https://www.k-wz.de': None,\n",
       " 'https://www.lwl.org': None,\n",
       " 'https://lakschool.com': None,\n",
       " 'https://www.roboter-im-unterricht.de': None,\n",
       " 'https://www.thomas-unkelbach.de.': None,\n",
       " 'https://mediathek.fnr.de': None,\n",
       " 'https://www.geoastro.de': None,\n",
       " 'https://www.einstein-website.de': None,\n",
       " 'https://www.sonnentaler.net': None,\n",
       " 'https://www.kmk.org': None,\n",
       " 'https://www.lilienthal-museum.de': None,\n",
       " 'https://www.chem-page.de': None,\n",
       " 'https://www.bhkw-infozentrum.de': None,\n",
       " 'https://www.sichere-schule.de': None,\n",
       " 'https://www.uniterra.de': None,\n",
       " 'https://www.phy.ntnu.edu.tw': None,\n",
       " 'https://www.eva.ac.at': None,\n",
       " 'https://de.academic.ru': None,\n",
       " 'https://www.ballonmolekuele.de': None,\n",
       " 'https://www2.uni-siegen.de': None,\n",
       " 'https://bookshop.europa.eu': None}"
      ]
     },
     "execution_count": 19,
     "metadata": {},
     "output_type": "execute_result"
    }
   ],
   "source": [
    "dict(zip(domain_urls, emails))"
   ]
  },
  {
   "cell_type": "code",
   "execution_count": 28,
   "id": "26d74f1d",
   "metadata": {},
   "outputs": [],
   "source": [
    "def get_email(domain):\n",
    "    try:\n",
    "        response = requests.get(domain, timeout=3)\n",
    "        return set(re.findall(r\"[a-z0-9\\.\\-+_]+@[a-z0-9\\.\\-+_]+\\.[a-z]+\", response.text, re.I))\n",
    "    except:\n",
    "        return None"
   ]
  },
  {
   "cell_type": "code",
   "execution_count": null,
   "id": "2632a959",
   "metadata": {},
   "outputs": [
    {
     "name": "stderr",
     "output_type": "stream",
     "text": [
      "\n",
      "\n",
      "  0%|                                                                                                               | 0/584 [00:00<?, ?it/s]\u001b[A\u001b[A\n",
      "\n",
      "  0%|▏                                                                                                      | 1/584 [00:05<50:47,  5.23s/it]\u001b[A\u001b[A\n",
      "\n",
      "  0%|▎                                                                                                      | 2/584 [00:05<21:54,  2.26s/it]\u001b[A\u001b[A\n",
      "\n",
      "  1%|▌                                                                                                      | 3/584 [00:05<12:41,  1.31s/it]\u001b[A\u001b[A\n",
      "\n",
      "  1%|▋                                                                                                      | 4/584 [00:06<10:33,  1.09s/it]\u001b[A\u001b[A\n",
      "\n",
      "  1%|▉                                                                                                      | 5/584 [00:06<08:33,  1.13it/s]\u001b[A\u001b[A\n",
      "\n",
      "  1%|█                                                                                                      | 6/584 [00:07<06:17,  1.53it/s]\u001b[A\u001b[A\n",
      "\n",
      "  1%|█▏                                                                                                     | 7/584 [00:08<08:55,  1.08it/s]\u001b[A\u001b[A\n",
      "\n",
      "  1%|█▍                                                                                                     | 8/584 [00:08<06:32,  1.47it/s]\u001b[A\u001b[A\n",
      "\n",
      "  2%|█▌                                                                                                     | 9/584 [00:09<07:27,  1.29it/s]\u001b[A\u001b[A\n",
      "\n",
      "  2%|█▋                                                                                                    | 10/584 [00:10<06:16,  1.52it/s]\u001b[A\u001b[A\n",
      "\n",
      "  2%|█▉                                                                                                    | 11/584 [00:16<22:21,  2.34s/it]\u001b[A\u001b[A\n",
      "\n",
      "  2%|██                                                                                                    | 12/584 [00:16<16:03,  1.68s/it]\u001b[A\u001b[A\n",
      "\n",
      "  2%|██▎                                                                                                   | 13/584 [00:17<14:34,  1.53s/it]\u001b[A\u001b[A\n",
      "\n",
      "  2%|██▍                                                                                                   | 14/584 [00:22<25:09,  2.65s/it]\u001b[A\u001b[A\n",
      "\n",
      "  3%|██▌                                                                                                   | 15/584 [00:23<20:06,  2.12s/it]\u001b[A\u001b[A\n",
      "\n",
      "  3%|██▊                                                                                                   | 16/584 [00:24<15:05,  1.59s/it]\u001b[A\u001b[A\n",
      "\n",
      "  3%|██▉                                                                                                   | 17/584 [00:24<10:53,  1.15s/it]\u001b[A\u001b[A\n",
      "\n",
      "  3%|███▏                                                                                                  | 18/584 [00:29<23:29,  2.49s/it]\u001b[A\u001b[A\n",
      "\n",
      "  3%|███▎                                                                                                  | 19/584 [00:30<17:56,  1.91s/it]\u001b[A\u001b[A\n",
      "\n",
      "  3%|███▍                                                                                                  | 20/584 [00:30<13:00,  1.38s/it]\u001b[A\u001b[A\n",
      "\n",
      "  4%|███▋                                                                                                  | 21/584 [00:31<12:29,  1.33s/it]\u001b[A\u001b[A\n",
      "\n",
      "  4%|███▊                                                                                                  | 22/584 [00:36<23:09,  2.47s/it]\u001b[A\u001b[A\n",
      "\n",
      "  4%|████                                                                                                  | 23/584 [00:37<18:06,  1.94s/it]\u001b[A\u001b[A\n",
      "\n",
      "  4%|████▏                                                                                                 | 24/584 [00:43<28:02,  3.01s/it]\u001b[A\u001b[A\n",
      "\n",
      "  4%|████▎                                                                                                 | 25/584 [00:43<20:53,  2.24s/it]\u001b[A\u001b[A\n",
      "\n",
      "  4%|████▌                                                                                                 | 26/584 [00:49<31:43,  3.41s/it]\u001b[A\u001b[A\n",
      "\n",
      "  5%|████▋                                                                                                 | 27/584 [00:50<23:04,  2.49s/it]\u001b[A\u001b[A\n",
      "\n",
      "  5%|████▉                                                                                                 | 28/584 [00:55<30:18,  3.27s/it]\u001b[A\u001b[A\n",
      "\n",
      "  5%|█████                                                                                                 | 29/584 [01:05<49:16,  5.33s/it]\u001b[A\u001b[A\n",
      "\n",
      "  5%|█████▏                                                                                                | 30/584 [01:06<36:46,  3.98s/it]\u001b[A\u001b[A\n",
      "\n",
      "  5%|█████▍                                                                                                | 31/584 [01:06<26:55,  2.92s/it]\u001b[A\u001b[A\n",
      "\n",
      "  5%|█████▌                                                                                                | 32/584 [01:06<19:25,  2.11s/it]\u001b[A\u001b[A\n",
      "\n",
      "  6%|█████▊                                                                                                | 33/584 [01:08<17:03,  1.86s/it]\u001b[A\u001b[A\n",
      "\n",
      "  6%|█████▉                                                                                                | 34/584 [01:08<13:22,  1.46s/it]\u001b[A\u001b[A\n",
      "\n",
      "  6%|██████                                                                                                | 35/584 [01:08<09:51,  1.08s/it]\u001b[A\u001b[A\n",
      "\n",
      "  6%|██████▎                                                                                               | 36/584 [01:14<22:22,  2.45s/it]\u001b[A\u001b[A\n",
      "\n",
      "  6%|██████▍                                                                                               | 37/584 [01:20<32:11,  3.53s/it]\u001b[A\u001b[A\n",
      "\n",
      "  7%|██████▋                                                                                               | 38/584 [01:26<38:30,  4.23s/it]\u001b[A\u001b[A\n",
      "\n",
      "  7%|██████▊                                                                                               | 39/584 [01:26<27:35,  3.04s/it]\u001b[A\u001b[A"
     ]
    }
   ],
   "source": [
    "emails = [get_email(d) for d in tqdm(domain_urls)]\n",
    "with open('emails', 'wb') as f:\n",
    "    pickle.dump(emails, f)"
   ]
  },
  {
   "cell_type": "code",
   "execution_count": 27,
   "id": "7b6fc6a5",
   "metadata": {},
   "outputs": [
    {
     "data": {
      "text/plain": [
       "[None,\n",
       " None,\n",
       " None,\n",
       " None,\n",
       " None,\n",
       " None,\n",
       " None,\n",
       " None,\n",
       " None,\n",
       " None,\n",
       " None,\n",
       " None,\n",
       " None,\n",
       " None,\n",
       " None,\n",
       " None,\n",
       " None,\n",
       " None,\n",
       " None,\n",
       " None,\n",
       " None,\n",
       " None,\n",
       " None,\n",
       " None,\n",
       " None,\n",
       " None,\n",
       " None,\n",
       " None,\n",
       " None,\n",
       " None,\n",
       " None,\n",
       " None,\n",
       " None,\n",
       " None,\n",
       " None,\n",
       " None,\n",
       " None,\n",
       " None,\n",
       " None,\n",
       " None,\n",
       " None,\n",
       " None,\n",
       " None,\n",
       " None,\n",
       " None,\n",
       " None,\n",
       " None,\n",
       " None,\n",
       " None,\n",
       " None,\n",
       " None,\n",
       " None,\n",
       " None,\n",
       " None,\n",
       " None,\n",
       " None,\n",
       " None,\n",
       " None,\n",
       " None,\n",
       " None,\n",
       " None,\n",
       " None,\n",
       " None,\n",
       " None,\n",
       " None,\n",
       " None,\n",
       " None,\n",
       " None,\n",
       " None,\n",
       " None,\n",
       " None,\n",
       " None,\n",
       " None,\n",
       " None,\n",
       " None,\n",
       " None,\n",
       " None,\n",
       " None,\n",
       " None,\n",
       " None,\n",
       " None,\n",
       " None,\n",
       " None,\n",
       " None,\n",
       " None,\n",
       " None,\n",
       " None,\n",
       " None,\n",
       " None,\n",
       " None,\n",
       " None,\n",
       " None,\n",
       " None,\n",
       " None,\n",
       " None,\n",
       " None,\n",
       " None,\n",
       " None,\n",
       " None,\n",
       " None,\n",
       " None,\n",
       " None,\n",
       " None,\n",
       " None,\n",
       " None,\n",
       " None,\n",
       " None,\n",
       " None,\n",
       " None,\n",
       " None,\n",
       " None,\n",
       " None,\n",
       " None,\n",
       " None,\n",
       " None,\n",
       " None,\n",
       " None,\n",
       " None,\n",
       " None,\n",
       " None,\n",
       " None,\n",
       " None,\n",
       " None,\n",
       " None,\n",
       " None,\n",
       " None,\n",
       " None,\n",
       " None,\n",
       " None,\n",
       " None,\n",
       " None,\n",
       " None,\n",
       " None,\n",
       " None,\n",
       " None,\n",
       " None,\n",
       " None,\n",
       " None,\n",
       " None,\n",
       " None,\n",
       " None,\n",
       " None,\n",
       " None,\n",
       " None,\n",
       " None,\n",
       " None,\n",
       " None,\n",
       " None,\n",
       " None,\n",
       " None,\n",
       " None,\n",
       " None,\n",
       " None,\n",
       " None,\n",
       " None,\n",
       " None,\n",
       " None,\n",
       " None,\n",
       " None,\n",
       " None,\n",
       " None,\n",
       " None,\n",
       " None,\n",
       " None,\n",
       " None,\n",
       " None,\n",
       " None,\n",
       " None,\n",
       " None,\n",
       " None,\n",
       " None,\n",
       " None,\n",
       " None,\n",
       " None,\n",
       " None,\n",
       " None,\n",
       " None,\n",
       " None,\n",
       " None,\n",
       " None,\n",
       " None,\n",
       " None,\n",
       " None,\n",
       " None,\n",
       " None,\n",
       " None,\n",
       " None,\n",
       " None,\n",
       " None,\n",
       " None,\n",
       " None,\n",
       " None,\n",
       " None,\n",
       " None,\n",
       " None,\n",
       " None,\n",
       " None,\n",
       " None,\n",
       " None,\n",
       " None,\n",
       " None,\n",
       " None,\n",
       " None,\n",
       " None,\n",
       " None,\n",
       " None,\n",
       " None,\n",
       " None,\n",
       " None,\n",
       " None,\n",
       " None,\n",
       " None,\n",
       " None,\n",
       " None,\n",
       " None,\n",
       " None,\n",
       " None,\n",
       " None,\n",
       " None,\n",
       " None,\n",
       " None,\n",
       " None,\n",
       " None,\n",
       " None,\n",
       " None,\n",
       " None,\n",
       " None,\n",
       " None,\n",
       " None,\n",
       " None,\n",
       " None,\n",
       " None,\n",
       " None,\n",
       " None,\n",
       " None,\n",
       " None,\n",
       " None,\n",
       " None,\n",
       " None,\n",
       " None,\n",
       " None,\n",
       " None,\n",
       " None,\n",
       " None,\n",
       " None,\n",
       " None,\n",
       " None,\n",
       " None,\n",
       " None,\n",
       " None,\n",
       " None,\n",
       " None,\n",
       " None,\n",
       " None,\n",
       " None,\n",
       " None,\n",
       " None,\n",
       " None,\n",
       " None,\n",
       " None,\n",
       " None,\n",
       " None,\n",
       " None,\n",
       " None,\n",
       " None,\n",
       " None,\n",
       " None,\n",
       " None,\n",
       " None,\n",
       " None,\n",
       " None,\n",
       " None,\n",
       " None,\n",
       " None,\n",
       " None,\n",
       " None,\n",
       " None,\n",
       " None,\n",
       " None,\n",
       " None,\n",
       " None,\n",
       " None,\n",
       " None,\n",
       " None,\n",
       " None,\n",
       " None,\n",
       " None,\n",
       " None,\n",
       " None,\n",
       " None,\n",
       " None,\n",
       " None,\n",
       " None,\n",
       " None,\n",
       " None,\n",
       " None,\n",
       " None,\n",
       " None,\n",
       " None,\n",
       " None,\n",
       " None,\n",
       " None,\n",
       " None,\n",
       " None,\n",
       " None,\n",
       " None,\n",
       " None,\n",
       " None,\n",
       " None,\n",
       " None,\n",
       " None,\n",
       " None,\n",
       " None,\n",
       " None,\n",
       " None,\n",
       " None,\n",
       " None,\n",
       " None,\n",
       " None,\n",
       " None,\n",
       " None,\n",
       " None,\n",
       " None,\n",
       " None,\n",
       " None,\n",
       " None,\n",
       " None,\n",
       " None,\n",
       " None,\n",
       " None,\n",
       " None,\n",
       " None,\n",
       " None,\n",
       " None,\n",
       " None,\n",
       " None,\n",
       " None,\n",
       " None,\n",
       " None,\n",
       " None,\n",
       " None,\n",
       " None,\n",
       " None,\n",
       " None,\n",
       " None,\n",
       " None,\n",
       " None,\n",
       " None,\n",
       " None,\n",
       " None,\n",
       " None,\n",
       " None,\n",
       " None,\n",
       " None,\n",
       " None,\n",
       " None,\n",
       " None,\n",
       " None,\n",
       " None,\n",
       " None,\n",
       " None,\n",
       " None,\n",
       " None,\n",
       " None,\n",
       " None,\n",
       " None,\n",
       " None,\n",
       " None,\n",
       " None,\n",
       " None,\n",
       " None,\n",
       " None,\n",
       " None,\n",
       " None,\n",
       " None,\n",
       " None,\n",
       " None,\n",
       " None,\n",
       " None,\n",
       " None,\n",
       " None,\n",
       " None,\n",
       " None,\n",
       " None,\n",
       " None,\n",
       " None,\n",
       " None,\n",
       " None,\n",
       " None,\n",
       " None,\n",
       " None,\n",
       " None,\n",
       " None,\n",
       " None,\n",
       " None,\n",
       " None,\n",
       " None,\n",
       " None,\n",
       " None,\n",
       " None,\n",
       " None,\n",
       " None,\n",
       " None,\n",
       " None,\n",
       " None,\n",
       " None,\n",
       " None,\n",
       " None,\n",
       " None,\n",
       " None,\n",
       " None,\n",
       " None,\n",
       " None,\n",
       " None,\n",
       " None,\n",
       " None,\n",
       " None,\n",
       " None,\n",
       " None,\n",
       " None,\n",
       " None,\n",
       " None,\n",
       " None,\n",
       " None,\n",
       " None,\n",
       " None,\n",
       " None,\n",
       " None,\n",
       " None,\n",
       " None,\n",
       " None,\n",
       " None,\n",
       " None,\n",
       " None,\n",
       " None,\n",
       " None,\n",
       " None,\n",
       " None,\n",
       " None,\n",
       " None,\n",
       " None,\n",
       " None,\n",
       " None,\n",
       " None,\n",
       " None,\n",
       " None,\n",
       " None,\n",
       " None,\n",
       " None,\n",
       " None,\n",
       " None,\n",
       " None,\n",
       " None,\n",
       " None,\n",
       " None,\n",
       " None,\n",
       " None,\n",
       " None,\n",
       " None,\n",
       " None,\n",
       " None,\n",
       " None,\n",
       " None,\n",
       " None,\n",
       " None,\n",
       " None,\n",
       " None,\n",
       " None,\n",
       " None,\n",
       " None,\n",
       " None,\n",
       " None,\n",
       " None,\n",
       " None,\n",
       " None,\n",
       " None,\n",
       " None,\n",
       " None,\n",
       " None,\n",
       " None,\n",
       " None,\n",
       " None,\n",
       " None,\n",
       " None,\n",
       " None,\n",
       " None,\n",
       " None,\n",
       " None,\n",
       " None,\n",
       " None,\n",
       " None,\n",
       " None,\n",
       " None,\n",
       " None,\n",
       " None,\n",
       " None,\n",
       " None,\n",
       " None,\n",
       " None,\n",
       " None,\n",
       " None,\n",
       " None,\n",
       " None,\n",
       " None,\n",
       " None,\n",
       " None,\n",
       " None,\n",
       " None,\n",
       " None,\n",
       " None,\n",
       " None,\n",
       " None,\n",
       " None,\n",
       " None,\n",
       " None,\n",
       " None,\n",
       " None,\n",
       " None,\n",
       " None,\n",
       " None,\n",
       " None,\n",
       " None,\n",
       " None,\n",
       " None,\n",
       " None,\n",
       " None,\n",
       " None,\n",
       " None,\n",
       " None,\n",
       " None,\n",
       " None,\n",
       " None,\n",
       " None,\n",
       " None,\n",
       " None,\n",
       " None,\n",
       " None,\n",
       " None,\n",
       " None,\n",
       " None,\n",
       " None,\n",
       " None,\n",
       " None,\n",
       " None,\n",
       " None,\n",
       " None,\n",
       " None,\n",
       " None,\n",
       " None,\n",
       " None,\n",
       " None,\n",
       " None,\n",
       " None,\n",
       " None,\n",
       " None,\n",
       " None,\n",
       " None,\n",
       " None,\n",
       " None,\n",
       " None,\n",
       " None,\n",
       " None,\n",
       " None,\n",
       " None,\n",
       " None,\n",
       " None,\n",
       " None,\n",
       " None,\n",
       " None,\n",
       " None,\n",
       " None,\n",
       " None,\n",
       " None,\n",
       " None,\n",
       " None,\n",
       " None,\n",
       " None,\n",
       " None,\n",
       " None,\n",
       " None,\n",
       " None,\n",
       " None,\n",
       " None,\n",
       " None]"
      ]
     },
     "execution_count": 27,
     "metadata": {},
     "output_type": "execute_result"
    }
   ],
   "source": [
    "emails"
   ]
  },
  {
   "cell_type": "markdown",
   "id": "1e383064",
   "metadata": {},
   "source": [
    "### Scrape Emails"
   ]
  },
  {
   "cell_type": "code",
   "execution_count": 63,
   "id": "d1e8621e",
   "metadata": {},
   "outputs": [
    {
     "data": {
      "text/plain": [
       "requests.exceptions.TooManyRedirects"
      ]
     },
     "execution_count": 63,
     "metadata": {},
     "output_type": "execute_result"
    }
   ],
   "source": [
    "requests.exceptions.TooManyRedirects"
   ]
  },
  {
   "cell_type": "code",
   "execution_count": 68,
   "id": "ae33d174",
   "metadata": {},
   "outputs": [],
   "source": [
    "\n",
    "\n",
    "from bs4 import BeautifulSoup\n",
    "import requests\n",
    "import requests.exceptions\n",
    "from urllib.parse import urlsplit\n",
    "from collections import deque\n",
    "import re\n",
    "\n",
    "\n",
    "def get_emails(domain):\n",
    "    # a queue of urls to be crawled\n",
    "    new_urls = deque([f'https://{domain}'])\n",
    "\n",
    "    # a set of urls that we have already crawled\n",
    "    processed_urls = set()\n",
    "\n",
    "    # a set of crawled emails\n",
    "    emails = set()\n",
    "    \n",
    "    request_count = 0\n",
    "\n",
    "    # process urls one by one until we exhaust the queue\n",
    "    while len(new_urls):\n",
    "        # move next url from the queue to the set of processed urls\n",
    "        url = new_urls.popleft()\n",
    "        processed_urls.add(url)\n",
    "\n",
    "        # extract base url to resolve relative links\n",
    "        parts = urlsplit(url)\n",
    "        base_url = \"{0.scheme}://{0.netloc}\".format(parts)\n",
    "        path = url[:url.rfind('/')+1] if '/' in parts.path else url\n",
    "\n",
    "        # get url's content\n",
    "#         print(\"Processing %s\" % url)\n",
    "        try:\n",
    "            request_count += 1\n",
    "            response = requests.get(url)\n",
    "        except (requests.exceptions.MissingSchema, requests.exceptions.ConnectionError, requests.exceptions.TooManyRedirects):\n",
    "            # ignore pages with errors\n",
    "            continue\n",
    "\n",
    "        # extract all email addresses and add them into the resulting set\n",
    "        new_emails = set(re.findall(r\"[a-z0-9\\.\\-+_]+@[a-z0-9\\.\\-+_]+\\.[a-z]+\", response.text, re.I))\n",
    "        emails.update(new_emails)\n",
    "        if len(new_emails) > 5:\n",
    "            break\n",
    "            \n",
    "        if request_count > 10:\n",
    "            break\n",
    "\n",
    "        # create a beutiful soup for the html document\n",
    "        soup = BeautifulSoup(response.text)\n",
    "\n",
    "        # find and process all the anchors in the document\n",
    "        link = None\n",
    "        for anchor in soup.find_all(\"a\"):\n",
    "            # extract link url from the anchor\n",
    "            link = anchor.attrs[\"href\"] if \"href\" in anchor.attrs else ''\n",
    "        if link is None:\n",
    "            continue\n",
    "        # resolve relative links\n",
    "        if link.startswith('/'):\n",
    "            link = base_url + link\n",
    "        elif not link.startswith('http'):\n",
    "            link = path + link\n",
    "        # add the new url to the queue if it was not enqueued nor processed yet\n",
    "        if not link in new_urls and not link in processed_urls:\n",
    "            new_urls.append(link)\n",
    "\n",
    "#     print(f'Found {emails}')\n",
    "    return emails\n"
   ]
  },
  {
   "cell_type": "code",
   "execution_count": 69,
   "id": "7bf4f1a1",
   "metadata": {},
   "outputs": [
    {
     "name": "stderr",
     "output_type": "stream",
     "text": [
      "\r",
      "  0%|                                                   | 0/584 [00:00<?, ?it/s]"
     ]
    },
    {
     "name": "stdout",
     "output_type": "stream",
     "text": [
      "www.lehrer-online.de\n"
     ]
    },
    {
     "name": "stderr",
     "output_type": "stream",
     "text": [
      "\r",
      "  0%|                                           | 1/584 [00:00<08:25,  1.15it/s]"
     ]
    },
    {
     "name": "stdout",
     "output_type": "stream",
     "text": [
      "www.leifiphysik.de\n"
     ]
    },
    {
     "name": "stderr",
     "output_type": "stream",
     "text": [
      "  1%|▏                                          | 3/584 [00:02<05:41,  1.70it/s]"
     ]
    },
    {
     "name": "stdout",
     "output_type": "stream",
     "text": [
      "media.sodis.de\n",
      "www.planet-schule.de\n"
     ]
    },
    {
     "name": "stderr",
     "output_type": "stream",
     "text": [
      "\r",
      "  1%|▎                                          | 4/584 [00:03<07:27,  1.30it/s]"
     ]
    },
    {
     "name": "stdout",
     "output_type": "stream",
     "text": [
      "www.supra-lernplattform.de\n"
     ]
    },
    {
     "name": "stderr",
     "output_type": "stream",
     "text": [
      "  1%|▍                                          | 6/584 [00:04<06:15,  1.54it/s]"
     ]
    },
    {
     "name": "stdout",
     "output_type": "stream",
     "text": [
      "www.lingonetz.de\n",
      "www.seilnacht.com\n"
     ]
    },
    {
     "name": "stderr",
     "output_type": "stream",
     "text": [
      "\r",
      "  1%|▌                                          | 7/584 [00:13<33:25,  3.47s/it]"
     ]
    },
    {
     "name": "stdout",
     "output_type": "stream",
     "text": [
      "de.wikipedia.org\n"
     ]
    },
    {
     "name": "stderr",
     "output_type": "stream",
     "text": [
      "\r",
      "  1%|▌                                          | 8/584 [00:14<24:00,  2.50s/it]"
     ]
    },
    {
     "name": "stdout",
     "output_type": "stream",
     "text": [
      "www.bildung-lsa.de\n"
     ]
    },
    {
     "name": "stderr",
     "output_type": "stream",
     "text": [
      "\r",
      "  2%|▋                                          | 9/584 [00:14<17:37,  1.84s/it]"
     ]
    },
    {
     "name": "stdout",
     "output_type": "stream",
     "text": [
      "www.zum.de\n"
     ]
    },
    {
     "name": "stderr",
     "output_type": "stream",
     "text": [
      "\r",
      "  2%|▋                                         | 10/584 [00:15<14:23,  1.50s/it]"
     ]
    },
    {
     "name": "stdout",
     "output_type": "stream",
     "text": [
      "www.abi-physik.de\n"
     ]
    },
    {
     "name": "stderr",
     "output_type": "stream",
     "text": [
      "  2%|▊                                         | 12/584 [00:15<08:05,  1.18it/s]"
     ]
    },
    {
     "name": "stdout",
     "output_type": "stream",
     "text": [
      "static.bildung-rp.de\n",
      "daten.didaktikchemie.uni-bayreuth.de\n",
      "www.komm-mach-mint.de\n"
     ]
    },
    {
     "name": "stderr",
     "output_type": "stream",
     "text": [
      "\r",
      "  2%|█                                         | 14/584 [00:18<09:45,  1.03s/it]"
     ]
    },
    {
     "name": "stdout",
     "output_type": "stream",
     "text": [
      "lernarchiv.bildung.hessen.de\n"
     ]
    },
    {
     "name": "stderr",
     "output_type": "stream",
     "text": [
      "\r",
      "  3%|█                                         | 15/584 [00:19<10:38,  1.12s/it]"
     ]
    },
    {
     "name": "stdout",
     "output_type": "stream",
     "text": [
      "www.lncu.de\n"
     ]
    },
    {
     "name": "stderr",
     "output_type": "stream",
     "text": [
      "\r",
      "  3%|█▏                                        | 16/584 [00:29<32:16,  3.41s/it]"
     ]
    },
    {
     "name": "stdout",
     "output_type": "stream",
     "text": [
      "www.chemieunterricht.de\n"
     ]
    },
    {
     "name": "stderr",
     "output_type": "stream",
     "text": [
      "\r",
      "  3%|█▏                                        | 17/584 [00:29<24:08,  2.55s/it]"
     ]
    },
    {
     "name": "stdout",
     "output_type": "stream",
     "text": [
      "www.heise.de\n"
     ]
    },
    {
     "name": "stderr",
     "output_type": "stream",
     "text": [
      "\r",
      "  3%|█▎                                        | 18/584 [00:33<26:41,  2.83s/it]"
     ]
    },
    {
     "name": "stdout",
     "output_type": "stream",
     "text": [
      "www.zauberhafte-physik.net\n",
      "www.wissenschaftsjahr.de\n"
     ]
    },
    {
     "name": "stderr",
     "output_type": "stream",
     "text": [
      "\r",
      "  3%|█▍                                        | 20/584 [00:35<19:48,  2.11s/it]"
     ]
    },
    {
     "name": "stdout",
     "output_type": "stream",
     "text": [
      "digitallearninglab.de\n"
     ]
    },
    {
     "name": "stderr",
     "output_type": "stream",
     "text": [
      "\r",
      "  4%|█▌                                        | 21/584 [00:37<19:31,  2.08s/it]"
     ]
    },
    {
     "name": "stdout",
     "output_type": "stream",
     "text": [
      "mp3.bildung.hessen.de\n"
     ]
    },
    {
     "name": "stderr",
     "output_type": "stream",
     "text": [
      "\r",
      "  4%|█▌                                        | 22/584 [00:38<15:23,  1.64s/it]"
     ]
    },
    {
     "name": "stdout",
     "output_type": "stream",
     "text": [
      "www.dlr.de\n"
     ]
    },
    {
     "name": "stderr",
     "output_type": "stream",
     "text": [
      "\r",
      "  4%|█▋                                        | 23/584 [00:46<33:20,  3.57s/it]"
     ]
    },
    {
     "name": "stdout",
     "output_type": "stream",
     "text": [
      "primas.ph-freiburg.de\n"
     ]
    },
    {
     "name": "stderr",
     "output_type": "stream",
     "text": [
      "\r",
      "  4%|█▋                                        | 24/584 [00:55<46:33,  4.99s/it]"
     ]
    },
    {
     "name": "stdout",
     "output_type": "stream",
     "text": [
      "www.science-on-stage.de\n"
     ]
    },
    {
     "name": "stderr",
     "output_type": "stream",
     "text": [
      "\r",
      "  4%|█▊                                        | 25/584 [00:57<37:20,  4.01s/it]"
     ]
    },
    {
     "name": "stdout",
     "output_type": "stream",
     "text": [
      "www.schule-bw.de\n"
     ]
    },
    {
     "name": "stderr",
     "output_type": "stream",
     "text": [
      "\r",
      "  4%|█▊                                        | 26/584 [00:57<28:30,  3.07s/it]"
     ]
    },
    {
     "name": "stdout",
     "output_type": "stream",
     "text": [
      "www.esa.int\n"
     ]
    },
    {
     "name": "stderr",
     "output_type": "stream",
     "text": [
      "\r",
      "  5%|█▉                                        | 27/584 [01:00<26:59,  2.91s/it]"
     ]
    },
    {
     "name": "stdout",
     "output_type": "stream",
     "text": [
      "educ.ethz.ch\n"
     ]
    },
    {
     "name": "stderr",
     "output_type": "stream",
     "text": [
      "\r",
      "  5%|██                                        | 28/584 [01:00<19:51,  2.14s/it]"
     ]
    },
    {
     "name": "stdout",
     "output_type": "stream",
     "text": [
      "www.chemie-master.de\n"
     ]
    },
    {
     "name": "stderr",
     "output_type": "stream",
     "text": [
      "\r",
      "  5%|██                                        | 29/584 [01:09<37:50,  4.09s/it]"
     ]
    },
    {
     "name": "stdout",
     "output_type": "stream",
     "text": [
      "www.wissenschaft-schulen.de\n",
      "www.forscher-online.de\n"
     ]
    },
    {
     "name": "stderr",
     "output_type": "stream",
     "text": [
      "\r",
      "  5%|██▏                                       | 31/584 [01:09<21:33,  2.34s/it]"
     ]
    },
    {
     "name": "stdout",
     "output_type": "stream",
     "text": [
      "www.tempolimit-lichtgeschwindigkeit.de\n"
     ]
    },
    {
     "name": "stderr",
     "output_type": "stream",
     "text": [
      "\r",
      "  5%|██▎                                       | 32/584 [01:10<17:21,  1.89s/it]"
     ]
    },
    {
     "name": "stdout",
     "output_type": "stream",
     "text": [
      "www.bildungsserver.de\n"
     ]
    },
    {
     "name": "stderr",
     "output_type": "stream",
     "text": [
      "\r",
      "  6%|██▎                                     | 33/584 [01:31<1:03:03,  6.87s/it]"
     ]
    },
    {
     "name": "stdout",
     "output_type": "stream",
     "text": [
      "www.ltam.lu\n"
     ]
    },
    {
     "name": "stderr",
     "output_type": "stream",
     "text": [
      "\r",
      "  6%|██▍                                       | 34/584 [01:32<48:58,  5.34s/it]"
     ]
    },
    {
     "name": "stdout",
     "output_type": "stream",
     "text": [
      "online-media.uni-marburg.de\n"
     ]
    },
    {
     "name": "stderr",
     "output_type": "stream",
     "text": [
      "\r",
      "  6%|██▌                                       | 35/584 [01:41<58:07,  6.35s/it]"
     ]
    },
    {
     "name": "stdout",
     "output_type": "stream",
     "text": [
      "blogs.helmholtz.de\n"
     ]
    },
    {
     "name": "stderr",
     "output_type": "stream",
     "text": [
      "\r",
      "  6%|██▌                                       | 36/584 [01:42<42:56,  4.70s/it]"
     ]
    },
    {
     "name": "stdout",
     "output_type": "stream",
     "text": [
      "physikaufgaben.de\n"
     ]
    },
    {
     "name": "stderr",
     "output_type": "stream",
     "text": [
      "\r",
      "  6%|██▋                                       | 37/584 [01:50<53:20,  5.85s/it]"
     ]
    },
    {
     "name": "stdout",
     "output_type": "stream",
     "text": [
      "physikforkids.de\n"
     ]
    },
    {
     "name": "stderr",
     "output_type": "stream",
     "text": [
      "\r",
      "  7%|██▋                                       | 38/584 [01:52<43:12,  4.75s/it]"
     ]
    },
    {
     "name": "stdout",
     "output_type": "stream",
     "text": [
      "mint-zirkel.de\n"
     ]
    },
    {
     "name": "stderr",
     "output_type": "stream",
     "text": [
      "  7%|██▉                                       | 40/584 [01:53<22:50,  2.52s/it]"
     ]
    },
    {
     "name": "stdout",
     "output_type": "stream",
     "text": [
      "www.bautschweb.de\n",
      "www.umwelt-im-unterricht.de\n"
     ]
    },
    {
     "name": "stderr",
     "output_type": "stream",
     "text": [
      "\r",
      "  7%|██▉                                       | 41/584 [01:54<17:46,  1.96s/it]"
     ]
    },
    {
     "name": "stdout",
     "output_type": "stream",
     "text": [
      "sodis.de\n"
     ]
    },
    {
     "name": "stderr",
     "output_type": "stream",
     "text": [
      "\r",
      "  7%|██▉                                     | 42/584 [04:04<6:01:41, 40.04s/it]"
     ]
    },
    {
     "name": "stdout",
     "output_type": "stream",
     "text": [
      "www.unterrichtsmaterial-schule.de\n"
     ]
    },
    {
     "name": "stderr",
     "output_type": "stream",
     "text": [
      "\r",
      "  7%|██▉                                     | 43/584 [04:04<4:14:29, 28.22s/it]"
     ]
    },
    {
     "name": "stdout",
     "output_type": "stream",
     "text": [
      "www.dguv-lug.de\n"
     ]
    },
    {
     "name": "stderr",
     "output_type": "stream",
     "text": [
      "\r",
      "  8%|███                                     | 44/584 [04:05<2:59:47, 19.98s/it]"
     ]
    },
    {
     "name": "stdout",
     "output_type": "stream",
     "text": [
      "wiki.zum.de\n",
      "www.meine-forscherwelt.de\n"
     ]
    },
    {
     "name": "stderr",
     "output_type": "stream",
     "text": [
      "\r",
      "  8%|███▏                                    | 46/584 [04:05<1:37:16, 10.85s/it]"
     ]
    },
    {
     "name": "stdout",
     "output_type": "stream",
     "text": [
      "medienportal.siemens-stiftung.org\n"
     ]
    },
    {
     "name": "stderr",
     "output_type": "stream",
     "text": [
      "\r",
      "  8%|███▏                                    | 47/584 [04:05<1:14:01,  8.27s/it]"
     ]
    },
    {
     "name": "stdout",
     "output_type": "stream",
     "text": [
      "www.mint-ec.de\n"
     ]
    },
    {
     "name": "stderr",
     "output_type": "stream",
     "text": [
      "\r",
      "  8%|███▍                                      | 48/584 [04:07<59:03,  6.61s/it]"
     ]
    },
    {
     "name": "stdout",
     "output_type": "stream",
     "text": [
      "www.schulentwicklung.nrw.de\n"
     ]
    },
    {
     "name": "stderr",
     "output_type": "stream",
     "text": [
      "\r",
      "  8%|███▌                                      | 49/584 [04:08<44:45,  5.02s/it]"
     ]
    },
    {
     "name": "stdout",
     "output_type": "stream",
     "text": [
      "melt.fwu.de\n",
      "www.youtube.com\n"
     ]
    },
    {
     "name": "stderr",
     "output_type": "stream",
     "text": [
      "\r",
      "  9%|███▋                                      | 51/584 [04:10<27:54,  3.14s/it]"
     ]
    },
    {
     "name": "stdout",
     "output_type": "stream",
     "text": [
      "chids.online.uni-marburg.de\n"
     ]
    },
    {
     "name": "stderr",
     "output_type": "stream",
     "text": [
      "\r",
      "  9%|███▋                                      | 52/584 [04:18<39:56,  4.50s/it]"
     ]
    },
    {
     "name": "stdout",
     "output_type": "stream",
     "text": [
      "www.physikfuerkids.de\n"
     ]
    },
    {
     "name": "stderr",
     "output_type": "stream",
     "text": [
      "  9%|███▉                                      | 54/584 [04:21<25:32,  2.89s/it]"
     ]
    },
    {
     "name": "stdout",
     "output_type": "stream",
     "text": [
      "www.seilnacht.tuttlingen.com\n",
      "www.walter-fendt.de\n"
     ]
    },
    {
     "name": "stderr",
     "output_type": "stream",
     "text": [
      "\r",
      "  9%|███▉                                      | 55/584 [04:30<40:12,  4.56s/it]"
     ]
    },
    {
     "name": "stdout",
     "output_type": "stream",
     "text": [
      "physik.uibk.ac.at\n"
     ]
    },
    {
     "name": "stderr",
     "output_type": "stream",
     "text": [
      "\r",
      " 10%|███▊                                    | 56/584 [06:39<5:50:42, 39.85s/it]"
     ]
    },
    {
     "name": "stdout",
     "output_type": "stream",
     "text": [
      "www.chempage.de\n"
     ]
    },
    {
     "name": "stderr",
     "output_type": "stream",
     "text": [
      "\r",
      " 10%|███▉                                    | 57/584 [06:48<4:32:05, 30.98s/it]"
     ]
    },
    {
     "name": "stdout",
     "output_type": "stream",
     "text": [
      "www.chemgapedia.de\n"
     ]
    },
    {
     "name": "stderr",
     "output_type": "stream",
     "text": [
      "\r",
      " 10%|███▉                                    | 58/584 [06:49<3:15:15, 22.27s/it]"
     ]
    },
    {
     "name": "stdout",
     "output_type": "stream",
     "text": [
      "www.physik-am-auto.de\n"
     ]
    },
    {
     "name": "stderr",
     "output_type": "stream",
     "text": [
      "\r",
      " 10%|████                                    | 59/584 [06:58<2:40:40, 18.36s/it]"
     ]
    },
    {
     "name": "stdout",
     "output_type": "stream",
     "text": [
      "mediaserve.kompetenzz.net\n"
     ]
    },
    {
     "name": "stderr",
     "output_type": "stream",
     "text": [
      "\r",
      " 10%|████                                    | 60/584 [06:58<1:53:42, 13.02s/it]"
     ]
    },
    {
     "name": "stdout",
     "output_type": "stream",
     "text": [
      "www.roentgenmuseum.de\n"
     ]
    },
    {
     "name": "stderr",
     "output_type": "stream",
     "text": [
      "\r",
      " 10%|████▏                                   | 61/584 [07:26<2:30:39, 17.28s/it]"
     ]
    },
    {
     "name": "stdout",
     "output_type": "stream",
     "text": [
      "www.ubz-stmk.at\n"
     ]
    },
    {
     "name": "stderr",
     "output_type": "stream",
     "text": [
      "\r",
      " 11%|████▏                                   | 62/584 [07:29<1:54:25, 13.15s/it]"
     ]
    },
    {
     "name": "stdout",
     "output_type": "stream",
     "text": [
      "virtuelle-experimente.de\n"
     ]
    },
    {
     "name": "stderr",
     "output_type": "stream",
     "text": [
      " 11%|████▍                                   | 64/584 [07:39<1:13:12,  8.45s/it]"
     ]
    },
    {
     "name": "stdout",
     "output_type": "stream",
     "text": [
      "wikis.zum.de\n",
      "www.compass-project.eu\n"
     ]
    },
    {
     "name": "stderr",
     "output_type": "stream",
     "text": [
      "\r",
      " 11%|████▋                                     | 65/584 [07:39<51:29,  5.95s/it]"
     ]
    },
    {
     "name": "stdout",
     "output_type": "stream",
     "text": [
      "www.physik-schule.de\n"
     ]
    },
    {
     "name": "stderr",
     "output_type": "stream",
     "text": [
      "\r",
      " 11%|████▋                                     | 66/584 [07:40<39:32,  4.58s/it]"
     ]
    },
    {
     "name": "stdout",
     "output_type": "stream",
     "text": [
      "www.poleninderschule.de\n"
     ]
    },
    {
     "name": "stderr",
     "output_type": "stream",
     "text": [
      "\r",
      " 11%|████▊                                     | 67/584 [07:42<32:24,  3.76s/it]"
     ]
    },
    {
     "name": "stdout",
     "output_type": "stream",
     "text": [
      "www.u-helmich.de\n"
     ]
    },
    {
     "name": "stderr",
     "output_type": "stream",
     "text": [
      "\r",
      " 12%|████▉                                     | 68/584 [07:52<48:05,  5.59s/it]"
     ]
    },
    {
     "name": "stdout",
     "output_type": "stream",
     "text": [
      "lehrerfortbildung-bw.de\n"
     ]
    },
    {
     "name": "stderr",
     "output_type": "stream",
     "text": [
      "\r",
      " 12%|████▉                                     | 69/584 [07:54<37:58,  4.42s/it]"
     ]
    },
    {
     "name": "stdout",
     "output_type": "stream",
     "text": [
      "esero.de\n"
     ]
    },
    {
     "name": "stderr",
     "output_type": "stream",
     "text": [
      "\r",
      " 12%|█████                                     | 70/584 [07:54<27:16,  3.18s/it]"
     ]
    },
    {
     "name": "stdout",
     "output_type": "stream",
     "text": [
      "www.xplora.org\n",
      "www.geomar.de\n"
     ]
    },
    {
     "name": "stderr",
     "output_type": "stream",
     "text": [
      "\r",
      " 12%|█████▏                                    | 72/584 [07:55<16:27,  1.93s/it]"
     ]
    },
    {
     "name": "stdout",
     "output_type": "stream",
     "text": [
      "www.didaktik.physik.uni-muenchen.de\n"
     ]
    },
    {
     "name": "stderr",
     "output_type": "stream",
     "text": [
      "\r",
      " 12%|█████▎                                    | 73/584 [08:04<31:03,  3.65s/it]"
     ]
    },
    {
     "name": "stdout",
     "output_type": "stream",
     "text": [
      "www.bildungspartner.schulministerium.nrw.de\n"
     ]
    },
    {
     "name": "stderr",
     "output_type": "stream",
     "text": [
      "\r",
      " 13%|█████▎                                    | 74/584 [08:05<25:39,  3.02s/it]"
     ]
    },
    {
     "name": "stdout",
     "output_type": "stream",
     "text": [
      "www.energie-macht-schule.de\n"
     ]
    },
    {
     "name": "stderr",
     "output_type": "stream",
     "text": [
      "\r",
      " 13%|█████▍                                    | 75/584 [08:06<21:06,  2.49s/it]"
     ]
    },
    {
     "name": "stdout",
     "output_type": "stream",
     "text": [
      "www.educ.ethz.ch\n"
     ]
    },
    {
     "name": "stderr",
     "output_type": "stream",
     "text": [
      "\r",
      " 13%|█████▍                                    | 76/584 [08:07<16:58,  2.01s/it]"
     ]
    },
    {
     "name": "stdout",
     "output_type": "stream",
     "text": [
      "www.me-vermitteln.de\n"
     ]
    },
    {
     "name": "stderr",
     "output_type": "stream",
     "text": [
      "\r",
      " 13%|█████▌                                    | 77/584 [08:09<18:33,  2.20s/it]"
     ]
    },
    {
     "name": "stdout",
     "output_type": "stream",
     "text": [
      "www.max-wissen.de\n"
     ]
    },
    {
     "name": "stderr",
     "output_type": "stream",
     "text": [
      " 14%|█████▋                                    | 79/584 [08:10<10:49,  1.29s/it]"
     ]
    },
    {
     "name": "stdout",
     "output_type": "stream",
     "text": [
      "www.kindernetz.de\n",
      "www.fwu-mediathek.de\n"
     ]
    },
    {
     "name": "stderr",
     "output_type": "stream",
     "text": [
      "\r",
      " 14%|█████▊                                    | 80/584 [08:11<08:52,  1.06s/it]"
     ]
    },
    {
     "name": "stdout",
     "output_type": "stream",
     "text": [
      "www.mybookmachine-online.de\n"
     ]
    },
    {
     "name": "stderr",
     "output_type": "stream",
     "text": [
      "\r",
      " 14%|█████▌                                  | 81/584 [10:20<5:28:23, 39.17s/it]"
     ]
    },
    {
     "name": "stdout",
     "output_type": "stream",
     "text": [
      "www.zeitbild.de\n"
     ]
    },
    {
     "name": "stderr",
     "output_type": "stream",
     "text": [
      "\r",
      " 14%|█████▌                                  | 82/584 [10:21<3:52:00, 27.73s/it]"
     ]
    },
    {
     "name": "stdout",
     "output_type": "stream",
     "text": [
      "platform.govie.de\n"
     ]
    },
    {
     "name": "stderr",
     "output_type": "stream",
     "text": [
      "\r",
      " 14%|█████▋                                  | 83/584 [10:21<2:43:04, 19.53s/it]"
     ]
    },
    {
     "name": "stdout",
     "output_type": "stream",
     "text": [
      "www.genius-community.com\n"
     ]
    },
    {
     "name": "stderr",
     "output_type": "stream",
     "text": [
      "\r",
      " 14%|█████▊                                  | 84/584 [10:22<1:56:10, 13.94s/it]"
     ]
    },
    {
     "name": "stdout",
     "output_type": "stream",
     "text": [
      "www.jugendtechnikschule.de\n"
     ]
    },
    {
     "name": "stderr",
     "output_type": "stream",
     "text": [
      "\r",
      " 15%|█████▊                                  | 85/584 [10:26<1:30:11, 10.84s/it]"
     ]
    },
    {
     "name": "stdout",
     "output_type": "stream",
     "text": [
      "wissenschaftsjahr-2020.visionkino.de\n"
     ]
    },
    {
     "name": "stderr",
     "output_type": "stream",
     "text": [
      "\r",
      " 15%|█████▉                                  | 86/584 [10:27<1:05:33,  7.90s/it]"
     ]
    },
    {
     "name": "stdout",
     "output_type": "stream",
     "text": [
      "idw-online.de\n"
     ]
    },
    {
     "name": "stderr",
     "output_type": "stream",
     "text": [
      "\r",
      " 15%|██████▎                                   | 87/584 [10:27<47:30,  5.74s/it]"
     ]
    },
    {
     "name": "stdout",
     "output_type": "stream",
     "text": [
      "www.labbe.de\n"
     ]
    },
    {
     "name": "stderr",
     "output_type": "stream",
     "text": [
      "\r",
      " 15%|██████▎                                   | 88/584 [10:28<35:02,  4.24s/it]"
     ]
    },
    {
     "name": "stdout",
     "output_type": "stream",
     "text": [
      "space2school.de\n"
     ]
    },
    {
     "name": "stderr",
     "output_type": "stream",
     "text": [
      " 15%|██████▍                                   | 90/584 [10:38<34:26,  4.18s/it]"
     ]
    },
    {
     "name": "stdout",
     "output_type": "stream",
     "text": [
      "www.chemiekiste.de\n",
      "www.helmholtz.de\n"
     ]
    },
    {
     "name": "stderr",
     "output_type": "stream",
     "text": [
      "\r",
      " 16%|██████▌                                   | 91/584 [10:39<25:11,  3.07s/it]"
     ]
    },
    {
     "name": "stdout",
     "output_type": "stream",
     "text": [
      "www.fokus-biologische-vielfalt.de\n"
     ]
    },
    {
     "name": "stderr",
     "output_type": "stream",
     "text": [
      "\r",
      " 16%|██████▌                                   | 92/584 [10:40<20:06,  2.45s/it]"
     ]
    },
    {
     "name": "stdout",
     "output_type": "stream",
     "text": [
      "material.kompetenzz.net\n"
     ]
    },
    {
     "name": "stderr",
     "output_type": "stream",
     "text": [
      "\r",
      " 16%|██████▋                                   | 93/584 [10:40<15:33,  1.90s/it]"
     ]
    },
    {
     "name": "stdout",
     "output_type": "stream",
     "text": [
      "www.fwu-mediathek.com\n"
     ]
    },
    {
     "name": "stderr",
     "output_type": "stream",
     "text": [
      " 16%|██████▊                                   | 95/584 [10:41<08:53,  1.09s/it]"
     ]
    },
    {
     "name": "stdout",
     "output_type": "stream",
     "text": [
      "www.chemieplanet.de\n",
      "www.chemiedidaktik.uni-wuppertal.de\n"
     ]
    },
    {
     "name": "stderr",
     "output_type": "stream",
     "text": [
      " 17%|██████▉                                   | 97/584 [10:42<06:29,  1.25it/s]"
     ]
    },
    {
     "name": "stdout",
     "output_type": "stream",
     "text": [
      "www.chemikus.de\n",
      "www.medienwerkstatt-online.de\n"
     ]
    },
    {
     "name": "stderr",
     "output_type": "stream",
     "text": [
      " 17%|███████                                   | 99/584 [10:51<18:45,  2.32s/it]"
     ]
    },
    {
     "name": "stdout",
     "output_type": "stream",
     "text": [
      "www.bimsev.de\n",
      "physikunterricht-online.de\n"
     ]
    },
    {
     "name": "stderr",
     "output_type": "stream",
     "text": [
      " 17%|███████                                   | 99/584 [10:52<53:14,  6.59s/it]\n"
     ]
    },
    {
     "ename": "InvalidURL",
     "evalue": "Failed to parse: https://physikunterricht-online.dejavascript:void(0);",
     "output_type": "error",
     "traceback": [
      "\u001b[0;31m---------------------------------------------------------------------------\u001b[0m",
      "\u001b[0;31mLocationParseError\u001b[0m                        Traceback (most recent call last)",
      "\u001b[0;32m~/.anaconda3/envs/elixier/lib/python3.7/site-packages/requests/models.py\u001b[0m in \u001b[0;36mprepare_url\u001b[0;34m(self, url, params)\u001b[0m\n\u001b[1;32m    433\u001b[0m         \u001b[0;32mtry\u001b[0m\u001b[0;34m:\u001b[0m\u001b[0;34m\u001b[0m\u001b[0;34m\u001b[0m\u001b[0m\n\u001b[0;32m--> 434\u001b[0;31m             \u001b[0mscheme\u001b[0m\u001b[0;34m,\u001b[0m \u001b[0mauth\u001b[0m\u001b[0;34m,\u001b[0m \u001b[0mhost\u001b[0m\u001b[0;34m,\u001b[0m \u001b[0mport\u001b[0m\u001b[0;34m,\u001b[0m \u001b[0mpath\u001b[0m\u001b[0;34m,\u001b[0m \u001b[0mquery\u001b[0m\u001b[0;34m,\u001b[0m \u001b[0mfragment\u001b[0m \u001b[0;34m=\u001b[0m \u001b[0mparse_url\u001b[0m\u001b[0;34m(\u001b[0m\u001b[0murl\u001b[0m\u001b[0;34m)\u001b[0m\u001b[0;34m\u001b[0m\u001b[0;34m\u001b[0m\u001b[0m\n\u001b[0m\u001b[1;32m    435\u001b[0m         \u001b[0;32mexcept\u001b[0m \u001b[0mLocationParseError\u001b[0m \u001b[0;32mas\u001b[0m \u001b[0me\u001b[0m\u001b[0;34m:\u001b[0m\u001b[0;34m\u001b[0m\u001b[0;34m\u001b[0m\u001b[0m\n",
      "\u001b[0;32m~/.anaconda3/envs/elixier/lib/python3.7/site-packages/urllib3/util/url.py\u001b[0m in \u001b[0;36mparse_url\u001b[0;34m(url)\u001b[0m\n\u001b[1;32m    393\u001b[0m     \u001b[0;32mexcept\u001b[0m \u001b[0;34m(\u001b[0m\u001b[0mValueError\u001b[0m\u001b[0;34m,\u001b[0m \u001b[0mAttributeError\u001b[0m\u001b[0;34m)\u001b[0m\u001b[0;34m:\u001b[0m\u001b[0;34m\u001b[0m\u001b[0;34m\u001b[0m\u001b[0m\n\u001b[0;32m--> 394\u001b[0;31m         \u001b[0;32mreturn\u001b[0m \u001b[0msix\u001b[0m\u001b[0;34m.\u001b[0m\u001b[0mraise_from\u001b[0m\u001b[0;34m(\u001b[0m\u001b[0mLocationParseError\u001b[0m\u001b[0;34m(\u001b[0m\u001b[0msource_url\u001b[0m\u001b[0;34m)\u001b[0m\u001b[0;34m,\u001b[0m \u001b[0;32mNone\u001b[0m\u001b[0;34m)\u001b[0m\u001b[0;34m\u001b[0m\u001b[0;34m\u001b[0m\u001b[0m\n\u001b[0m\u001b[1;32m    395\u001b[0m \u001b[0;34m\u001b[0m\u001b[0m\n",
      "\u001b[0;32m~/.anaconda3/envs/elixier/lib/python3.7/site-packages/urllib3/packages/six.py\u001b[0m in \u001b[0;36mraise_from\u001b[0;34m(value, from_value)\u001b[0m\n",
      "\u001b[0;31mLocationParseError\u001b[0m: Failed to parse: https://physikunterricht-online.dejavascript:void(0);",
      "\nDuring handling of the above exception, another exception occurred:\n",
      "\u001b[0;31mInvalidURL\u001b[0m                                Traceback (most recent call last)",
      "\u001b[0;32m/tmp/ipykernel_36818/382602842.py\u001b[0m in \u001b[0;36m<module>\u001b[0;34m\u001b[0m\n\u001b[1;32m      2\u001b[0m \u001b[0;32mfor\u001b[0m \u001b[0md\u001b[0m \u001b[0;32min\u001b[0m \u001b[0mtqdm\u001b[0m\u001b[0;34m(\u001b[0m\u001b[0mcounts\u001b[0m\u001b[0;34m.\u001b[0m\u001b[0murl_domain\u001b[0m\u001b[0;34m)\u001b[0m\u001b[0;34m:\u001b[0m\u001b[0;34m\u001b[0m\u001b[0;34m\u001b[0m\u001b[0m\n\u001b[1;32m      3\u001b[0m     \u001b[0mprint\u001b[0m\u001b[0;34m(\u001b[0m\u001b[0md\u001b[0m\u001b[0;34m)\u001b[0m\u001b[0;34m\u001b[0m\u001b[0;34m\u001b[0m\u001b[0m\n\u001b[0;32m----> 4\u001b[0;31m     \u001b[0memails_out\u001b[0m\u001b[0;34m[\u001b[0m\u001b[0md\u001b[0m\u001b[0;34m]\u001b[0m \u001b[0;34m=\u001b[0m \u001b[0mget_emails\u001b[0m\u001b[0;34m(\u001b[0m\u001b[0md\u001b[0m\u001b[0;34m)\u001b[0m\u001b[0;34m\u001b[0m\u001b[0;34m\u001b[0m\u001b[0m\n\u001b[0m",
      "\u001b[0;32m/tmp/ipykernel_36818/3555908775.py\u001b[0m in \u001b[0;36mget_emails\u001b[0;34m(domain)\u001b[0m\n\u001b[1;32m     34\u001b[0m         \u001b[0;32mtry\u001b[0m\u001b[0;34m:\u001b[0m\u001b[0;34m\u001b[0m\u001b[0;34m\u001b[0m\u001b[0m\n\u001b[1;32m     35\u001b[0m             \u001b[0mrequest_count\u001b[0m \u001b[0;34m+=\u001b[0m \u001b[0;36m1\u001b[0m\u001b[0;34m\u001b[0m\u001b[0;34m\u001b[0m\u001b[0m\n\u001b[0;32m---> 36\u001b[0;31m             \u001b[0mresponse\u001b[0m \u001b[0;34m=\u001b[0m \u001b[0mrequests\u001b[0m\u001b[0;34m.\u001b[0m\u001b[0mget\u001b[0m\u001b[0;34m(\u001b[0m\u001b[0murl\u001b[0m\u001b[0;34m)\u001b[0m\u001b[0;34m\u001b[0m\u001b[0;34m\u001b[0m\u001b[0m\n\u001b[0m\u001b[1;32m     37\u001b[0m         \u001b[0;32mexcept\u001b[0m \u001b[0;34m(\u001b[0m\u001b[0mrequests\u001b[0m\u001b[0;34m.\u001b[0m\u001b[0mexceptions\u001b[0m\u001b[0;34m.\u001b[0m\u001b[0mMissingSchema\u001b[0m\u001b[0;34m,\u001b[0m \u001b[0mrequests\u001b[0m\u001b[0;34m.\u001b[0m\u001b[0mexceptions\u001b[0m\u001b[0;34m.\u001b[0m\u001b[0mConnectionError\u001b[0m\u001b[0;34m,\u001b[0m \u001b[0mrequests\u001b[0m\u001b[0;34m.\u001b[0m\u001b[0mexceptions\u001b[0m\u001b[0;34m.\u001b[0m\u001b[0mTooManyRedirects\u001b[0m\u001b[0;34m)\u001b[0m\u001b[0;34m:\u001b[0m\u001b[0;34m\u001b[0m\u001b[0;34m\u001b[0m\u001b[0m\n\u001b[1;32m     38\u001b[0m             \u001b[0;31m# ignore pages with errors\u001b[0m\u001b[0;34m\u001b[0m\u001b[0;34m\u001b[0m\u001b[0;34m\u001b[0m\u001b[0m\n",
      "\u001b[0;32m~/.anaconda3/envs/elixier/lib/python3.7/site-packages/requests/api.py\u001b[0m in \u001b[0;36mget\u001b[0;34m(url, params, **kwargs)\u001b[0m\n\u001b[1;32m     71\u001b[0m     \"\"\"\n\u001b[1;32m     72\u001b[0m \u001b[0;34m\u001b[0m\u001b[0m\n\u001b[0;32m---> 73\u001b[0;31m     \u001b[0;32mreturn\u001b[0m \u001b[0mrequest\u001b[0m\u001b[0;34m(\u001b[0m\u001b[0;34m\"get\"\u001b[0m\u001b[0;34m,\u001b[0m \u001b[0murl\u001b[0m\u001b[0;34m,\u001b[0m \u001b[0mparams\u001b[0m\u001b[0;34m=\u001b[0m\u001b[0mparams\u001b[0m\u001b[0;34m,\u001b[0m \u001b[0;34m**\u001b[0m\u001b[0mkwargs\u001b[0m\u001b[0;34m)\u001b[0m\u001b[0;34m\u001b[0m\u001b[0;34m\u001b[0m\u001b[0m\n\u001b[0m\u001b[1;32m     74\u001b[0m \u001b[0;34m\u001b[0m\u001b[0m\n\u001b[1;32m     75\u001b[0m \u001b[0;34m\u001b[0m\u001b[0m\n",
      "\u001b[0;32m~/.anaconda3/envs/elixier/lib/python3.7/site-packages/requests/api.py\u001b[0m in \u001b[0;36mrequest\u001b[0;34m(method, url, **kwargs)\u001b[0m\n\u001b[1;32m     57\u001b[0m     \u001b[0;31m# cases, and look like a memory leak in others.\u001b[0m\u001b[0;34m\u001b[0m\u001b[0;34m\u001b[0m\u001b[0;34m\u001b[0m\u001b[0m\n\u001b[1;32m     58\u001b[0m     \u001b[0;32mwith\u001b[0m \u001b[0msessions\u001b[0m\u001b[0;34m.\u001b[0m\u001b[0mSession\u001b[0m\u001b[0;34m(\u001b[0m\u001b[0;34m)\u001b[0m \u001b[0;32mas\u001b[0m \u001b[0msession\u001b[0m\u001b[0;34m:\u001b[0m\u001b[0;34m\u001b[0m\u001b[0;34m\u001b[0m\u001b[0m\n\u001b[0;32m---> 59\u001b[0;31m         \u001b[0;32mreturn\u001b[0m \u001b[0msession\u001b[0m\u001b[0;34m.\u001b[0m\u001b[0mrequest\u001b[0m\u001b[0;34m(\u001b[0m\u001b[0mmethod\u001b[0m\u001b[0;34m=\u001b[0m\u001b[0mmethod\u001b[0m\u001b[0;34m,\u001b[0m \u001b[0murl\u001b[0m\u001b[0;34m=\u001b[0m\u001b[0murl\u001b[0m\u001b[0;34m,\u001b[0m \u001b[0;34m**\u001b[0m\u001b[0mkwargs\u001b[0m\u001b[0;34m)\u001b[0m\u001b[0;34m\u001b[0m\u001b[0;34m\u001b[0m\u001b[0m\n\u001b[0m\u001b[1;32m     60\u001b[0m \u001b[0;34m\u001b[0m\u001b[0m\n\u001b[1;32m     61\u001b[0m \u001b[0;34m\u001b[0m\u001b[0m\n",
      "\u001b[0;32m~/.anaconda3/envs/elixier/lib/python3.7/site-packages/requests/sessions.py\u001b[0m in \u001b[0;36mrequest\u001b[0;34m(self, method, url, params, data, headers, cookies, files, auth, timeout, allow_redirects, proxies, hooks, stream, verify, cert, json)\u001b[0m\n\u001b[1;32m    571\u001b[0m             \u001b[0mhooks\u001b[0m\u001b[0;34m=\u001b[0m\u001b[0mhooks\u001b[0m\u001b[0;34m,\u001b[0m\u001b[0;34m\u001b[0m\u001b[0;34m\u001b[0m\u001b[0m\n\u001b[1;32m    572\u001b[0m         )\n\u001b[0;32m--> 573\u001b[0;31m         \u001b[0mprep\u001b[0m \u001b[0;34m=\u001b[0m \u001b[0mself\u001b[0m\u001b[0;34m.\u001b[0m\u001b[0mprepare_request\u001b[0m\u001b[0;34m(\u001b[0m\u001b[0mreq\u001b[0m\u001b[0;34m)\u001b[0m\u001b[0;34m\u001b[0m\u001b[0;34m\u001b[0m\u001b[0m\n\u001b[0m\u001b[1;32m    574\u001b[0m \u001b[0;34m\u001b[0m\u001b[0m\n\u001b[1;32m    575\u001b[0m         \u001b[0mproxies\u001b[0m \u001b[0;34m=\u001b[0m \u001b[0mproxies\u001b[0m \u001b[0;32mor\u001b[0m \u001b[0;34m{\u001b[0m\u001b[0;34m}\u001b[0m\u001b[0;34m\u001b[0m\u001b[0;34m\u001b[0m\u001b[0m\n",
      "\u001b[0;32m~/.anaconda3/envs/elixier/lib/python3.7/site-packages/requests/sessions.py\u001b[0m in \u001b[0;36mprepare_request\u001b[0;34m(self, request)\u001b[0m\n\u001b[1;32m    494\u001b[0m             \u001b[0mauth\u001b[0m\u001b[0;34m=\u001b[0m\u001b[0mmerge_setting\u001b[0m\u001b[0;34m(\u001b[0m\u001b[0mauth\u001b[0m\u001b[0;34m,\u001b[0m \u001b[0mself\u001b[0m\u001b[0;34m.\u001b[0m\u001b[0mauth\u001b[0m\u001b[0;34m)\u001b[0m\u001b[0;34m,\u001b[0m\u001b[0;34m\u001b[0m\u001b[0;34m\u001b[0m\u001b[0m\n\u001b[1;32m    495\u001b[0m             \u001b[0mcookies\u001b[0m\u001b[0;34m=\u001b[0m\u001b[0mmerged_cookies\u001b[0m\u001b[0;34m,\u001b[0m\u001b[0;34m\u001b[0m\u001b[0;34m\u001b[0m\u001b[0m\n\u001b[0;32m--> 496\u001b[0;31m             \u001b[0mhooks\u001b[0m\u001b[0;34m=\u001b[0m\u001b[0mmerge_hooks\u001b[0m\u001b[0;34m(\u001b[0m\u001b[0mrequest\u001b[0m\u001b[0;34m.\u001b[0m\u001b[0mhooks\u001b[0m\u001b[0;34m,\u001b[0m \u001b[0mself\u001b[0m\u001b[0;34m.\u001b[0m\u001b[0mhooks\u001b[0m\u001b[0;34m)\u001b[0m\u001b[0;34m,\u001b[0m\u001b[0;34m\u001b[0m\u001b[0;34m\u001b[0m\u001b[0m\n\u001b[0m\u001b[1;32m    497\u001b[0m         )\n\u001b[1;32m    498\u001b[0m         \u001b[0;32mreturn\u001b[0m \u001b[0mp\u001b[0m\u001b[0;34m\u001b[0m\u001b[0;34m\u001b[0m\u001b[0m\n",
      "\u001b[0;32m~/.anaconda3/envs/elixier/lib/python3.7/site-packages/requests/models.py\u001b[0m in \u001b[0;36mprepare\u001b[0;34m(self, method, url, headers, files, data, params, auth, cookies, hooks, json)\u001b[0m\n\u001b[1;32m    366\u001b[0m \u001b[0;34m\u001b[0m\u001b[0m\n\u001b[1;32m    367\u001b[0m         \u001b[0mself\u001b[0m\u001b[0;34m.\u001b[0m\u001b[0mprepare_method\u001b[0m\u001b[0;34m(\u001b[0m\u001b[0mmethod\u001b[0m\u001b[0;34m)\u001b[0m\u001b[0;34m\u001b[0m\u001b[0;34m\u001b[0m\u001b[0m\n\u001b[0;32m--> 368\u001b[0;31m         \u001b[0mself\u001b[0m\u001b[0;34m.\u001b[0m\u001b[0mprepare_url\u001b[0m\u001b[0;34m(\u001b[0m\u001b[0murl\u001b[0m\u001b[0;34m,\u001b[0m \u001b[0mparams\u001b[0m\u001b[0;34m)\u001b[0m\u001b[0;34m\u001b[0m\u001b[0;34m\u001b[0m\u001b[0m\n\u001b[0m\u001b[1;32m    369\u001b[0m         \u001b[0mself\u001b[0m\u001b[0;34m.\u001b[0m\u001b[0mprepare_headers\u001b[0m\u001b[0;34m(\u001b[0m\u001b[0mheaders\u001b[0m\u001b[0;34m)\u001b[0m\u001b[0;34m\u001b[0m\u001b[0;34m\u001b[0m\u001b[0m\n\u001b[1;32m    370\u001b[0m         \u001b[0mself\u001b[0m\u001b[0;34m.\u001b[0m\u001b[0mprepare_cookies\u001b[0m\u001b[0;34m(\u001b[0m\u001b[0mcookies\u001b[0m\u001b[0;34m)\u001b[0m\u001b[0;34m\u001b[0m\u001b[0;34m\u001b[0m\u001b[0m\n",
      "\u001b[0;32m~/.anaconda3/envs/elixier/lib/python3.7/site-packages/requests/models.py\u001b[0m in \u001b[0;36mprepare_url\u001b[0;34m(self, url, params)\u001b[0m\n\u001b[1;32m    434\u001b[0m             \u001b[0mscheme\u001b[0m\u001b[0;34m,\u001b[0m \u001b[0mauth\u001b[0m\u001b[0;34m,\u001b[0m \u001b[0mhost\u001b[0m\u001b[0;34m,\u001b[0m \u001b[0mport\u001b[0m\u001b[0;34m,\u001b[0m \u001b[0mpath\u001b[0m\u001b[0;34m,\u001b[0m \u001b[0mquery\u001b[0m\u001b[0;34m,\u001b[0m \u001b[0mfragment\u001b[0m \u001b[0;34m=\u001b[0m \u001b[0mparse_url\u001b[0m\u001b[0;34m(\u001b[0m\u001b[0murl\u001b[0m\u001b[0;34m)\u001b[0m\u001b[0;34m\u001b[0m\u001b[0;34m\u001b[0m\u001b[0m\n\u001b[1;32m    435\u001b[0m         \u001b[0;32mexcept\u001b[0m \u001b[0mLocationParseError\u001b[0m \u001b[0;32mas\u001b[0m \u001b[0me\u001b[0m\u001b[0;34m:\u001b[0m\u001b[0;34m\u001b[0m\u001b[0;34m\u001b[0m\u001b[0m\n\u001b[0;32m--> 436\u001b[0;31m             \u001b[0;32mraise\u001b[0m \u001b[0mInvalidURL\u001b[0m\u001b[0;34m(\u001b[0m\u001b[0;34m*\u001b[0m\u001b[0me\u001b[0m\u001b[0;34m.\u001b[0m\u001b[0margs\u001b[0m\u001b[0;34m)\u001b[0m\u001b[0;34m\u001b[0m\u001b[0;34m\u001b[0m\u001b[0m\n\u001b[0m\u001b[1;32m    437\u001b[0m \u001b[0;34m\u001b[0m\u001b[0m\n\u001b[1;32m    438\u001b[0m         \u001b[0;32mif\u001b[0m \u001b[0;32mnot\u001b[0m \u001b[0mscheme\u001b[0m\u001b[0;34m:\u001b[0m\u001b[0;34m\u001b[0m\u001b[0;34m\u001b[0m\u001b[0m\n",
      "\u001b[0;31mInvalidURL\u001b[0m: Failed to parse: https://physikunterricht-online.dejavascript:void(0);"
     ]
    }
   ],
   "source": [
    "emails_out = dict()\n",
    "for d in tqdm(counts.url_domain):\n",
    "    print(d)\n",
    "    emails_out[d] = get_emails(d)"
   ]
  },
  {
   "cell_type": "code",
   "execution_count": null,
   "id": "8500096f",
   "metadata": {},
   "outputs": [],
   "source": []
  }
 ],
 "metadata": {
  "kernelspec": {
   "display_name": "Python 3 (ipykernel)",
   "language": "python",
   "name": "python3"
  },
  "language_info": {
   "codemirror_mode": {
    "name": "ipython",
    "version": 3
   },
   "file_extension": ".py",
   "mimetype": "text/x-python",
   "name": "python",
   "nbconvert_exporter": "python",
   "pygments_lexer": "ipython3",
   "version": "3.7.11"
  }
 },
 "nbformat": 4,
 "nbformat_minor": 5
}
