{
 "cells": [
  {
   "cell_type": "code",
   "execution_count": 1,
   "id": "78dd2db6",
   "metadata": {},
   "outputs": [],
   "source": [
    "import sys\n",
    "sys.path.append('..')"
   ]
  },
  {
   "cell_type": "code",
   "execution_count": 2,
   "id": "88960207",
   "metadata": {},
   "outputs": [],
   "source": [
    "from elixier.fetcher import OERItemFetcher"
   ]
  },
  {
   "cell_type": "code",
   "execution_count": 3,
   "id": "a8a44332",
   "metadata": {},
   "outputs": [],
   "source": [
    "fetcher = OERItemFetcher()"
   ]
  },
  {
   "cell_type": "code",
   "execution_count": 4,
   "id": "86e5185e",
   "metadata": {},
   "outputs": [
    {
     "name": "stderr",
     "output_type": "stream",
     "text": [
      "/home/rsebastian/.anaconda3/envs/elixier/lib/python3.7/site-packages/cryptography/hazmat/backends/openssl/x509.py:17: CryptographyDeprecationWarning: This version of cryptography contains a temporary pyOpenSSL fallback path. Upgrade pyOpenSSL now.\n",
      "  utils.DeprecatedIn35,\n"
     ]
    }
   ],
   "source": [
    "df = fetcher.get_df()"
   ]
  },
  {
   "cell_type": "code",
   "execution_count": 5,
   "id": "66642464",
   "metadata": {},
   "outputs": [],
   "source": [
    "import pandas as pd"
   ]
  },
  {
   "cell_type": "code",
   "execution_count": 6,
   "id": "788cc324",
   "metadata": {},
   "outputs": [],
   "source": [
    "df.to_csv('../data/elixier_physics.csv')"
   ]
  },
  {
   "cell_type": "code",
   "execution_count": 7,
   "id": "f4390118",
   "metadata": {},
   "outputs": [
    {
     "data": {
      "text/plain": [
       "Aufgabe                                                                                                                                80\n",
       "Website; Text; Arbeitsblatt; Unterrichtsplanung                                                                                        15\n",
       "Audiovisuelles Medium; Arbeitsblatt; Unterrichtsplanung                                                                                12\n",
       "Audiovisuelles Medium; Grafik; Text; Arbeitsblatt; Unterrichtsplanung                                                                  11\n",
       "Audiovisuelles Medium; Website; Text; Arbeitsblatt; Unterrichtsplanung                                                                  6\n",
       "Audiovisuelles Medium; Text                                                                                                             5\n",
       "Text; Arbeitsblatt; Unterrichtsplanung                                                                                                  5\n",
       "Audiovisuelles Medium; Website; Text; Arbeitsblatt                                                                                      4\n",
       "Audiovisuelles Medium; Text; Arbeitsblatt                                                                                               3\n",
       "Audiovisuelles Medium; Text; Simulation                                                                                                 2\n",
       "Text                                                                                                                                    2\n",
       "Arbeitsblatt; Unterrichtsplanung                                                                                                        2\n",
       "Audiovisuelles Medium; Audiovisuelles Medium; Arbeitsblatt; Unterrichtsplanung                                                          1\n",
       "Audiovisuelles Medium; Website; Text                                                                                                    1\n",
       "Text; Webtool; Unterrichtsplanung                                                                                                       1\n",
       "Audiovisuelles Medium; Audiovisuelles Medium; Audiovisuelles Medium; Grafik; Karte; Website; Text; Arbeitsblatt; Unterrichtsplanung     1\n",
       "Arbeitsblatt                                                                                                                            1\n",
       "Audiovisuelles Medium; Audiovisuelles Medium; Website; Text; Arbeitsblatt                                                               1\n",
       "Audiovisuelles Medium; Audiovisuelles Medium; Grafik; Website; Text; Arbeitsblatt; Unterrichtsplanung                                   1\n",
       "Website; Unterrichtsplanung                                                                                                             1\n",
       "Audiovisuelles Medium; Audiovisuelles Medium; Text                                                                                      1\n",
       "Audiovisuelles Medium; Text; Unterrichtsplanung                                                                                         1\n",
       "Simulation                                                                                                                              1\n",
       "Audiovisuelles Medium; Audiovisuelles Medium; Text; Arbeitsblatt; Unterrichtsplanung                                                    1\n",
       "Unterrichtsplanung; Audiovisuelles Medium; software                                                                                     1\n",
       "Audiovisuelles Medium; Audiovisuelles Medium; Grafik; Website; Arbeitsblatt; Unterrichtsplanung                                         1\n",
       "Name: lernressourcentyp, dtype: int64"
      ]
     },
     "execution_count": 7,
     "metadata": {},
     "output_type": "execute_result"
    }
   ],
   "source": [
    "df.lernressourcentyp.value_counts()"
   ]
  },
  {
   "cell_type": "code",
   "execution_count": 9,
   "id": "18e75d3b",
   "metadata": {},
   "outputs": [
    {
     "data": {
      "text/plain": [
       "www.bildung-lsa.de            72\n",
       "digitallearninglab.de         21\n",
       "primas.ph-freiburg.de         17\n",
       "www.zauberhafte-physik.net    16\n",
       "www.science-on-stage.de       11\n",
       "www.compass-project.eu         4\n",
       "steinphysik.de                 3\n",
       "www.walter-fendt.de            2\n",
       "media.sodis.de                 1\n",
       "www2.hu-berlin.de              1\n",
       "turing-bus.de                  1\n",
       "mascil.ph-freiburg.de          1\n",
       "www.lehrer-online.de           1\n",
       "Name: domain, dtype: int64"
      ]
     },
     "execution_count": 9,
     "metadata": {},
     "output_type": "execute_result"
    }
   ],
   "source": [
    "df[~df.is_pdf].domain.value_counts()"
   ]
  },
  {
   "cell_type": "code",
   "execution_count": 51,
   "id": "345d77e9",
   "metadata": {},
   "outputs": [
    {
     "name": "stdout",
     "output_type": "stream",
     "text": [
      "https://digitallearninglab.de/unterrichtsbausteine/lichtbrechung-an-grenzflachen-mit-phet-animationen\n",
      "https://digitallearninglab.de/unterrichtsbausteine/nichtnewtonsche-flussigkeiten\n",
      "https://digitallearninglab.de/unterrichtsbausteine/fadenpendel\n",
      "https://digitallearninglab.de/unterrichtsbausteine/freier-fall\n",
      "https://digitallearninglab.de/unterrichtsbausteine/tanzende-maisstarke-schall-sichtbar-machen\n",
      "https://digitallearninglab.de/unterrichtsbausteine/hohenmessung-mithilfe-des-luftdrucks\n",
      "https://digitallearninglab.de/unterrichtsbausteine/bau-dir-dein-eigenes-hologramm\n",
      "https://digitallearninglab.de/unterrichtsbausteine/geschwindigkeit-eines-fuballs-mit-phyphox-messen\n",
      "https://digitallearninglab.de/unterrichtsbausteine/hebelgesetz-einseitiger-hebel\n",
      "https://digitallearninglab.de/unterrichtsbausteine/experiment-untersuchung-des-luftdrucks-innerhalb-e\n",
      "https://digitallearninglab.de/unterrichtsbausteine/gesetze-am-zweiseitigen-hebel\n",
      "https://digitallearninglab.de/unterrichtsbausteine/isotonische-getranke\n",
      "https://digitallearninglab.de/unterrichtsbausteine/bestimmung-der-schallgeschwindigkeit\n",
      "https://digitallearninglab.de/unterrichtsbausteine/akustische-bestimmung-der-erdbeschleunigung\n",
      "https://digitallearninglab.de/unterrichtsbausteine/wie-funktionieren-sprachnachrichten\n",
      "https://digitallearninglab.de/unterrichtsbausteine/halbwertszeit-und-zerfallsgesetz-bei-radioaktiven\n",
      "https://digitallearninglab.de/\n",
      "https://digitallearninglab.de/unterrichtsbausteine/isaac-newton-und-die-flieeigenschaften-von-flussig\n",
      "https://digitallearninglab.de/unterrichtsbausteine/wasserspeicherkapazitat-von-boden\n",
      "https://digitallearninglab.de/unterrichtsbausteine/was-macht-die-hefe-im-teig\n",
      "https://digitallearninglab.de/unterrichtsbausteine/was-bringt-den-hefeteig-zum-gehen\n"
     ]
    }
   ],
   "source": [
    "for url in oer_frame[oer_frame.url.str.contains('digitallearninglab.de')].url:\n",
    "    print(url)"
   ]
  }
 ],
 "metadata": {
  "kernelspec": {
   "display_name": "Python 3 (ipykernel)",
   "language": "python",
   "name": "python3"
  },
  "language_info": {
   "codemirror_mode": {
    "name": "ipython",
    "version": 3
   },
   "file_extension": ".py",
   "mimetype": "text/x-python",
   "name": "python",
   "nbconvert_exporter": "python",
   "pygments_lexer": "ipython3",
   "version": "3.7.11"
  }
 },
 "nbformat": 4,
 "nbformat_minor": 5
}
