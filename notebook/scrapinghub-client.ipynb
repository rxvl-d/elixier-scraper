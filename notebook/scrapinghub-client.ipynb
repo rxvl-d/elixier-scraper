{
 "cells": [
  {
   "cell_type": "code",
   "execution_count": 1,
   "id": "78dd2db6",
   "metadata": {},
   "outputs": [],
   "source": [
    "import sys\n",
    "sys.path.append('..')"
   ]
  },
  {
   "cell_type": "code",
   "execution_count": 2,
   "id": "88960207",
   "metadata": {},
   "outputs": [],
   "source": [
    "from elixier.fetcher import OERItemFetcher"
   ]
  },
  {
   "cell_type": "code",
   "execution_count": 3,
   "id": "a8a44332",
   "metadata": {},
   "outputs": [],
   "source": [
    "fetcher = OERItemFetcher()"
   ]
  },
  {
   "cell_type": "code",
   "execution_count": 4,
   "id": "86e5185e",
   "metadata": {},
   "outputs": [
    {
     "name": "stderr",
     "output_type": "stream",
     "text": [
      "/home/rsebastian/.anaconda3/envs/elixier/lib/python3.7/site-packages/cryptography/hazmat/backends/openssl/x509.py:17: CryptographyDeprecationWarning: This version of cryptography contains a temporary pyOpenSSL fallback path. Upgrade pyOpenSSL now.\n",
      "  utils.DeprecatedIn35,\n"
     ]
    }
   ],
   "source": [
    "df = fetcher.get_df()"
   ]
  },
  {
   "cell_type": "code",
   "execution_count": 5,
   "id": "66642464",
   "metadata": {},
   "outputs": [],
   "source": [
    "import pandas as pd"
   ]
  },
  {
   "cell_type": "code",
   "execution_count": 6,
   "id": "788cc324",
   "metadata": {},
   "outputs": [],
   "source": [
    "df.to_csv('../data/elixier_physics_all.csv')"
   ]
  },
  {
   "cell_type": "code",
   "execution_count": null,
   "id": "651f4f13",
   "metadata": {},
   "outputs": [],
   "source": []
  }
 ],
 "metadata": {
  "kernelspec": {
   "display_name": "Python 3 (ipykernel)",
   "language": "python",
   "name": "python3"
  },
  "language_info": {
   "codemirror_mode": {
    "name": "ipython",
    "version": 3
   },
   "file_extension": ".py",
   "mimetype": "text/x-python",
   "name": "python",
   "nbconvert_exporter": "python",
   "pygments_lexer": "ipython3",
   "version": "3.7.11"
  }
 },
 "nbformat": 4,
 "nbformat_minor": 5
}
