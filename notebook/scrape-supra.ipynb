{
 "cells": [
  {
   "cell_type": "code",
   "execution_count": 3,
   "id": "4166bfad",
   "metadata": {},
   "outputs": [],
   "source": [
    "import trafilatura as tf"
   ]
  },
  {
   "cell_type": "code",
   "execution_count": 4,
   "id": "5123d551",
   "metadata": {},
   "outputs": [],
   "source": [
    "from trafilatura.spider import focused_crawler"
   ]
  },
  {
   "cell_type": "code",
   "execution_count": 5,
   "id": "c6e850c8",
   "metadata": {},
   "outputs": [],
   "source": [
    "from trafilatura.sitemaps import sitemap_search"
   ]
  },
  {
   "cell_type": "code",
   "execution_count": 7,
   "id": "96cb6360",
   "metadata": {},
   "outputs": [],
   "source": [
    "from trafilatura.external import try_readability"
   ]
  },
  {
   "cell_type": "code",
   "execution_count": 8,
   "id": "3d01de64",
   "metadata": {},
   "outputs": [
    {
     "name": "stdout",
     "output_type": "stream",
     "text": [
      "Help on function focused_crawler in module trafilatura.spider:\n",
      "\n",
      "focused_crawler(homepage, max_seen_urls=10, max_known_urls=100000, todo=None, known_links=None, lang=None, config=<configparser.ConfigParser object at 0x7f411c165350>, rules=None)\n",
      "    Basic crawler targeting pages of interest within a website.\n",
      "    \n",
      "    Args:\n",
      "        homepage: URL of the page to first page to fetch, preferably the homepage of a website.\n",
      "        max_seen_urls: maximum number of pages to visit, stop iterations at this number or at the exhaustion of pages on the website, whichever comes first.\n",
      "        max_known_urls: stop if the total number of pages \"known\" exceeds this number.\n",
      "        todo: provide a previously generated list of pages to visit / crawl frontier, must be in collections.deque format.\n",
      "        known_links: provide a previously generated set of links.\n",
      "        lang: try to target links according to language heuristics.\n",
      "        config: use a different configuration (configparser format).\n",
      "        rules: provide politeness rules (urllib.robotparser.RobotFileParser() format). New in version 0.9.1.\n",
      "    \n",
      "    Returns:\n",
      "        List of pages to visit, deque format, possibly empty if there are no further pages to visit.\n",
      "        Set of known links.\n",
      "\n"
     ]
    }
   ],
   "source": [
    "help(focused_crawler)"
   ]
  },
  {
   "cell_type": "code",
   "execution_count": 9,
   "id": "4a98ac33",
   "metadata": {},
   "outputs": [
    {
     "name": "stderr",
     "output_type": "stream",
     "text": [
      "ERROR:trafilatura.downloads:not a 200 response: 404 for URL https://www.supra-lernplattform.de/index.php/lernfeld-zeit-a-geschichte\n"
     ]
    }
   ],
   "source": [
    "to_visit, known_urls = focused_crawler('https://www.supra-lernplattform.de/', max_seen_urls=1000, lang='de')"
   ]
  },
  {
   "cell_type": "code",
   "execution_count": 14,
   "id": "e2a1d44c",
   "metadata": {},
   "outputs": [],
   "source": [
    "with open('../data/supra_urls', 'a') as f:\n",
    "    [f.write(u + '\\n') for u in known_urls]"
   ]
  },
  {
   "cell_type": "code",
   "execution_count": 17,
   "id": "ba37088f",
   "metadata": {},
   "outputs": [],
   "source": [
    "import pandas as pd"
   ]
  },
  {
   "cell_type": "code",
   "execution_count": 26,
   "id": "a24470bf",
   "metadata": {},
   "outputs": [
    {
     "data": {
      "text/plain": [
       "sachinformationen-fuer-die-lehrkraft                12\n",
       "download-unterrichtsmaterial                        12\n",
       "fachdidaktische-informationen                        6\n",
       "fachdidaktische-informationen-fuer-die-lehrkraft     3\n",
       "zusaetzliche-angebote                                2\n",
       "                                                    ..\n",
       "magnetismus-einfuehrende-instruktion                 1\n",
       "kartesischer-taucher                                 1\n",
       "luftballonantrieb-rakete                             1\n",
       "einheit-7-schallausbreitung-in-luft-untersuchen      1\n",
       "einheit-6-wir-brauchen-luft-zum-atmen                1\n",
       "Length: 170, dtype: int64"
      ]
     },
     "execution_count": 26,
     "metadata": {},
     "output_type": "execute_result"
    }
   ],
   "source": [
    "pd.Series([u.split('/')[6] if len(u.split('/')) > 6 else None for u in known_urls]).value_counts()"
   ]
  },
  {
   "cell_type": "code",
   "execution_count": null,
   "id": "52c8a691",
   "metadata": {},
   "outputs": [],
   "source": []
  }
 ],
 "metadata": {
  "kernelspec": {
   "display_name": "Python 3 (ipykernel)",
   "language": "python",
   "name": "python3"
  },
  "language_info": {
   "codemirror_mode": {
    "name": "ipython",
    "version": 3
   },
   "file_extension": ".py",
   "mimetype": "text/x-python",
   "name": "python",
   "nbconvert_exporter": "python",
   "pygments_lexer": "ipython3",
   "version": "3.7.11"
  }
 },
 "nbformat": 4,
 "nbformat_minor": 5
}
