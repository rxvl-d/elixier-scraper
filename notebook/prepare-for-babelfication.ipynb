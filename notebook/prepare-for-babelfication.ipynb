{
 "cells": [
  {
   "cell_type": "code",
   "execution_count": 6,
   "id": "d356ce8d",
   "metadata": {},
   "outputs": [],
   "source": [
    "import pandas as pd\n",
    "import pickle"
   ]
  },
  {
   "cell_type": "code",
   "execution_count": 25,
   "id": "37556d8b",
   "metadata": {},
   "outputs": [],
   "source": [
    "oer = pd.read_csv('../data/elixier_physics_all.csv', index_col=0)"
   ]
  },
  {
   "cell_type": "code",
   "execution_count": 26,
   "id": "663b1a43",
   "metadata": {},
   "outputs": [
    {
     "data": {
      "text/plain": [
       "Index(['themenbereich', 'titel für schüler', 'ortsbezüge',\n",
       "       'lange beschreibung', 'herausgeber', 'anbieter', 'lernressourcentyp',\n",
       "       'lizenz', 'beschreibung für schüler', 'title', 'autor',\n",
       "       'kompletter titel', 'null', 'freie schlagwörter', 'position',\n",
       "       'bildungsebene', 'schlagwörter', 'höchstalter', 'sprache',\n",
       "       'description', 'geeignet für', 'mindestalter', 'url', 'domain',\n",
       "       'is_pdf'],\n",
       "      dtype='object')"
      ]
     },
     "execution_count": 26,
     "metadata": {},
     "output_type": "execute_result"
    }
   ],
   "source": [
    "oer.columns"
   ]
  },
  {
   "cell_type": "code",
   "execution_count": 27,
   "id": "60433307",
   "metadata": {},
   "outputs": [],
   "source": [
    "with open('../data/responses', 'rb') as f:\n",
    "    responses = pickle.load(f)"
   ]
  },
  {
   "cell_type": "code",
   "execution_count": 28,
   "id": "07cfc8dc",
   "metadata": {},
   "outputs": [],
   "source": [
    "success_mask = pd.Series(responses).\\\n",
    "    apply(lambda r: (not isinstance(r, Exception)) and\n",
    "          (r.status_code == 200))"
   ]
  },
  {
   "cell_type": "code",
   "execution_count": 29,
   "id": "42f038e6",
   "metadata": {},
   "outputs": [],
   "source": [
    "oer = oer[success_mask]"
   ]
  },
  {
   "cell_type": "code",
   "execution_count": 30,
   "id": "bf956f91",
   "metadata": {},
   "outputs": [],
   "source": [
    "text_columns = ['description',\n",
    "                'titel für schüler', \n",
    "                'lange beschreibung', \n",
    "                'beschreibung für schüler', \n",
    "                'schlagwörter', \n",
    "                'freie schlagwörter']"
   ]
  },
  {
   "cell_type": "code",
   "execution_count": 31,
   "id": "caea7eeb",
   "metadata": {},
   "outputs": [],
   "source": [
    "oer = oer[text_columns]"
   ]
  },
  {
   "cell_type": "code",
   "execution_count": null,
   "id": "a6d92a83",
   "metadata": {},
   "outputs": [],
   "source": [
    "description_split_words = ['Lernressourcentyp', 'margin-left', 'margin-right']"
   ]
  },
  {
   "cell_type": "code",
   "execution_count": 41,
   "id": "63bee95e",
   "metadata": {},
   "outputs": [],
   "source": [
    "def clean_description(desc):\n",
    "    if 'Lernressourcentyp' in desc:\n",
    "        return desc.split(';Lernressourcentyp')[0]\n",
    "    elif 'margin-' in desc: \n",
    "        return None\n",
    "    else:\n",
    "        return desc"
   ]
  },
  {
   "cell_type": "code",
   "execution_count": 43,
   "id": "c4331dc9",
   "metadata": {},
   "outputs": [],
   "source": [
    "descriptions = oer.description[oer.description.notna()].apply(clean_description)"
   ]
  },
  {
   "cell_type": "code",
   "execution_count": null,
   "id": "f1c73453",
   "metadata": {},
   "outputs": [],
   "source": [
    "grouper "
   ]
  },
  {
   "cell_type": "code",
   "execution_count": null,
   "id": "0f1c5192",
   "metadata": {},
   "outputs": [],
   "source": []
  },
  {
   "cell_type": "code",
   "execution_count": 22,
   "id": "c48a4408",
   "metadata": {},
   "outputs": [
    {
     "data": {
      "text/plain": [
       "Schall                   35\n",
       "Getriebe                 35\n",
       "Erfahrungslernen         34\n",
       "Kraftwandler             34\n",
       "Video                    32\n",
       "Geographie               32\n",
       "Universum                31\n",
       "Elektromagnetische       31\n",
       "Himmelskörper            30\n",
       "Gruppenarbeit            28\n",
       "LEARNLINE:               28\n",
       "Sachunterricht           27\n",
       "Sonnensystem             27\n",
       "Handreichung             25\n",
       "Digitalisierung          25\n",
       "Nachhaltigkeit           25\n",
       "Simulation               24\n",
       "Forschung                23\n",
       "Informatik               23\n",
       "Unterrichtsgestaltung    23\n",
       "Elementarteilchen        22\n",
       "Arbeitsblatt             22\n",
       "Smartphone               22\n",
       "Wetter                   21\n",
       "Stromerzeugung           21\n",
       "Kommunikation            21\n",
       "Grundschule              21\n",
       "Volkssternwarte          20\n",
       "Kernphysik               20\n",
       "Projekt                  20\n",
       "Umwelt                   20\n",
       "Musik                    19\n",
       "Klima                    19\n",
       "Gleichgewicht            19\n",
       "Lernmodul                19\n",
       "Elektronik               18\n",
       "Lichtausbreitung         18\n",
       "Wissenschaft             18\n",
       "Bionik                   18\n",
       "Unterrichtseinheit       18\n",
       "Schule                   18\n",
       "Handy                    18\n",
       "Strahlung                18\n",
       "Elektrotechnik           17\n",
       "Physik;                  17\n",
       "Wärme                    17\n",
       "Weltraum                 17\n",
       "Umweltschutz             16\n",
       "Arbeitstechnik           16\n",
       "Radioaktivität           16\n",
       "dtype: int64"
      ]
     },
     "execution_count": 22,
     "metadata": {},
     "output_type": "execute_result"
    }
   ],
   "source": [
    "oer[oer['schlagwörter'].notna()]['schlagwörter'].\\\n",
    "    apply(lambda x: pd.Series(x.split(' '))).stack().value_counts().\\\n",
    "    iloc[50: 100]"
   ]
  },
  {
   "cell_type": "code",
   "execution_count": null,
   "id": "df6f42b7",
   "metadata": {},
   "outputs": [],
   "source": []
  }
 ],
 "metadata": {
  "kernelspec": {
   "display_name": "Python 3 (ipykernel)",
   "language": "python",
   "name": "python3"
  },
  "language_info": {
   "codemirror_mode": {
    "name": "ipython",
    "version": 3
   },
   "file_extension": ".py",
   "mimetype": "text/x-python",
   "name": "python",
   "nbconvert_exporter": "python",
   "pygments_lexer": "ipython3",
   "version": "3.7.11"
  }
 },
 "nbformat": 4,
 "nbformat_minor": 5
}
