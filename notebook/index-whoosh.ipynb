{
 "cells": [
  {
   "cell_type": "code",
   "execution_count": 82,
   "id": "c70a7e11",
   "metadata": {},
   "outputs": [],
   "source": [
    "import os, os.path\n",
    "\n",
    "import whoosh\n",
    "from whoosh.fields import Schema, TEXT, KEYWORD, ID, STORED\n",
    "from whoosh.analysis import StemmingAnalyzer\n",
    "from whoosh import index\n",
    "import pandas as pd\n",
    "import shutil\n",
    "import re\n",
    "from tqdm import tqdm"
   ]
  },
  {
   "cell_type": "code",
   "execution_count": 83,
   "id": "068b516b",
   "metadata": {},
   "outputs": [],
   "source": [
    "df = pd.read_csv('../data/elixier_physics_all.csv', index_col=0)"
   ]
  },
  {
   "cell_type": "code",
   "execution_count": 84,
   "id": "eeec2839",
   "metadata": {},
   "outputs": [],
   "source": [
    "# Description analysis\n",
    "# nonna = df[df.description.notna()]\n",
    "# actual_ds = nonna.description.apply(lambda x: x.split(';')[0]) \n",
    "# word_count = actual_ds.apply(lambda x: len(x.split(' ')))\n",
    "# nonna[word_count < 10][['title', 'description']].apply(lambda x: x['title'] + ' : ' + x['description'], axis=1).values"
   ]
  },
  {
   "cell_type": "code",
   "execution_count": 85,
   "id": "8a0215bd",
   "metadata": {},
   "outputs": [],
   "source": [
    "def parse_description(desc):\n",
    "    if not pd.isna(desc):\n",
    "        return desc.split(';')[0]\n",
    "    return desc\n",
    "df['description'] = df.description.apply(parse_description)"
   ]
  },
  {
   "cell_type": "code",
   "execution_count": 86,
   "id": "079916bb",
   "metadata": {},
   "outputs": [],
   "source": [
    "def split_kws(kw):\n",
    "    try:\n",
    "        if pd.isna(kw):\n",
    "            return kw\n",
    "        else:\n",
    "            cleaned = re.sub(' ?Sekundarstufe II?', '', kw).replace(';', '')\n",
    "            phrases = []\n",
    "            if 'Deutsch als Zweitsprache' in cleaned:\n",
    "                phrases.append('Deutsch als Zweitsprache')\n",
    "                cleaned = cleaned.replace('Deutsch als Zweitsprache', '')\n",
    "            if 'Deutsch als Fremdsprache' in cleaned:\n",
    "                phrases.append('Deutsch als Fremdsprache')\n",
    "                cleaned = cleaned.replace('Deutsch als Fremdsprache', '')\n",
    "            return ','.join([p for p in cleaned.split(' ') if p] + phrases)\n",
    "    except Exception as e:\n",
    "        print(kw)\n",
    "        raise e\n",
    "\n",
    "df['schlagwörter'] = df['schlagwörter'].apply(split_kws)"
   ]
  },
  {
   "cell_type": "code",
   "execution_count": 87,
   "id": "3dde3c04",
   "metadata": {},
   "outputs": [],
   "source": [
    "from whoosh.fields import Schema, TEXT, KEYWORD, ID, STORED\n",
    "from whoosh.analysis import StemmingAnalyzer"
   ]
  },
  {
   "cell_type": "code",
   "execution_count": 88,
   "id": "04c72967",
   "metadata": {},
   "outputs": [],
   "source": [
    "schema = Schema(url=ID(stored=True),\n",
    "                title=TEXT(stored=True),\n",
    "                description=TEXT(stored=True),\n",
    "                keywords=KEYWORD(stored=True, \n",
    "                                 lowercase=True, \n",
    "                                 scorable=True, \n",
    "                                 commas=True))"
   ]
  },
  {
   "cell_type": "code",
   "execution_count": 89,
   "id": "cc5547c4",
   "metadata": {},
   "outputs": [],
   "source": [
    "from whoosh import index\n",
    "\n",
    "if os.path.exists(\"indexdir\"):\n",
    "    shutil.rmtree('indexdir')\n",
    "    os.mkdir(\"indexdir\")\n",
    "else:\n",
    "    os.mkdir(\"indexdir\")\n",
    "\n",
    "ix = index.create_in(\"indexdir\", schema)"
   ]
  },
  {
   "cell_type": "code",
   "execution_count": 90,
   "id": "549706fd",
   "metadata": {},
   "outputs": [],
   "source": [
    "writer = ix.writer()"
   ]
  },
  {
   "cell_type": "code",
   "execution_count": 91,
   "id": "5bacf023",
   "metadata": {},
   "outputs": [],
   "source": [
    "def handle_nan(value):\n",
    "    if pd.isna(value):\n",
    "        return None\n",
    "    return value"
   ]
  },
  {
   "cell_type": "code",
   "execution_count": 92,
   "id": "54dd9409",
   "metadata": {},
   "outputs": [
    {
     "name": "stderr",
     "output_type": "stream",
     "text": [
      "100%|███████████████████████████| 2899/2899 [00:01<00:00, 2610.23it/s]\n"
     ]
    }
   ],
   "source": [
    "for _, row in tqdm(df.iterrows(), total=df.shape[0]):\n",
    "    writer.add_document(\n",
    "        url=handle_nan(row['url']), \n",
    "        title=handle_nan(row['title']),\n",
    "        description=handle_nan(row['description']), \n",
    "        keywords=handle_nan(row['schlagwörter']))\n",
    "writer.commit()"
   ]
  },
  {
   "cell_type": "code",
   "execution_count": 93,
   "id": "a86ce835",
   "metadata": {},
   "outputs": [],
   "source": [
    "searcher=ix.searcher()"
   ]
  },
  {
   "cell_type": "code",
   "execution_count": null,
   "id": "dc0db4d8",
   "metadata": {},
   "outputs": [],
   "source": []
  },
  {
   "cell_type": "code",
   "execution_count": 95,
   "id": "6883f003",
   "metadata": {},
   "outputs": [
    {
     "name": "stdout",
     "output_type": "stream",
     "text": [
      "<Hit {'description': 'Die Beobachtung der Saturnringe mit eigenen Augen hinterlässt einen bleiben Eindruck. Auch der außergewöhnliche Mond Titan kann mit einfachen Mitteln beobachtet werden.', 'keywords': 'Astronomie,Planet,Beobachtung', 'title': 'Hinweise zur Saturnbeobachtung', 'url': 'http://www.lehrer-online.de/saturn.php'}>\n"
     ]
    }
   ],
   "source": [
    "from whoosh.qparser import QueryParser\n",
    "\n",
    "qp = QueryParser(\"description\", schema=ix.schema)\n",
    "q = qp.parse(u\"augen\")\n",
    "\n",
    "with ix.searcher() as s:\n",
    "    results = s.search(q)\n",
    "    print(results[0])\n",
    "    "
   ]
  },
  {
   "cell_type": "code",
   "execution_count": 96,
   "id": "3cdc92be",
   "metadata": {},
   "outputs": [
    {
     "name": "stdout",
     "output_type": "stream",
     "text": [
      "<Hit {'description': 'Satelliten liefern uns wichtige Informationen über das Klima und andere Umweltfragen. Sie untersuchen den \"Gesundheitszustand\" unseres Planeten Erde mit globaler Perspektive. Hier finden Schüler und Lehrer interessante Unterrichtsmaterialien zur Fernerkundung.', 'keywords': 'Fernerkundung,Satellit,Satellitenbild,Klimaforschung,Wettersatellit,Sensor,Wetterbeobachtung', 'title': 'Mit Satelliten-Augen', 'url': 'https://www.dlr.de/next/desktopdefault.aspx/tabid-7173/11936_read-28173/'}>\n"
     ]
    }
   ],
   "source": [
    "from whoosh.qparser import MultifieldParser\n",
    "\n",
    "mparser = MultifieldParser([\"title\", \"description\", \"keywords\"], \n",
    "                           schema=ix.schema)\n",
    "q = mparser.parse('augen')\n",
    "\n",
    "with ix.searcher() as s:\n",
    "    results = s.search(q)\n",
    "    print(results[0])"
   ]
  },
  {
   "cell_type": "code",
   "execution_count": 103,
   "id": "0adcd5a3",
   "metadata": {},
   "outputs": [
    {
     "name": "stdout",
     "output_type": "stream",
     "text": [
      "['dichte', 'auftriebs', 'lkw', 'modell', 'ein']\n"
     ]
    }
   ],
   "source": [
    "with ix.searcher() as s:\n",
    "    docnums = s.document_numbers(description='dichte')\n",
    "    keywords = [keyword for keyword, score\n",
    "                in s.key_terms(docnums, \"description\")]\n",
    "    print(keywords)"
   ]
  },
  {
   "cell_type": "code",
   "execution_count": null,
   "id": "fee42be9",
   "metadata": {},
   "outputs": [],
   "source": []
  }
 ],
 "metadata": {
  "kernelspec": {
   "display_name": "Python 3 (ipykernel)",
   "language": "python",
   "name": "python3"
  },
  "language_info": {
   "codemirror_mode": {
    "name": "ipython",
    "version": 3
   },
   "file_extension": ".py",
   "mimetype": "text/x-python",
   "name": "python",
   "nbconvert_exporter": "python",
   "pygments_lexer": "ipython3",
   "version": "3.7.11"
  }
 },
 "nbformat": 4,
 "nbformat_minor": 5
}
