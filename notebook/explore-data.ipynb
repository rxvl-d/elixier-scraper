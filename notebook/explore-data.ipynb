{
 "cells": [
  {
   "cell_type": "code",
   "execution_count": 1,
   "id": "e0d8b303",
   "metadata": {},
   "outputs": [],
   "source": [
    "import pandas as pd\n",
    "import pickle\n",
    "import requests"
   ]
  },
  {
   "cell_type": "code",
   "execution_count": 2,
   "id": "3d1e9886",
   "metadata": {},
   "outputs": [],
   "source": [
    "df = pd.read_csv('../data/elixier_physics_all.csv', index_col=0)"
   ]
  },
  {
   "cell_type": "code",
   "execution_count": 17,
   "id": "973d0e17",
   "metadata": {},
   "outputs": [
    {
     "data": {
      "text/plain": [
       "0       Astronomie Planet Sekundarstufe I Sekundarstuf...\n",
       "1       Physik Astronomie Planet Himmelskörper Sekunda...\n",
       "2       Physik Elektrizität Sekundarstufe I Elektrizit...\n",
       "3                     Physik Wellenlehre Sekundarstufe II\n",
       "4                                     Lernsoftware Physik\n",
       "                              ...                        \n",
       "2894    Zeitschrift Forscher Forschung Müll Abfall Mee...\n",
       "2895    Deutsch als Zweitsprache Deutsch als Fremdspra...\n",
       "2896    Zeitschrift Forscher Forschung Stadt Nahrung L...\n",
       "2897                         Ökologie Grundschule Technik\n",
       "2898                                           Lehrmittel\n",
       "Name: schlagwörter, Length: 2899, dtype: object"
      ]
     },
     "execution_count": 17,
     "metadata": {},
     "output_type": "execute_result"
    }
   ],
   "source": [
    "df['schlagwörter']"
   ]
  },
  {
   "cell_type": "code",
   "execution_count": 3,
   "id": "c7cac415",
   "metadata": {},
   "outputs": [
    {
     "name": "stdout",
     "output_type": "stream",
     "text": [
      "0.00% N/a for is_pdf\n",
      "0.00% N/a for position\n",
      "0.00% N/a for themenbereich\n",
      "0.00% N/a for title\n",
      "0.00% N/a for url\n",
      "0.10% N/a for geeignet für\n",
      "0.21% N/a for sprache\n",
      "2.17% N/a for domain\n",
      "2.45% N/a for description\n",
      "5.45% N/a for lizenz\n",
      "14.83% N/a for schlagwörter\n",
      "23.97% N/a for freie schlagwörter\n",
      "28.22% N/a for bildungsebene\n",
      "42.12% N/a for autor\n",
      "45.15% N/a for lernressourcentyp\n",
      "56.26% N/a for anbieter\n",
      "62.68% N/a for mindestalter\n",
      "62.75% N/a for höchstalter\n",
      "87.41% N/a for lange beschreibung\n",
      "98.17% N/a for beschreibung für schüler\n",
      "98.55% N/a for titel für schüler\n",
      "98.62% N/a for ortsbezüge\n",
      "99.45% N/a for null\n",
      "99.90% N/a for herausgeber\n",
      "99.97% N/a for kompletter titel\n"
     ]
    }
   ],
   "source": [
    "na_counts = [(df[df[column].isna()].shape[0] / df.shape[0], column) for column in df.columns]\n",
    "\n",
    "for pct_na, column in sorted(na_counts):\n",
    "    print(\"%.2f%% N/a for %s\" % (pct_na * 100, column))"
   ]
  },
  {
   "cell_type": "code",
   "execution_count": 21,
   "id": "b38264dc",
   "metadata": {},
   "outputs": [
    {
     "data": {
      "text/plain": [
       "1.0"
      ]
     },
     "execution_count": 21,
     "metadata": {},
     "output_type": "execute_result"
    }
   ],
   "source": [
    "df['url'].nunique() / df.shape[0]"
   ]
  },
  {
   "cell_type": "code",
   "execution_count": 4,
   "id": "91be4e7b",
   "metadata": {},
   "outputs": [
    {
     "data": {
      "text/plain": [
       "arbeitsblatt                                           606\n",
       "unterrichtsplanung                                     428\n",
       "text                                                   374\n",
       "audiovisuelles medium                                  357\n",
       "website                                                218\n",
       "simulation                                             102\n",
       "aufgabe                                                 80\n",
       "grafik                                                  67\n",
       "interaktives material                                   54\n",
       "primärmaterial/quelle                                   50\n",
       "arbeitsmaterial                                         47\n",
       "lernkontrolle                                           32\n",
       "portal                                                  21\n",
       "select: lernkontrolle                                   21\n",
       "projekt                                                 16\n",
       "anwendung/software                                      14\n",
       "bild/grafik                                             14\n",
       "hessischer bildungsserver: lernkontrolle                13\n",
       "karte                                                   13\n",
       "webtool                                                 10\n",
       "video/animation                                          9\n",
       "daten                                                    7\n",
       "kurs/onlinekurs/virtuelles seminar/mooc/web-seminar      7\n",
       "deutscher bildungsserver: primärmaterial/quelle          7\n",
       "learnline: website                                       7\n",
       "deutscher bildungsserver: arbeitsblatt                   6\n",
       "nachschlagewerk                                          6\n",
       "6                                                        5\n",
       "arbeitsblatt (druckbar)                                  4\n",
       "learnline: audiovisuelles medium                         3\n",
       "3                                                        2\n",
       "leitfaden / hintergrundinfo                              2\n",
       "lernspiel                                                2\n",
       "sachinformation                                          2\n",
       "lernmaterial                                             2\n",
       "software                                                 2\n",
       "learnline: text                                          2\n",
       "learnline: simulation                                    1\n",
       "learnline: arbeitsblatt                                  1\n",
       "5                                                        1\n",
       "software (anwendung oder lehr- und lernsoftware)         1\n",
       "lösungsblatt                                             1\n",
       "anderer ressourcentyp                                    1\n",
       "projekt / projektidee                                    1\n",
       "didaktisch-methodischer hinweis                          1\n",
       "selbstlerneinheit                                        1\n",
       "grafik (interaktiv)                                      1\n",
       "deutscher bildungsserver: anwendung/software             1\n",
       "anderer lernort                                          1\n",
       "webquest                                                 1\n",
       "dtype: int64"
      ]
     },
     "execution_count": 4,
     "metadata": {},
     "output_type": "execute_result"
    }
   ],
   "source": [
    "df.lernressourcentyp.apply(lambda l: [w.strip().lower() for w in l.split(';')] if type(l) == str else []).apply(pd.Series).stack().reset_index(drop=True).value_counts().iloc[:50]"
   ]
  },
  {
   "cell_type": "code",
   "execution_count": 5,
   "id": "f6fa1c71",
   "metadata": {},
   "outputs": [
    {
     "data": {
      "text/plain": [
       "0       Lehrer; Schüler\n",
       "1       Lehrer; Schüler\n",
       "2       Lehrer; Schüler\n",
       "3       Lehrer; Schüler\n",
       "4       Lehrer; Schüler\n",
       "             ...       \n",
       "2894            Schüler\n",
       "2895    Schüler; Lehrer\n",
       "2896            Schüler\n",
       "2897    Lehrer; Schüler\n",
       "2898    Lehrer; Schüler\n",
       "Name: geeignet für, Length: 2899, dtype: object"
      ]
     },
     "execution_count": 5,
     "metadata": {},
     "output_type": "execute_result"
    }
   ],
   "source": [
    "df['geeignet für']"
   ]
  },
  {
   "cell_type": "code",
   "execution_count": 6,
   "id": "5bf97c83",
   "metadata": {},
   "outputs": [],
   "source": [
    "df['age_range'] = list(zip(df.mindestalter, df['höchstalter']))"
   ]
  },
  {
   "cell_type": "code",
   "execution_count": 7,
   "id": "80c58e9c",
   "metadata": {},
   "outputs": [
    {
     "data": {
      "text/plain": [
       "(nan, nan)                                1817\n",
       "(6, 15)                                    244\n",
       "(10, 18)                                   210\n",
       "(16, 18)                                    94\n",
       "(10, 15)                                    90\n",
       "(Lehrer Online: 10, Lehrer Online: 18)      53\n",
       "(6, 9)                                      41\n",
       "(6, 18)                                     40\n",
       "(22, 22)                                    32\n",
       "(12, 16)                                    28\n",
       "Name: age_range, dtype: int64"
      ]
     },
     "execution_count": 7,
     "metadata": {},
     "output_type": "execute_result"
    }
   ],
   "source": [
    "df.age_range.value_counts()[:10]"
   ]
  },
  {
   "cell_type": "code",
   "execution_count": 8,
   "id": "4c5f9a4c",
   "metadata": {},
   "outputs": [],
   "source": [
    "import numpy as np"
   ]
  },
  {
   "cell_type": "code",
   "execution_count": 9,
   "id": "a43931ea",
   "metadata": {},
   "outputs": [
    {
     "data": {
      "text/plain": [
       "0.3732321490169024"
      ]
     },
     "execution_count": 9,
     "metadata": {},
     "output_type": "execute_result"
    }
   ],
   "source": [
    "df[df.age_range != (np.nan, np.nan)].shape[0] / df.shape[0]"
   ]
  },
  {
   "cell_type": "code",
   "execution_count": 10,
   "id": "8f68fb5e",
   "metadata": {},
   "outputs": [
    {
     "data": {
      "text/plain": [
       "1.0"
      ]
     },
     "execution_count": 10,
     "metadata": {},
     "output_type": "execute_result"
    }
   ],
   "source": [
    "df[df.age_range.apply(lambda x: bool(x[0] and x[1]))].shape[0] / df.shape[0]"
   ]
  },
  {
   "cell_type": "code",
   "execution_count": 11,
   "id": "8ba70030",
   "metadata": {},
   "outputs": [
    {
     "data": {
      "text/plain": [
       "0       Sekundarstufe I Sekundarstufe II\n",
       "1       Sekundarstufe I Sekundarstufe II\n",
       "2                        Sekundarstufe I\n",
       "3       Sekundarstufe I Sekundarstufe II\n",
       "4       Sekundarstufe I Sekundarstufe II\n",
       "                      ...               \n",
       "2894         Primarstufe Sekundarstufe I\n",
       "2895         Primarstufe Sekundarstufe I\n",
       "2896         Primarstufe Sekundarstufe I\n",
       "2897    Sekundarstufe I Sekundarstufe II\n",
       "2898    Sekundarstufe I Sekundarstufe II\n",
       "Name: bildungsebene, Length: 2899, dtype: object"
      ]
     },
     "execution_count": 11,
     "metadata": {},
     "output_type": "execute_result"
    }
   ],
   "source": [
    "df.bildungsebene"
   ]
  },
  {
   "cell_type": "code",
   "execution_count": 12,
   "id": "8a077de7",
   "metadata": {},
   "outputs": [],
   "source": [
    "bildungsebene = [be.lower() for be in [\n",
    "    \"Sekundarstufe I\", # (1645)\n",
    "    \"Sekundarstufe II\", # (1118)\n",
    "    \"Primarstufe\", # (426)\n",
    "    \"Hochschule\", # (85)\n",
    "    \"Berufliche Bildung\", # (68)\n",
    "    \"Elementarbildung\", # (28)\n",
    "    \"Fort- und Weiterbildung\" # (27)\n",
    "]]"
   ]
  },
  {
   "cell_type": "code",
   "execution_count": 13,
   "id": "61650275",
   "metadata": {},
   "outputs": [],
   "source": [
    "bildungsebene_clean = []\n",
    "for val in df.bildungsebene:\n",
    "    if type(val) == str:\n",
    "        str_out = []\n",
    "        val_lower = val.lower()\n",
    "        for be in bildungsebene:\n",
    "            if be in val_lower:\n",
    "                str_out.append(be)\n",
    "        bildungsebene_clean.append(str_out)\n",
    "    else:\n",
    "        bildungsebene_clean.append([])\n",
    "df['bildungsebene_clean'] = bildungsebene_clean"
   ]
  },
  {
   "cell_type": "code",
   "execution_count": 14,
   "id": "ae18125d",
   "metadata": {},
   "outputs": [
    {
     "data": {
      "text/plain": [
       "sekundarstufe i            2002\n",
       "sekundarstufe ii           1109\n",
       "primarstufe                 422\n",
       "hochschule                   80\n",
       "berufliche bildung           67\n",
       "fort- und weiterbildung      27\n",
       "elementarbildung             23\n",
       "dtype: int64"
      ]
     },
     "execution_count": 14,
     "metadata": {},
     "output_type": "execute_result"
    }
   ],
   "source": [
    "df.bildungsebene_clean.apply(pd.Series).stack().reset_index(drop=True).value_counts()"
   ]
  },
  {
   "cell_type": "code",
   "execution_count": null,
   "id": "2300fd27",
   "metadata": {},
   "outputs": [],
   "source": []
  },
  {
   "cell_type": "code",
   "execution_count": 35,
   "id": "daf99852",
   "metadata": {},
   "outputs": [
    {
     "data": {
      "text/plain": [
       "False    2729\n",
       "True      170\n",
       "Name: is_pdf, dtype: int64"
      ]
     },
     "execution_count": 35,
     "metadata": {},
     "output_type": "execute_result"
    }
   ],
   "source": [
    "df.is_pdf.value_counts()"
   ]
  },
  {
   "cell_type": "code",
   "execution_count": 36,
   "id": "d2dfb06e",
   "metadata": {},
   "outputs": [
    {
     "data": {
      "text/plain": [
       "www.leifiphysik.de            821\n",
       "www.lehrer-online.de          636\n",
       "www.supra-lernplattform.de     92\n",
       "www.planet-schule.de           74\n",
       "www.bildung-lsa.de             72\n",
       "                             ... \n",
       "www.hyaden.de                   1\n",
       "www2.hu-berlin.de               1\n",
       "www.agcom.uni-bremen.de         1\n",
       "supermint.de                    1\n",
       "vimeo.com                       1\n",
       "Name: domain, Length: 344, dtype: int64"
      ]
     },
     "execution_count": 36,
     "metadata": {},
     "output_type": "execute_result"
    }
   ],
   "source": [
    "df[~df.is_pdf].domain.value_counts()"
   ]
  },
  {
   "cell_type": "code",
   "execution_count": 10,
   "id": "792c1fff",
   "metadata": {},
   "outputs": [
    {
     "name": "stdout",
     "output_type": "stream",
     "text": [
      "http://www.supra-lernplattform.de/index.php/lernfeld-natur-und-technik/verbrennung/einheit-1-feuer\n",
      "http://www.supra-lernplattform.de/index.php/lernfeld-natur-und-technik/warm-kalt/warm-kalt-zusatzangebot\n",
      "http://www.supra-lernplattform.de/index.php/lernfeld-natur-und-technik/spiegel/einheit-6-spiegelsymmetrie\n",
      "http://www.supra-lernplattform.de/index.php/lernfeld-natur-und-technik/schall/einheit-11-aufbau-und-funktion-des-ohres\n",
      "http://www.supra-lernplattform.de/index.php/lernfeld-natur-und-technik/verbrennung/sachinformationen-fuer-die-lehrkraft\n"
     ]
    }
   ],
   "source": [
    "for url in df[df.url.str.contains('supra-lernplattform')].url[:5]:\n",
    "    print(url)"
   ]
  },
  {
   "cell_type": "code",
   "execution_count": 11,
   "id": "e6efa585",
   "metadata": {},
   "outputs": [
    {
     "name": "stdout",
     "output_type": "stream",
     "text": [
      "https://www.planet-schule.de/wissenspool/total-phaenomenal-technik/inhalt/unterricht/strahlen-schaffen-durchblick.html\n",
      "http://www.planet-schule.de/sf/multimedia-simulationen-detail.php?projekt=blindenschrift\n",
      "http://www.planet-schule.de/wissenspool/achtung-experiment/inhalt/2-sendungsstaffel/der-begehbare-regenbogen.html\n",
      "http://www.planet-schule.de/sf/multimedia-simulationen-detail.php?projekt=hebelwirkung\n",
      "http://www.planet-schule.de/sf/multimedia-lernspiele-detail.php?projekt=raumschiff_stargaze\n"
     ]
    }
   ],
   "source": [
    "for url in df[df.url.str.contains('planet-schule.de')].url[:5]:\n",
    "    print(url)"
   ]
  },
  {
   "cell_type": "code",
   "execution_count": 39,
   "id": "cce235e6",
   "metadata": {},
   "outputs": [],
   "source": [
    "with open('../data/responses', 'rb') as f:\n",
    "    responses = pickle.load(f)"
   ]
  },
  {
   "cell_type": "code",
   "execution_count": 42,
   "id": "39cc896c",
   "metadata": {},
   "outputs": [
    {
     "data": {
      "text/plain": [
       "2899"
      ]
     },
     "execution_count": 42,
     "metadata": {},
     "output_type": "execute_result"
    }
   ],
   "source": [
    "len(responses)"
   ]
  },
  {
   "cell_type": "code",
   "execution_count": 43,
   "id": "1222f6c5",
   "metadata": {},
   "outputs": [],
   "source": [
    "df['responses'] = responses"
   ]
  },
  {
   "cell_type": "code",
   "execution_count": 45,
   "id": "907d7248",
   "metadata": {},
   "outputs": [
    {
     "data": {
      "text/plain": [
       "requests.models.Response"
      ]
     },
     "execution_count": 45,
     "metadata": {},
     "output_type": "execute_result"
    }
   ],
   "source": [
    "type(df.responses.iloc[0])"
   ]
  },
  {
   "cell_type": "code",
   "execution_count": 57,
   "id": "cd0a141d",
   "metadata": {},
   "outputs": [],
   "source": [
    "successul_responses = df[df.responses.apply(lambda r: type(r) == requests.models.Response)]\n",
    "successul_responses = successul_responses[successul_responses.responses.apply(lambda r: r.status_code) == 200]"
   ]
  },
  {
   "cell_type": "code",
   "execution_count": 71,
   "id": "3d4d95cc",
   "metadata": {},
   "outputs": [],
   "source": [
    "successul_responses['content_type'] = successul_responses.responses.apply(lambda r: r.headers['Content-Type']).\\\n",
    "    apply(lambda ct: ct.lower().replace('charset=utf-8', '').strip().replace(';', '').strip())"
   ]
  },
  {
   "cell_type": "code",
   "execution_count": 72,
   "id": "f39017a5",
   "metadata": {},
   "outputs": [
    {
     "data": {
      "text/plain": [
       "0.9603311486719558"
      ]
     },
     "execution_count": 72,
     "metadata": {},
     "output_type": "execute_result"
    }
   ],
   "source": [
    "successul_responses.shape[0] / df.shape[0]"
   ]
  },
  {
   "cell_type": "code",
   "execution_count": 74,
   "id": "8c42a545",
   "metadata": {},
   "outputs": [
    {
     "data": {
      "text/plain": [
       "text/html                                                                  2530\n",
       "application/pdf                                                             160\n",
       "audio/mpeg                                                                   29\n",
       "text/html charset=iso-8859-1                                                 28\n",
       "application/vnd.openxmlformats-officedocument.wordprocessingml.document      14\n",
       "application/zip                                                              13\n",
       "application/octet-stream                                                      3\n",
       "application/x-shockwave-flash                                                 2\n",
       "image/jpeg                                                                    2\n",
       "application/x-msdos-program                                                   1\n",
       "text/htmlcharset=iso-8859-1                                                   1\n",
       "image/gif                                                                     1\n",
       "Name: content_type, dtype: int64"
      ]
     },
     "execution_count": 74,
     "metadata": {},
     "output_type": "execute_result"
    }
   ],
   "source": [
    "successul_responses.content_type.value_counts()"
   ]
  },
  {
   "cell_type": "code",
   "execution_count": 77,
   "id": "6d70192f",
   "metadata": {},
   "outputs": [
    {
     "data": {
      "text/plain": [
       "www.leifiphysik.de                        821\n",
       "www.lehrer-online.de                      636\n",
       "www.supra-lernplattform.de                 92\n",
       "www.bildung-lsa.de                         80\n",
       "www.planet-schule.de                       57\n",
       "de.wikipedia.org                           55\n",
       "www.abi-physik.de                          53\n",
       "www.zum.de                                 33\n",
       "www.komm-mach-mint.de                      26\n",
       "www.heise.de                               26\n",
       "digitallearninglab.de                      21\n",
       "www.dlr.de                                 20\n",
       "primas.ph-freiburg.de                      17\n",
       "www.science-on-stage.de                    16\n",
       "www.esa.int                                16\n",
       "www.zauberhafte-physik.net                 16\n",
       "www.wissenschaftsjahr.de                   15\n",
       "lernarchiv.bildung.hessen.de               13\n",
       "blogs.helmholtz.de                         13\n",
       "www.bildungsserver.de                      10\n",
       "www.wissenschaft-schulen.de                 9\n",
       "physikaufgaben.de                           8\n",
       "www.tempolimit-lichtgeschwindigkeit.de      8\n",
       "physikforkids.de                            8\n",
       "mint-zirkel.de                              8\n",
       "wiki.zum.de                                 8\n",
       "www.walter-fendt.de                         8\n",
       "virtuelle-experimente.de                    7\n",
       "www.roentgenmuseum.de                       7\n",
       "www.meine-forscherwelt.de                   6\n",
       "esero.de                                    5\n",
       "www.dguv-lug.de                             5\n",
       "www.youtube.com                             5\n",
       "platform.govie.de                           5\n",
       "www.unterrichtsmaterial-schule.de           5\n",
       "www.schulentwicklung.nrw.de                 5\n",
       "medienportal.siemens-stiftung.org           5\n",
       "www.didaktik.physik.uni-muenchen.de         5\n",
       "www.compass-project.eu                      4\n",
       "physikunterricht-online.de                  4\n",
       "idw-online.de                               4\n",
       "www.kindernetz.de                           4\n",
       "wikis.zum.de                                4\n",
       "www.fis.uni-bonn.de                         4\n",
       "www.physik-am-auto.de                       4\n",
       "physik.uibk.ac.at                           4\n",
       "www.schule-bw.de                            3\n",
       "steinphysik.de                              3\n",
       "www.geo.de                                  3\n",
       "www.medien-in-die-schule.de                 3\n",
       "Name: domain, dtype: int64"
      ]
     },
     "execution_count": 77,
     "metadata": {},
     "output_type": "execute_result"
    }
   ],
   "source": [
    "successul_responses[successul_responses.content_type == 'text/html'].domain.value_counts().iloc[:50]"
   ]
  },
  {
   "cell_type": "code",
   "execution_count": 87,
   "id": "cca6e00e",
   "metadata": {},
   "outputs": [
    {
     "name": "stdout",
     "output_type": "stream",
     "text": [
      "0.9926918392204629\n"
     ]
    }
   ],
   "source": [
    "leifi = successul_responses[successul_responses.domain == 'www.leifiphysik.de']\n",
    "print(leifi[leifi.bildungsebene.isna()].shape[0] / leifi.shape[0])"
   ]
  },
  {
   "cell_type": "code",
   "execution_count": 96,
   "id": "6dd5554a",
   "metadata": {},
   "outputs": [],
   "source": [
    "from trafilatura.spider import focused_crawler"
   ]
  },
  {
   "cell_type": "code",
   "execution_count": 95,
   "id": "47e45b44",
   "metadata": {},
   "outputs": [
    {
     "data": {
      "text/plain": [
       "0           http://www.lehrer-online.de/neptun-uranus.php\n",
       "1       http://www.lehrer-online.de/venustransit-2004.php\n",
       "2       http://www.lehrer-online.de/virtuelle-elektriz...\n",
       "3             http://www.lehrer-online.de/wellenwanne.php\n",
       "4                  http://www.lehrer-online.de/physix.php\n",
       "                              ...                        \n",
       "2890    https://wissenschaftsjahr-2020.visionkino.de/2...\n",
       "2891    https://wissenschaftsjahr-2020.visionkino.de/a...\n",
       "2893    https://platform.govie.de/share/Z8qYGMWSRwiDAm...\n",
       "2897     http://www.lehrer-online.de/energiespiel2010.php\n",
       "2898    http://www.lehrer-online.de/wiimote-whiteboard...\n",
       "Name: url, Length: 2530, dtype: object"
      ]
     },
     "execution_count": 95,
     "metadata": {},
     "output_type": "execute_result"
    }
   ],
   "source": [
    "for url in successul_responses[successul_responses.content_type == 'text/html'].url:\n",
    "    focused_crawler()"
   ]
  },
  {
   "cell_type": "code",
   "execution_count": null,
   "id": "ca8f32a2",
   "metadata": {},
   "outputs": [],
   "source": []
  }
 ],
 "metadata": {
  "kernelspec": {
   "display_name": "Python 3 (ipykernel)",
   "language": "python",
   "name": "python3"
  },
  "language_info": {
   "codemirror_mode": {
    "name": "ipython",
    "version": 3
   },
   "file_extension": ".py",
   "mimetype": "text/x-python",
   "name": "python",
   "nbconvert_exporter": "python",
   "pygments_lexer": "ipython3",
   "version": "3.7.11"
  }
 },
 "nbformat": 4,
 "nbformat_minor": 5
}
